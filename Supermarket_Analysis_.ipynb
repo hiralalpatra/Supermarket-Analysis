{
  "nbformat": 4,
  "nbformat_minor": 0,
  "metadata": {
    "colab": {
      "provenance": []
    },
    "kernelspec": {
      "name": "python3",
      "display_name": "Python 3"
    },
    "language_info": {
      "name": "python"
    }
  },
  "cells": [
    {
      "cell_type": "code",
      "execution_count": null,
      "metadata": {
        "id": "FMQeakV5j8vu"
      },
      "outputs": [],
      "source": [
        "import pandas as pd\n",
        "import numpy as np\n",
        "import matplotlib.pyplot as plt\n",
        "import seaborn as sns\n"
      ]
    },
    {
      "cell_type": "code",
      "source": [
        "plt.rcParams[\"figure.figsize\"]=(10,5)"
      ],
      "metadata": {
        "id": "3g4NWq4JFgS1"
      },
      "execution_count": null,
      "outputs": []
    },
    {
      "cell_type": "markdown",
      "source": [
        "# **EDA -Supermarket Sales**\n",
        "\n",
        "### **1.Introduction-**\n",
        "Important decisions are influenced by the data drive insights.We will explore the trasanction level  data sales  data of Supermarket chain, and drive useful business insights.\n",
        "### **2.Objective-**\n",
        "The Supermarket chain wants to run  some promotions and they have a fixed budget for the same.Business wants insights from the data on how to most efficiently allocate these funds.\n",
        "\n",
        "The obejctives are as following-\n",
        "\n",
        "provide insights to marketing head for allocating funds.the funds should be allocated in such a way so that the promotional return can be maximized.\n",
        "\n",
        "# **About Data**\n",
        "-The Data belongs to a supermarket chain in myanmar,with stores in 3 cities.\n",
        "\n",
        "-This is a sampled data of 1000 transactions and 20 fields for each traction.\n",
        "\n",
        "-All transactions belong to year 2019.\n"
      ],
      "metadata": {
        "id": "4vqMLhA5ESz2"
      }
    },
    {
      "cell_type": "markdown",
      "source": [
        "# **Data Dictionary**\n",
        "\n",
        "Reading data dictionary,"
      ],
      "metadata": {
        "id": "7PwZfqPUT1oL"
      }
    },
    {
      "cell_type": "code",
      "source": [
        "data_dict=pd.read_csv(\"/content/data_dict.csv\")\n",
        "data_dict"
      ],
      "metadata": {
        "colab": {
          "base_uri": "https://localhost:8080/",
          "height": 677
        },
        "id": "Fol2LzvKUWgm",
        "outputId": "40e20787-f962-40db-d56e-1161b705741c"
      },
      "execution_count": null,
      "outputs": [
        {
          "output_type": "execute_result",
          "data": {
            "text/plain": [
              "            Field                                        Description\n",
              "0      Invoice ID                      Invoice ID of the transaction\n",
              "1         Branch   One out of 3 branches. Every city belongs to a...\n",
              "2      CustomerID       Customer ID of the cutomer doing transaction\n",
              "3            City  City where the tx took place. The chain has st...\n",
              "4   Customer Type                  Where a member or normal customer\n",
              "5          Gender                                     Male or Female\n",
              "6    Product Line              Product line of the product purchased\n",
              "7      Unit Price                    Unit price of product purchased\n",
              "8        Quantity                                      Qty purchased\n",
              "9          Tax 5%                        Tax as a fixed % of invoice\n",
              "10          Total                               Total Invoice amount\n",
              "11           Date                                         Date of tx\n",
              "12           Time                                         Time of tx\n",
              "13        Payment                                       Payment mode\n",
              "14           cogs                                 Cost of goods sold\n",
              "15   gross margin                                           Margin %\n",
              "16   gross income                                      Margin amount\n",
              "17         Rating                       Rating given by cx out of 10\n",
              "18      Longitude                          Geo field for tx location\n",
              "19       Latitude                          Geo field for tx location"
            ],
            "text/html": [
              "\n",
              "  <div id=\"df-eadbc6a8-9b2e-40ae-a55e-2bfc2822823a\">\n",
              "    <div class=\"colab-df-container\">\n",
              "      <div>\n",
              "<style scoped>\n",
              "    .dataframe tbody tr th:only-of-type {\n",
              "        vertical-align: middle;\n",
              "    }\n",
              "\n",
              "    .dataframe tbody tr th {\n",
              "        vertical-align: top;\n",
              "    }\n",
              "\n",
              "    .dataframe thead th {\n",
              "        text-align: right;\n",
              "    }\n",
              "</style>\n",
              "<table border=\"1\" class=\"dataframe\">\n",
              "  <thead>\n",
              "    <tr style=\"text-align: right;\">\n",
              "      <th></th>\n",
              "      <th>Field</th>\n",
              "      <th>Description</th>\n",
              "    </tr>\n",
              "  </thead>\n",
              "  <tbody>\n",
              "    <tr>\n",
              "      <th>0</th>\n",
              "      <td>Invoice ID</td>\n",
              "      <td>Invoice ID of the transaction</td>\n",
              "    </tr>\n",
              "    <tr>\n",
              "      <th>1</th>\n",
              "      <td>Branch</td>\n",
              "      <td>One out of 3 branches. Every city belongs to a...</td>\n",
              "    </tr>\n",
              "    <tr>\n",
              "      <th>2</th>\n",
              "      <td>CustomerID</td>\n",
              "      <td>Customer ID of the cutomer doing transaction</td>\n",
              "    </tr>\n",
              "    <tr>\n",
              "      <th>3</th>\n",
              "      <td>City</td>\n",
              "      <td>City where the tx took place. The chain has st...</td>\n",
              "    </tr>\n",
              "    <tr>\n",
              "      <th>4</th>\n",
              "      <td>Customer Type</td>\n",
              "      <td>Where a member or normal customer</td>\n",
              "    </tr>\n",
              "    <tr>\n",
              "      <th>5</th>\n",
              "      <td>Gender</td>\n",
              "      <td>Male or Female</td>\n",
              "    </tr>\n",
              "    <tr>\n",
              "      <th>6</th>\n",
              "      <td>Product Line</td>\n",
              "      <td>Product line of the product purchased</td>\n",
              "    </tr>\n",
              "    <tr>\n",
              "      <th>7</th>\n",
              "      <td>Unit Price</td>\n",
              "      <td>Unit price of product purchased</td>\n",
              "    </tr>\n",
              "    <tr>\n",
              "      <th>8</th>\n",
              "      <td>Quantity</td>\n",
              "      <td>Qty purchased</td>\n",
              "    </tr>\n",
              "    <tr>\n",
              "      <th>9</th>\n",
              "      <td>Tax 5%</td>\n",
              "      <td>Tax as a fixed % of invoice</td>\n",
              "    </tr>\n",
              "    <tr>\n",
              "      <th>10</th>\n",
              "      <td>Total</td>\n",
              "      <td>Total Invoice amount</td>\n",
              "    </tr>\n",
              "    <tr>\n",
              "      <th>11</th>\n",
              "      <td>Date</td>\n",
              "      <td>Date of tx</td>\n",
              "    </tr>\n",
              "    <tr>\n",
              "      <th>12</th>\n",
              "      <td>Time</td>\n",
              "      <td>Time of tx</td>\n",
              "    </tr>\n",
              "    <tr>\n",
              "      <th>13</th>\n",
              "      <td>Payment</td>\n",
              "      <td>Payment mode</td>\n",
              "    </tr>\n",
              "    <tr>\n",
              "      <th>14</th>\n",
              "      <td>cogs</td>\n",
              "      <td>Cost of goods sold</td>\n",
              "    </tr>\n",
              "    <tr>\n",
              "      <th>15</th>\n",
              "      <td>gross margin</td>\n",
              "      <td>Margin %</td>\n",
              "    </tr>\n",
              "    <tr>\n",
              "      <th>16</th>\n",
              "      <td>gross income</td>\n",
              "      <td>Margin amount</td>\n",
              "    </tr>\n",
              "    <tr>\n",
              "      <th>17</th>\n",
              "      <td>Rating</td>\n",
              "      <td>Rating given by cx out of 10</td>\n",
              "    </tr>\n",
              "    <tr>\n",
              "      <th>18</th>\n",
              "      <td>Longitude</td>\n",
              "      <td>Geo field for tx location</td>\n",
              "    </tr>\n",
              "    <tr>\n",
              "      <th>19</th>\n",
              "      <td>Latitude</td>\n",
              "      <td>Geo field for tx location</td>\n",
              "    </tr>\n",
              "  </tbody>\n",
              "</table>\n",
              "</div>\n",
              "      <button class=\"colab-df-convert\" onclick=\"convertToInteractive('df-eadbc6a8-9b2e-40ae-a55e-2bfc2822823a')\"\n",
              "              title=\"Convert this dataframe to an interactive table.\"\n",
              "              style=\"display:none;\">\n",
              "        \n",
              "  <svg xmlns=\"http://www.w3.org/2000/svg\" height=\"24px\"viewBox=\"0 0 24 24\"\n",
              "       width=\"24px\">\n",
              "    <path d=\"M0 0h24v24H0V0z\" fill=\"none\"/>\n",
              "    <path d=\"M18.56 5.44l.94 2.06.94-2.06 2.06-.94-2.06-.94-.94-2.06-.94 2.06-2.06.94zm-11 1L8.5 8.5l.94-2.06 2.06-.94-2.06-.94L8.5 2.5l-.94 2.06-2.06.94zm10 10l.94 2.06.94-2.06 2.06-.94-2.06-.94-.94-2.06-.94 2.06-2.06.94z\"/><path d=\"M17.41 7.96l-1.37-1.37c-.4-.4-.92-.59-1.43-.59-.52 0-1.04.2-1.43.59L10.3 9.45l-7.72 7.72c-.78.78-.78 2.05 0 2.83L4 21.41c.39.39.9.59 1.41.59.51 0 1.02-.2 1.41-.59l7.78-7.78 2.81-2.81c.8-.78.8-2.07 0-2.86zM5.41 20L4 18.59l7.72-7.72 1.47 1.35L5.41 20z\"/>\n",
              "  </svg>\n",
              "      </button>\n",
              "      \n",
              "  <style>\n",
              "    .colab-df-container {\n",
              "      display:flex;\n",
              "      flex-wrap:wrap;\n",
              "      gap: 12px;\n",
              "    }\n",
              "\n",
              "    .colab-df-convert {\n",
              "      background-color: #E8F0FE;\n",
              "      border: none;\n",
              "      border-radius: 50%;\n",
              "      cursor: pointer;\n",
              "      display: none;\n",
              "      fill: #1967D2;\n",
              "      height: 32px;\n",
              "      padding: 0 0 0 0;\n",
              "      width: 32px;\n",
              "    }\n",
              "\n",
              "    .colab-df-convert:hover {\n",
              "      background-color: #E2EBFA;\n",
              "      box-shadow: 0px 1px 2px rgba(60, 64, 67, 0.3), 0px 1px 3px 1px rgba(60, 64, 67, 0.15);\n",
              "      fill: #174EA6;\n",
              "    }\n",
              "\n",
              "    [theme=dark] .colab-df-convert {\n",
              "      background-color: #3B4455;\n",
              "      fill: #D2E3FC;\n",
              "    }\n",
              "\n",
              "    [theme=dark] .colab-df-convert:hover {\n",
              "      background-color: #434B5C;\n",
              "      box-shadow: 0px 1px 3px 1px rgba(0, 0, 0, 0.15);\n",
              "      filter: drop-shadow(0px 1px 2px rgba(0, 0, 0, 0.3));\n",
              "      fill: #FFFFFF;\n",
              "    }\n",
              "  </style>\n",
              "\n",
              "      <script>\n",
              "        const buttonEl =\n",
              "          document.querySelector('#df-eadbc6a8-9b2e-40ae-a55e-2bfc2822823a button.colab-df-convert');\n",
              "        buttonEl.style.display =\n",
              "          google.colab.kernel.accessAllowed ? 'block' : 'none';\n",
              "\n",
              "        async function convertToInteractive(key) {\n",
              "          const element = document.querySelector('#df-eadbc6a8-9b2e-40ae-a55e-2bfc2822823a');\n",
              "          const dataTable =\n",
              "            await google.colab.kernel.invokeFunction('convertToInteractive',\n",
              "                                                     [key], {});\n",
              "          if (!dataTable) return;\n",
              "\n",
              "          const docLinkHtml = 'Like what you see? Visit the ' +\n",
              "            '<a target=\"_blank\" href=https://colab.research.google.com/notebooks/data_table.ipynb>data table notebook</a>'\n",
              "            + ' to learn more about interactive tables.';\n",
              "          element.innerHTML = '';\n",
              "          dataTable['output_type'] = 'display_data';\n",
              "          await google.colab.output.renderOutput(dataTable, element);\n",
              "          const docLink = document.createElement('div');\n",
              "          docLink.innerHTML = docLinkHtml;\n",
              "          element.appendChild(docLink);\n",
              "        }\n",
              "      </script>\n",
              "    </div>\n",
              "  </div>\n",
              "  "
            ]
          },
          "metadata": {},
          "execution_count": 3
        }
      ]
    },
    {
      "cell_type": "markdown",
      "source": [
        "# **Data Wrangling**\n",
        "\n",
        "Reading the data file."
      ],
      "metadata": {
        "id": "oC61kNtjVQBk"
      }
    },
    {
      "cell_type": "code",
      "source": [
        "sales_data=pd.read_csv(\"/content/supermarket_sales.csv\")\n",
        "sales_data.head(20).style.background_gradient(cmap=\"hot\")"
      ],
      "metadata": {
        "colab": {
          "base_uri": "https://localhost:8080/",
          "height": 1000
        },
        "id": "wQmePTsWkNpc",
        "outputId": "8d0aa0f9-4420-481b-c7de-c4038e5bb39f"
      },
      "execution_count": null,
      "outputs": [
        {
          "output_type": "execute_result",
          "data": {
            "text/plain": [
              "<pandas.io.formats.style.Styler at 0x7f29f41af2e0>"
            ],
            "text/html": [
              "<style type=\"text/css\">\n",
              "#T_5de09_row0_col7 {\n",
              "  background-color: #ffff0f;\n",
              "  color: #000000;\n",
              "}\n",
              "#T_5de09_row0_col8, #T_5de09_row13_col8, #T_5de09_row14_col8, #T_5de09_row16_col8 {\n",
              "  background-color: #ffff36;\n",
              "  color: #000000;\n",
              "}\n",
              "#T_5de09_row0_col9, #T_5de09_row0_col17 {\n",
              "  background-color: #ffff5a;\n",
              "  color: #000000;\n",
              "}\n",
              "#T_5de09_row0_col10, #T_5de09_row3_col17 {\n",
              "  background-color: #ffe400;\n",
              "  color: #000000;\n",
              "}\n",
              "#T_5de09_row0_col14 {\n",
              "  background-color: #ffffdc;\n",
              "  color: #000000;\n",
              "}\n",
              "#T_5de09_row0_col15, #T_5de09_row0_col19, #T_5de09_row1_col15, #T_5de09_row1_col18, #T_5de09_row2_col15, #T_5de09_row2_col16, #T_5de09_row2_col19, #T_5de09_row3_col15, #T_5de09_row3_col19, #T_5de09_row4_col15, #T_5de09_row4_col16, #T_5de09_row4_col19, #T_5de09_row5_col15, #T_5de09_row5_col18, #T_5de09_row6_col15, #T_5de09_row6_col16, #T_5de09_row6_col19, #T_5de09_row7_col15, #T_5de09_row7_col18, #T_5de09_row8_col8, #T_5de09_row8_col9, #T_5de09_row8_col10, #T_5de09_row8_col15, #T_5de09_row8_col16, #T_5de09_row8_col19, #T_5de09_row9_col15, #T_5de09_row10_col7, #T_5de09_row10_col14, #T_5de09_row10_col15, #T_5de09_row11_col15, #T_5de09_row12_col15, #T_5de09_row12_col16, #T_5de09_row12_col19, #T_5de09_row13_col15, #T_5de09_row13_col16, #T_5de09_row13_col19, #T_5de09_row14_col15, #T_5de09_row14_col16, #T_5de09_row14_col19, #T_5de09_row15_col15, #T_5de09_row16_col15, #T_5de09_row16_col17, #T_5de09_row16_col19, #T_5de09_row17_col15, #T_5de09_row17_col16, #T_5de09_row17_col19, #T_5de09_row18_col15, #T_5de09_row18_col16, #T_5de09_row18_col19, #T_5de09_row19_col15 {\n",
              "  background-color: #0b0000;\n",
              "  color: #f1f1f1;\n",
              "}\n",
              "#T_5de09_row0_col16 {\n",
              "  background-color: #3c0000;\n",
              "  color: #f1f1f1;\n",
              "}\n",
              "#T_5de09_row0_col18, #T_5de09_row1_col17, #T_5de09_row2_col18, #T_5de09_row3_col18, #T_5de09_row4_col18, #T_5de09_row6_col18, #T_5de09_row7_col8, #T_5de09_row7_col9, #T_5de09_row7_col14, #T_5de09_row8_col18, #T_5de09_row9_col19, #T_5de09_row10_col19, #T_5de09_row11_col19, #T_5de09_row12_col18, #T_5de09_row13_col18, #T_5de09_row14_col18, #T_5de09_row15_col7, #T_5de09_row15_col10, #T_5de09_row15_col16, #T_5de09_row15_col19, #T_5de09_row16_col18, #T_5de09_row17_col18, #T_5de09_row18_col18, #T_5de09_row19_col19 {\n",
              "  background-color: #ffffff;\n",
              "  color: #000000;\n",
              "}\n",
              "#T_5de09_row1_col7 {\n",
              "  background-color: #100000;\n",
              "  color: #f1f1f1;\n",
              "}\n",
              "#T_5de09_row1_col8, #T_5de09_row2_col7, #T_5de09_row6_col8, #T_5de09_row10_col8, #T_5de09_row11_col8, #T_5de09_row17_col8 {\n",
              "  background-color: #ff1700;\n",
              "  color: #f1f1f1;\n",
              "}\n",
              "#T_5de09_row1_col9, #T_5de09_row1_col14 {\n",
              "  background-color: #1a0000;\n",
              "  color: #f1f1f1;\n",
              "}\n",
              "#T_5de09_row1_col10, #T_5de09_row8_col14 {\n",
              "  background-color: #180000;\n",
              "  color: #f1f1f1;\n",
              "}\n",
              "#T_5de09_row1_col16, #T_5de09_row19_col14 {\n",
              "  background-color: #200000;\n",
              "  color: #f1f1f1;\n",
              "}\n",
              "#T_5de09_row1_col19, #T_5de09_row5_col19, #T_5de09_row7_col19 {\n",
              "  background-color: #ff8b00;\n",
              "  color: #f1f1f1;\n",
              "}\n",
              "#T_5de09_row2_col8, #T_5de09_row4_col8 {\n",
              "  background-color: #ff5c00;\n",
              "  color: #f1f1f1;\n",
              "}\n",
              "#T_5de09_row2_col9 {\n",
              "  background-color: #da0000;\n",
              "  color: #f1f1f1;\n",
              "}\n",
              "#T_5de09_row2_col10 {\n",
              "  background-color: #ba0000;\n",
              "  color: #f1f1f1;\n",
              "}\n",
              "#T_5de09_row2_col14 {\n",
              "  background-color: #ff1200;\n",
              "  color: #f1f1f1;\n",
              "}\n",
              "#T_5de09_row2_col17 {\n",
              "  background-color: #ff6600;\n",
              "  color: #f1f1f1;\n",
              "}\n",
              "#T_5de09_row3_col7, #T_5de09_row13_col14 {\n",
              "  background-color: #ff7e00;\n",
              "  color: #f1f1f1;\n",
              "}\n",
              "#T_5de09_row3_col8, #T_5de09_row15_col8 {\n",
              "  background-color: #ffff9d;\n",
              "  color: #000000;\n",
              "}\n",
              "#T_5de09_row3_col9 {\n",
              "  background-color: #ffe100;\n",
              "  color: #000000;\n",
              "}\n",
              "#T_5de09_row3_col10 {\n",
              "  background-color: #ff9800;\n",
              "  color: #000000;\n",
              "}\n",
              "#T_5de09_row3_col14 {\n",
              "  background-color: #ffa000;\n",
              "  color: #000000;\n",
              "}\n",
              "#T_5de09_row3_col16, #T_5de09_row13_col10 {\n",
              "  background-color: #ff0500;\n",
              "  color: #f1f1f1;\n",
              "}\n",
              "#T_5de09_row4_col7 {\n",
              "  background-color: #ffffa4;\n",
              "  color: #000000;\n",
              "}\n",
              "#T_5de09_row4_col9 {\n",
              "  background-color: #ffc200;\n",
              "  color: #000000;\n",
              "}\n",
              "#T_5de09_row4_col10, #T_5de09_row17_col14 {\n",
              "  background-color: #ff8000;\n",
              "  color: #f1f1f1;\n",
              "}\n",
              "#T_5de09_row4_col14 {\n",
              "  background-color: #ffff3e;\n",
              "  color: #000000;\n",
              "}\n",
              "#T_5de09_row4_col17, #T_5de09_row5_col17, #T_5de09_row6_col17, #T_5de09_row7_col17, #T_5de09_row8_col17, #T_5de09_row9_col17, #T_5de09_row10_col17, #T_5de09_row11_col9, #T_5de09_row11_col17, #T_5de09_row12_col9, #T_5de09_row12_col17, #T_5de09_row13_col9, #T_5de09_row14_col9, #T_5de09_row15_col9, #T_5de09_row16_col9, #T_5de09_row17_col9, #T_5de09_row18_col9, #T_5de09_row19_col9 {\n",
              "  background-color: #000000;\n",
              "  color: #f1f1f1;\n",
              "}\n",
              "#T_5de09_row5_col7 {\n",
              "  background-color: #ffff99;\n",
              "  color: #000000;\n",
              "}\n",
              "#T_5de09_row5_col8 {\n",
              "  background-color: #ff9d00;\n",
              "  color: #000000;\n",
              "}\n",
              "#T_5de09_row5_col9 {\n",
              "  background-color: #ffff07;\n",
              "  color: #000000;\n",
              "}\n",
              "#T_5de09_row5_col10 {\n",
              "  background-color: #ffb700;\n",
              "  color: #000000;\n",
              "}\n",
              "#T_5de09_row5_col14 {\n",
              "  background-color: #ffff32;\n",
              "  color: #000000;\n",
              "}\n",
              "#T_5de09_row5_col16, #T_5de09_row9_col9 {\n",
              "  background-color: #830000;\n",
              "  color: #f1f1f1;\n",
              "}\n",
              "#T_5de09_row6_col7, #T_5de09_row16_col7 {\n",
              "  background-color: #ffd700;\n",
              "  color: #000000;\n",
              "}\n",
              "#T_5de09_row6_col9 {\n",
              "  background-color: #ff2500;\n",
              "  color: #f1f1f1;\n",
              "}\n",
              "#T_5de09_row6_col10 {\n",
              "  background-color: #f70000;\n",
              "  color: #f1f1f1;\n",
              "}\n",
              "#T_5de09_row6_col14 {\n",
              "  background-color: #ff6b00;\n",
              "  color: #f1f1f1;\n",
              "}\n",
              "#T_5de09_row7_col7, #T_5de09_row15_col14 {\n",
              "  background-color: #fffe00;\n",
              "  color: #000000;\n",
              "}\n",
              "#T_5de09_row7_col10 {\n",
              "  background-color: #ffff65;\n",
              "  color: #000000;\n",
              "}\n",
              "#T_5de09_row7_col16 {\n",
              "  background-color: #dd0000;\n",
              "  color: #f1f1f1;\n",
              "}\n",
              "#T_5de09_row8_col7 {\n",
              "  background-color: #c20000;\n",
              "  color: #f1f1f1;\n",
              "}\n",
              "#T_5de09_row9_col7 {\n",
              "  background-color: #ff6100;\n",
              "  color: #f1f1f1;\n",
              "}\n",
              "#T_5de09_row9_col8 {\n",
              "  background-color: #900000;\n",
              "  color: #f1f1f1;\n",
              "}\n",
              "#T_5de09_row9_col10 {\n",
              "  background-color: #710000;\n",
              "  color: #f1f1f1;\n",
              "}\n",
              "#T_5de09_row9_col14, #T_5de09_row18_col14 {\n",
              "  background-color: #740000;\n",
              "  color: #f1f1f1;\n",
              "}\n",
              "#T_5de09_row9_col16 {\n",
              "  background-color: #570000;\n",
              "  color: #f1f1f1;\n",
              "}\n",
              "#T_5de09_row9_col18, #T_5de09_row10_col18, #T_5de09_row11_col18, #T_5de09_row15_col18, #T_5de09_row19_col18 {\n",
              "  background-color: #540000;\n",
              "  color: #f1f1f1;\n",
              "}\n",
              "#T_5de09_row10_col9 {\n",
              "  background-color: #150000;\n",
              "  color: #f1f1f1;\n",
              "}\n",
              "#T_5de09_row10_col10 {\n",
              "  background-color: #120000;\n",
              "  color: #f1f1f1;\n",
              "}\n",
              "#T_5de09_row10_col16 {\n",
              "  background-color: #320000;\n",
              "  color: #f1f1f1;\n",
              "}\n",
              "#T_5de09_row11_col7 {\n",
              "  background-color: #660000;\n",
              "  color: #f1f1f1;\n",
              "}\n",
              "#T_5de09_row11_col10 {\n",
              "  background-color: #420000;\n",
              "  color: #f1f1f1;\n",
              "}\n",
              "#T_5de09_row11_col14 {\n",
              "  background-color: #350000;\n",
              "  color: #f1f1f1;\n",
              "}\n",
              "#T_5de09_row11_col16 {\n",
              "  background-color: #510000;\n",
              "  color: #f1f1f1;\n",
              "}\n",
              "#T_5de09_row12_col7 {\n",
              "  background-color: #ff1d00;\n",
              "  color: #f1f1f1;\n",
              "}\n",
              "#T_5de09_row12_col8 {\n",
              "  background-color: #d20000;\n",
              "  color: #f1f1f1;\n",
              "}\n",
              "#T_5de09_row12_col10 {\n",
              "  background-color: #7b0000;\n",
              "  color: #f1f1f1;\n",
              "}\n",
              "#T_5de09_row12_col14 {\n",
              "  background-color: #b80000;\n",
              "  color: #f1f1f1;\n",
              "}\n",
              "#T_5de09_row13_col7 {\n",
              "  background-color: #fc0000;\n",
              "  color: #f1f1f1;\n",
              "}\n",
              "#T_5de09_row13_col17 {\n",
              "  background-color: #ffca00;\n",
              "  color: #000000;\n",
              "}\n",
              "#T_5de09_row14_col7 {\n",
              "  background-color: #ffec00;\n",
              "  color: #000000;\n",
              "}\n",
              "#T_5de09_row14_col10 {\n",
              "  background-color: #ffcc00;\n",
              "  color: #000000;\n",
              "}\n",
              "#T_5de09_row14_col14 {\n",
              "  background-color: #ffffdf;\n",
              "  color: #000000;\n",
              "}\n",
              "#T_5de09_row14_col17 {\n",
              "  background-color: #930000;\n",
              "  color: #f1f1f1;\n",
              "}\n",
              "#T_5de09_row15_col17 {\n",
              "  background-color: #6c0000;\n",
              "  color: #f1f1f1;\n",
              "}\n",
              "#T_5de09_row16_col10 {\n",
              "  background-color: #ffba00;\n",
              "  color: #000000;\n",
              "}\n",
              "#T_5de09_row16_col14 {\n",
              "  background-color: #ffb000;\n",
              "  color: #000000;\n",
              "}\n",
              "#T_5de09_row16_col16 {\n",
              "  background-color: #ff3200;\n",
              "  color: #f1f1f1;\n",
              "}\n",
              "#T_5de09_row17_col7 {\n",
              "  background-color: #fff600;\n",
              "  color: #000000;\n",
              "}\n",
              "#T_5de09_row17_col10 {\n",
              "  background-color: #ff0800;\n",
              "  color: #f1f1f1;\n",
              "}\n",
              "#T_5de09_row17_col17 {\n",
              "  background-color: #ff2a00;\n",
              "  color: #f1f1f1;\n",
              "}\n",
              "#T_5de09_row18_col7 {\n",
              "  background-color: #ff5e00;\n",
              "  color: #f1f1f1;\n",
              "}\n",
              "#T_5de09_row18_col8, #T_5de09_row19_col8 {\n",
              "  background-color: #4c0000;\n",
              "  color: #f1f1f1;\n",
              "}\n",
              "#T_5de09_row18_col10 {\n",
              "  background-color: #4a0000;\n",
              "  color: #f1f1f1;\n",
              "}\n",
              "#T_5de09_row18_col17 {\n",
              "  background-color: #fffc00;\n",
              "  color: #000000;\n",
              "}\n",
              "#T_5de09_row19_col7 {\n",
              "  background-color: #e40000;\n",
              "  color: #f1f1f1;\n",
              "}\n",
              "#T_5de09_row19_col10 {\n",
              "  background-color: #2a0000;\n",
              "  color: #f1f1f1;\n",
              "}\n",
              "#T_5de09_row19_col16 {\n",
              "  background-color: #440000;\n",
              "  color: #f1f1f1;\n",
              "}\n",
              "#T_5de09_row19_col17 {\n",
              "  background-color: #5f0000;\n",
              "  color: #f1f1f1;\n",
              "}\n",
              "</style>\n",
              "<table id=\"T_5de09_\" class=\"dataframe\">\n",
              "  <thead>\n",
              "    <tr>\n",
              "      <th class=\"blank level0\" >&nbsp;</th>\n",
              "      <th class=\"col_heading level0 col0\" >Invoice ID</th>\n",
              "      <th class=\"col_heading level0 col1\" >Branch</th>\n",
              "      <th class=\"col_heading level0 col2\" >CustomerID</th>\n",
              "      <th class=\"col_heading level0 col3\" >City</th>\n",
              "      <th class=\"col_heading level0 col4\" >Customer type</th>\n",
              "      <th class=\"col_heading level0 col5\" >Gender</th>\n",
              "      <th class=\"col_heading level0 col6\" >Product line</th>\n",
              "      <th class=\"col_heading level0 col7\" >Unit price</th>\n",
              "      <th class=\"col_heading level0 col8\" >Quantity</th>\n",
              "      <th class=\"col_heading level0 col9\" >Tax 5%</th>\n",
              "      <th class=\"col_heading level0 col10\" >Total</th>\n",
              "      <th class=\"col_heading level0 col11\" >Date</th>\n",
              "      <th class=\"col_heading level0 col12\" >Time</th>\n",
              "      <th class=\"col_heading level0 col13\" >Payment</th>\n",
              "      <th class=\"col_heading level0 col14\" >cogs</th>\n",
              "      <th class=\"col_heading level0 col15\" >gross margin percentage</th>\n",
              "      <th class=\"col_heading level0 col16\" >gross income</th>\n",
              "      <th class=\"col_heading level0 col17\" >Rating</th>\n",
              "      <th class=\"col_heading level0 col18\" >Longitude</th>\n",
              "      <th class=\"col_heading level0 col19\" >Latitude</th>\n",
              "    </tr>\n",
              "  </thead>\n",
              "  <tbody>\n",
              "    <tr>\n",
              "      <th id=\"T_5de09_level0_row0\" class=\"row_heading level0 row0\" >0</th>\n",
              "      <td id=\"T_5de09_row0_col0\" class=\"data row0 col0\" >750-67-8428</td>\n",
              "      <td id=\"T_5de09_row0_col1\" class=\"data row0 col1\" >A</td>\n",
              "      <td id=\"T_5de09_row0_col2\" class=\"data row0 col2\" >C1888</td>\n",
              "      <td id=\"T_5de09_row0_col3\" class=\"data row0 col3\" >Yangon</td>\n",
              "      <td id=\"T_5de09_row0_col4\" class=\"data row0 col4\" >Member</td>\n",
              "      <td id=\"T_5de09_row0_col5\" class=\"data row0 col5\" >Female</td>\n",
              "      <td id=\"T_5de09_row0_col6\" class=\"data row0 col6\" >Health and beauty</td>\n",
              "      <td id=\"T_5de09_row0_col7\" class=\"data row0 col7\" >74.690000</td>\n",
              "      <td id=\"T_5de09_row0_col8\" class=\"data row0 col8\" >10</td>\n",
              "      <td id=\"T_5de09_row0_col9\" class=\"data row0 col9\" >37.345000</td>\n",
              "      <td id=\"T_5de09_row0_col10\" class=\"data row0 col10\" >746.900000</td>\n",
              "      <td id=\"T_5de09_row0_col11\" class=\"data row0 col11\" >21-02-2019</td>\n",
              "      <td id=\"T_5de09_row0_col12\" class=\"data row0 col12\" >13:08</td>\n",
              "      <td id=\"T_5de09_row0_col13\" class=\"data row0 col13\" >Ewallet</td>\n",
              "      <td id=\"T_5de09_row0_col14\" class=\"data row0 col14\" >711.333333</td>\n",
              "      <td id=\"T_5de09_row0_col15\" class=\"data row0 col15\" >4.761905</td>\n",
              "      <td id=\"T_5de09_row0_col16\" class=\"data row0 col16\" >35.566667</td>\n",
              "      <td id=\"T_5de09_row0_col17\" class=\"data row0 col17\" >9.100000</td>\n",
              "      <td id=\"T_5de09_row0_col18\" class=\"data row0 col18\" >96.173500</td>\n",
              "      <td id=\"T_5de09_row0_col19\" class=\"data row0 col19\" >16.840900</td>\n",
              "    </tr>\n",
              "    <tr>\n",
              "      <th id=\"T_5de09_level0_row1\" class=\"row_heading level0 row1\" >1</th>\n",
              "      <td id=\"T_5de09_row1_col0\" class=\"data row1 col0\" >226-31-3081</td>\n",
              "      <td id=\"T_5de09_row1_col1\" class=\"data row1 col1\" >C</td>\n",
              "      <td id=\"T_5de09_row1_col2\" class=\"data row1 col2\" >C1475</td>\n",
              "      <td id=\"T_5de09_row1_col3\" class=\"data row1 col3\" >Naypyitaw</td>\n",
              "      <td id=\"T_5de09_row1_col4\" class=\"data row1 col4\" >Normal</td>\n",
              "      <td id=\"T_5de09_row1_col5\" class=\"data row1 col5\" >Female</td>\n",
              "      <td id=\"T_5de09_row1_col6\" class=\"data row1 col6\" >Health and beauty</td>\n",
              "      <td id=\"T_5de09_row1_col7\" class=\"data row1 col7\" >15.280000</td>\n",
              "      <td id=\"T_5de09_row1_col8\" class=\"data row1 col8\" >6</td>\n",
              "      <td id=\"T_5de09_row1_col9\" class=\"data row1 col9\" >4.584000</td>\n",
              "      <td id=\"T_5de09_row1_col10\" class=\"data row1 col10\" >91.680000</td>\n",
              "      <td id=\"T_5de09_row1_col11\" class=\"data row1 col11\" >27-05-2019</td>\n",
              "      <td id=\"T_5de09_row1_col12\" class=\"data row1 col12\" >10:29</td>\n",
              "      <td id=\"T_5de09_row1_col13\" class=\"data row1 col13\" >Cash</td>\n",
              "      <td id=\"T_5de09_row1_col14\" class=\"data row1 col14\" >76.400000</td>\n",
              "      <td id=\"T_5de09_row1_col15\" class=\"data row1 col15\" >4.761905</td>\n",
              "      <td id=\"T_5de09_row1_col16\" class=\"data row1 col16\" >15.280000</td>\n",
              "      <td id=\"T_5de09_row1_col17\" class=\"data row1 col17\" >10.000000</td>\n",
              "      <td id=\"T_5de09_row1_col18\" class=\"data row1 col18\" >96.078500</td>\n",
              "      <td id=\"T_5de09_row1_col19\" class=\"data row1 col19\" >19.763300</td>\n",
              "    </tr>\n",
              "    <tr>\n",
              "      <th id=\"T_5de09_level0_row2\" class=\"row_heading level0 row2\" >2</th>\n",
              "      <td id=\"T_5de09_row2_col0\" class=\"data row2 col0\" >631-41-3108</td>\n",
              "      <td id=\"T_5de09_row2_col1\" class=\"data row2 col1\" >A</td>\n",
              "      <td id=\"T_5de09_row2_col2\" class=\"data row2 col2\" >C1746</td>\n",
              "      <td id=\"T_5de09_row2_col3\" class=\"data row2 col3\" >Yangon</td>\n",
              "      <td id=\"T_5de09_row2_col4\" class=\"data row2 col4\" >Normal</td>\n",
              "      <td id=\"T_5de09_row2_col5\" class=\"data row2 col5\" >Male</td>\n",
              "      <td id=\"T_5de09_row2_col6\" class=\"data row2 col6\" >Health and beauty</td>\n",
              "      <td id=\"T_5de09_row2_col7\" class=\"data row2 col7\" >46.330000</td>\n",
              "      <td id=\"T_5de09_row2_col8\" class=\"data row2 col8\" >7</td>\n",
              "      <td id=\"T_5de09_row2_col9\" class=\"data row2 col9\" >16.215500</td>\n",
              "      <td id=\"T_5de09_row2_col10\" class=\"data row2 col10\" >324.310000</td>\n",
              "      <td id=\"T_5de09_row2_col11\" class=\"data row2 col11\" >27-12-2019</td>\n",
              "      <td id=\"T_5de09_row2_col12\" class=\"data row2 col12\" >13:23</td>\n",
              "      <td id=\"T_5de09_row2_col13\" class=\"data row2 col13\" >Credit card</td>\n",
              "      <td id=\"T_5de09_row2_col14\" class=\"data row2 col14\" >324.310000</td>\n",
              "      <td id=\"T_5de09_row2_col15\" class=\"data row2 col15\" >4.761905</td>\n",
              "      <td id=\"T_5de09_row2_col16\" class=\"data row2 col16\" >0.000000</td>\n",
              "      <td id=\"T_5de09_row2_col17\" class=\"data row2 col17\" >7.400000</td>\n",
              "      <td id=\"T_5de09_row2_col18\" class=\"data row2 col18\" >96.173500</td>\n",
              "      <td id=\"T_5de09_row2_col19\" class=\"data row2 col19\" >16.840900</td>\n",
              "    </tr>\n",
              "    <tr>\n",
              "      <th id=\"T_5de09_level0_row3\" class=\"row_heading level0 row3\" >3</th>\n",
              "      <td id=\"T_5de09_row3_col0\" class=\"data row3 col0\" >123-19-1176</td>\n",
              "      <td id=\"T_5de09_row3_col1\" class=\"data row3 col1\" >A</td>\n",
              "      <td id=\"T_5de09_row3_col2\" class=\"data row3 col2\" >C1896</td>\n",
              "      <td id=\"T_5de09_row3_col3\" class=\"data row3 col3\" >Yangon</td>\n",
              "      <td id=\"T_5de09_row3_col4\" class=\"data row3 col4\" >Member</td>\n",
              "      <td id=\"T_5de09_row3_col5\" class=\"data row3 col5\" >Male</td>\n",
              "      <td id=\"T_5de09_row3_col6\" class=\"data row3 col6\" >Health and beauty</td>\n",
              "      <td id=\"T_5de09_row3_col7\" class=\"data row3 col7\" >58.220000</td>\n",
              "      <td id=\"T_5de09_row3_col8\" class=\"data row3 col8\" >11</td>\n",
              "      <td id=\"T_5de09_row3_col9\" class=\"data row3 col9\" >32.021000</td>\n",
              "      <td id=\"T_5de09_row3_col10\" class=\"data row3 col10\" >640.420000</td>\n",
              "      <td id=\"T_5de09_row3_col11\" class=\"data row3 col11\" >15-11-2019</td>\n",
              "      <td id=\"T_5de09_row3_col12\" class=\"data row3 col12\" >20:33</td>\n",
              "      <td id=\"T_5de09_row3_col13\" class=\"data row3 col13\" >Ewallet</td>\n",
              "      <td id=\"T_5de09_row3_col14\" class=\"data row3 col14\" >465.760000</td>\n",
              "      <td id=\"T_5de09_row3_col15\" class=\"data row3 col15\" >4.761905</td>\n",
              "      <td id=\"T_5de09_row3_col16\" class=\"data row3 col16\" >174.660000</td>\n",
              "      <td id=\"T_5de09_row3_col17\" class=\"data row3 col17\" >8.400000</td>\n",
              "      <td id=\"T_5de09_row3_col18\" class=\"data row3 col18\" >96.173500</td>\n",
              "      <td id=\"T_5de09_row3_col19\" class=\"data row3 col19\" >16.840900</td>\n",
              "    </tr>\n",
              "    <tr>\n",
              "      <th id=\"T_5de09_level0_row4\" class=\"row_heading level0 row4\" >4</th>\n",
              "      <td id=\"T_5de09_row4_col0\" class=\"data row4 col0\" >373-73-7910</td>\n",
              "      <td id=\"T_5de09_row4_col1\" class=\"data row4 col1\" >A</td>\n",
              "      <td id=\"T_5de09_row4_col2\" class=\"data row4 col2\" >C1790</td>\n",
              "      <td id=\"T_5de09_row4_col3\" class=\"data row4 col3\" >Yangon</td>\n",
              "      <td id=\"T_5de09_row4_col4\" class=\"data row4 col4\" >Normal</td>\n",
              "      <td id=\"T_5de09_row4_col5\" class=\"data row4 col5\" >Male</td>\n",
              "      <td id=\"T_5de09_row4_col6\" class=\"data row4 col6\" >Health and beauty</td>\n",
              "      <td id=\"T_5de09_row4_col7\" class=\"data row4 col7\" >86.310000</td>\n",
              "      <td id=\"T_5de09_row4_col8\" class=\"data row4 col8\" >7</td>\n",
              "      <td id=\"T_5de09_row4_col9\" class=\"data row4 col9\" >30.208500</td>\n",
              "      <td id=\"T_5de09_row4_col10\" class=\"data row4 col10\" >604.170000</td>\n",
              "      <td id=\"T_5de09_row4_col11\" class=\"data row4 col11\" >31-03-2019</td>\n",
              "      <td id=\"T_5de09_row4_col12\" class=\"data row4 col12\" >10:37</td>\n",
              "      <td id=\"T_5de09_row4_col13\" class=\"data row4 col13\" >Ewallet</td>\n",
              "      <td id=\"T_5de09_row4_col14\" class=\"data row4 col14\" >604.170000</td>\n",
              "      <td id=\"T_5de09_row4_col15\" class=\"data row4 col15\" >4.761905</td>\n",
              "      <td id=\"T_5de09_row4_col16\" class=\"data row4 col16\" >0.000000</td>\n",
              "      <td id=\"T_5de09_row4_col17\" class=\"data row4 col17\" >nan</td>\n",
              "      <td id=\"T_5de09_row4_col18\" class=\"data row4 col18\" >96.173500</td>\n",
              "      <td id=\"T_5de09_row4_col19\" class=\"data row4 col19\" >16.840900</td>\n",
              "    </tr>\n",
              "    <tr>\n",
              "      <th id=\"T_5de09_level0_row5\" class=\"row_heading level0 row5\" >5</th>\n",
              "      <td id=\"T_5de09_row5_col0\" class=\"data row5 col0\" >699-14-3026</td>\n",
              "      <td id=\"T_5de09_row5_col1\" class=\"data row5 col1\" >C</td>\n",
              "      <td id=\"T_5de09_row5_col2\" class=\"data row5 col2\" >C1423</td>\n",
              "      <td id=\"T_5de09_row5_col3\" class=\"data row5 col3\" >Naypyitaw</td>\n",
              "      <td id=\"T_5de09_row5_col4\" class=\"data row5 col4\" >Normal</td>\n",
              "      <td id=\"T_5de09_row5_col5\" class=\"data row5 col5\" >Male</td>\n",
              "      <td id=\"T_5de09_row5_col6\" class=\"data row5 col6\" >Health and beauty</td>\n",
              "      <td id=\"T_5de09_row5_col7\" class=\"data row5 col7\" >85.390000</td>\n",
              "      <td id=\"T_5de09_row5_col8\" class=\"data row5 col8\" >8</td>\n",
              "      <td id=\"T_5de09_row5_col9\" class=\"data row5 col9\" >34.156000</td>\n",
              "      <td id=\"T_5de09_row5_col10\" class=\"data row5 col10\" >683.120000</td>\n",
              "      <td id=\"T_5de09_row5_col11\" class=\"data row5 col11\" >06-01-2019</td>\n",
              "      <td id=\"T_5de09_row5_col12\" class=\"data row5 col12\" >18:30</td>\n",
              "      <td id=\"T_5de09_row5_col13\" class=\"data row5 col13\" >Ewallet</td>\n",
              "      <td id=\"T_5de09_row5_col14\" class=\"data row5 col14\" >597.730000</td>\n",
              "      <td id=\"T_5de09_row5_col15\" class=\"data row5 col15\" >4.761905</td>\n",
              "      <td id=\"T_5de09_row5_col16\" class=\"data row5 col16\" >85.390000</td>\n",
              "      <td id=\"T_5de09_row5_col17\" class=\"data row5 col17\" >nan</td>\n",
              "      <td id=\"T_5de09_row5_col18\" class=\"data row5 col18\" >96.078500</td>\n",
              "      <td id=\"T_5de09_row5_col19\" class=\"data row5 col19\" >19.763300</td>\n",
              "    </tr>\n",
              "    <tr>\n",
              "      <th id=\"T_5de09_level0_row6\" class=\"row_heading level0 row6\" >6</th>\n",
              "      <td id=\"T_5de09_row6_col0\" class=\"data row6 col0\" >355-53-5943</td>\n",
              "      <td id=\"T_5de09_row6_col1\" class=\"data row6 col1\" >A</td>\n",
              "      <td id=\"T_5de09_row6_col2\" class=\"data row6 col2\" >C1723</td>\n",
              "      <td id=\"T_5de09_row6_col3\" class=\"data row6 col3\" >Yangon</td>\n",
              "      <td id=\"T_5de09_row6_col4\" class=\"data row6 col4\" >Normal</td>\n",
              "      <td id=\"T_5de09_row6_col5\" class=\"data row6 col5\" >Female</td>\n",
              "      <td id=\"T_5de09_row6_col6\" class=\"data row6 col6\" >Health and beauty</td>\n",
              "      <td id=\"T_5de09_row6_col7\" class=\"data row6 col7\" >68.840000</td>\n",
              "      <td id=\"T_5de09_row6_col8\" class=\"data row6 col8\" >6</td>\n",
              "      <td id=\"T_5de09_row6_col9\" class=\"data row6 col9\" >20.652000</td>\n",
              "      <td id=\"T_5de09_row6_col10\" class=\"data row6 col10\" >413.040000</td>\n",
              "      <td id=\"T_5de09_row6_col11\" class=\"data row6 col11\" >15-12-2019</td>\n",
              "      <td id=\"T_5de09_row6_col12\" class=\"data row6 col12\" >14:36</td>\n",
              "      <td id=\"T_5de09_row6_col13\" class=\"data row6 col13\" >Ewallet</td>\n",
              "      <td id=\"T_5de09_row6_col14\" class=\"data row6 col14\" >413.040000</td>\n",
              "      <td id=\"T_5de09_row6_col15\" class=\"data row6 col15\" >4.761905</td>\n",
              "      <td id=\"T_5de09_row6_col16\" class=\"data row6 col16\" >0.000000</td>\n",
              "      <td id=\"T_5de09_row6_col17\" class=\"data row6 col17\" >nan</td>\n",
              "      <td id=\"T_5de09_row6_col18\" class=\"data row6 col18\" >96.173500</td>\n",
              "      <td id=\"T_5de09_row6_col19\" class=\"data row6 col19\" >16.840900</td>\n",
              "    </tr>\n",
              "    <tr>\n",
              "      <th id=\"T_5de09_level0_row7\" class=\"row_heading level0 row7\" >7</th>\n",
              "      <td id=\"T_5de09_row7_col0\" class=\"data row7 col0\" >315-22-5665</td>\n",
              "      <td id=\"T_5de09_row7_col1\" class=\"data row7 col1\" >C</td>\n",
              "      <td id=\"T_5de09_row7_col2\" class=\"data row7 col2\" >C1471</td>\n",
              "      <td id=\"T_5de09_row7_col3\" class=\"data row7 col3\" >Naypyitaw</td>\n",
              "      <td id=\"T_5de09_row7_col4\" class=\"data row7 col4\" >nan</td>\n",
              "      <td id=\"T_5de09_row7_col5\" class=\"data row7 col5\" >Female</td>\n",
              "      <td id=\"T_5de09_row7_col6\" class=\"data row7 col6\" >Health and beauty</td>\n",
              "      <td id=\"T_5de09_row7_col7\" class=\"data row7 col7\" >73.560000</td>\n",
              "      <td id=\"T_5de09_row7_col8\" class=\"data row7 col8\" >12</td>\n",
              "      <td id=\"T_5de09_row7_col9\" class=\"data row7 col9\" >44.136000</td>\n",
              "      <td id=\"T_5de09_row7_col10\" class=\"data row7 col10\" >882.720000</td>\n",
              "      <td id=\"T_5de09_row7_col11\" class=\"data row7 col11\" >14-06-2019</td>\n",
              "      <td id=\"T_5de09_row7_col12\" class=\"data row7 col12\" >11:38</td>\n",
              "      <td id=\"T_5de09_row7_col13\" class=\"data row7 col13\" >Ewallet</td>\n",
              "      <td id=\"T_5de09_row7_col14\" class=\"data row7 col14\" >735.600000</td>\n",
              "      <td id=\"T_5de09_row7_col15\" class=\"data row7 col15\" >4.761905</td>\n",
              "      <td id=\"T_5de09_row7_col16\" class=\"data row7 col16\" >147.120000</td>\n",
              "      <td id=\"T_5de09_row7_col17\" class=\"data row7 col17\" >nan</td>\n",
              "      <td id=\"T_5de09_row7_col18\" class=\"data row7 col18\" >96.078500</td>\n",
              "      <td id=\"T_5de09_row7_col19\" class=\"data row7 col19\" >19.763300</td>\n",
              "    </tr>\n",
              "    <tr>\n",
              "      <th id=\"T_5de09_level0_row8\" class=\"row_heading level0 row8\" >8</th>\n",
              "      <td id=\"T_5de09_row8_col0\" class=\"data row8 col0\" >665-32-9167</td>\n",
              "      <td id=\"T_5de09_row8_col1\" class=\"data row8 col1\" >A</td>\n",
              "      <td id=\"T_5de09_row8_col2\" class=\"data row8 col2\" >C1707</td>\n",
              "      <td id=\"T_5de09_row8_col3\" class=\"data row8 col3\" >Yangon</td>\n",
              "      <td id=\"T_5de09_row8_col4\" class=\"data row8 col4\" >nan</td>\n",
              "      <td id=\"T_5de09_row8_col5\" class=\"data row8 col5\" >Female</td>\n",
              "      <td id=\"T_5de09_row8_col6\" class=\"data row8 col6\" >Health and beauty</td>\n",
              "      <td id=\"T_5de09_row8_col7\" class=\"data row8 col7\" >36.260000</td>\n",
              "      <td id=\"T_5de09_row8_col8\" class=\"data row8 col8\" >2</td>\n",
              "      <td id=\"T_5de09_row8_col9\" class=\"data row8 col9\" >3.626000</td>\n",
              "      <td id=\"T_5de09_row8_col10\" class=\"data row8 col10\" >72.520000</td>\n",
              "      <td id=\"T_5de09_row8_col11\" class=\"data row8 col11\" >25-11-2019</td>\n",
              "      <td id=\"T_5de09_row8_col12\" class=\"data row8 col12\" >17:15</td>\n",
              "      <td id=\"T_5de09_row8_col13\" class=\"data row8 col13\" >Credit card</td>\n",
              "      <td id=\"T_5de09_row8_col14\" class=\"data row8 col14\" >72.520000</td>\n",
              "      <td id=\"T_5de09_row8_col15\" class=\"data row8 col15\" >4.761905</td>\n",
              "      <td id=\"T_5de09_row8_col16\" class=\"data row8 col16\" >0.000000</td>\n",
              "      <td id=\"T_5de09_row8_col17\" class=\"data row8 col17\" >nan</td>\n",
              "      <td id=\"T_5de09_row8_col18\" class=\"data row8 col18\" >96.173500</td>\n",
              "      <td id=\"T_5de09_row8_col19\" class=\"data row8 col19\" >16.840900</td>\n",
              "    </tr>\n",
              "    <tr>\n",
              "      <th id=\"T_5de09_level0_row9\" class=\"row_heading level0 row9\" >9</th>\n",
              "      <td id=\"T_5de09_row9_col0\" class=\"data row9 col0\" >692-92-5582</td>\n",
              "      <td id=\"T_5de09_row9_col1\" class=\"data row9 col1\" >B</td>\n",
              "      <td id=\"T_5de09_row9_col2\" class=\"data row9 col2\" >C1277</td>\n",
              "      <td id=\"T_5de09_row9_col3\" class=\"data row9 col3\" >Mandalay</td>\n",
              "      <td id=\"T_5de09_row9_col4\" class=\"data row9 col4\" >nan</td>\n",
              "      <td id=\"T_5de09_row9_col5\" class=\"data row9 col5\" >Female</td>\n",
              "      <td id=\"T_5de09_row9_col6\" class=\"data row9 col6\" >Health and beauty</td>\n",
              "      <td id=\"T_5de09_row9_col7\" class=\"data row9 col7\" >54.840000</td>\n",
              "      <td id=\"T_5de09_row9_col8\" class=\"data row9 col8\" >4</td>\n",
              "      <td id=\"T_5de09_row9_col9\" class=\"data row9 col9\" >10.968000</td>\n",
              "      <td id=\"T_5de09_row9_col10\" class=\"data row9 col10\" >219.360000</td>\n",
              "      <td id=\"T_5de09_row9_col11\" class=\"data row9 col11\" >10-04-2019</td>\n",
              "      <td id=\"T_5de09_row9_col12\" class=\"data row9 col12\" >13:27</td>\n",
              "      <td id=\"T_5de09_row9_col13\" class=\"data row9 col13\" >Credit card</td>\n",
              "      <td id=\"T_5de09_row9_col14\" class=\"data row9 col14\" >164.520000</td>\n",
              "      <td id=\"T_5de09_row9_col15\" class=\"data row9 col15\" >4.761905</td>\n",
              "      <td id=\"T_5de09_row9_col16\" class=\"data row9 col16\" >54.840000</td>\n",
              "      <td id=\"T_5de09_row9_col17\" class=\"data row9 col17\" >nan</td>\n",
              "      <td id=\"T_5de09_row9_col18\" class=\"data row9 col18\" >96.089100</td>\n",
              "      <td id=\"T_5de09_row9_col19\" class=\"data row9 col19\" >21.958800</td>\n",
              "    </tr>\n",
              "    <tr>\n",
              "      <th id=\"T_5de09_level0_row10\" class=\"row_heading level0 row10\" >10</th>\n",
              "      <td id=\"T_5de09_row10_col0\" class=\"data row10 col0\" >351-62-0822</td>\n",
              "      <td id=\"T_5de09_row10_col1\" class=\"data row10 col1\" >B</td>\n",
              "      <td id=\"T_5de09_row10_col2\" class=\"data row10 col2\" >C1300</td>\n",
              "      <td id=\"T_5de09_row10_col3\" class=\"data row10 col3\" >Mandalay</td>\n",
              "      <td id=\"T_5de09_row10_col4\" class=\"data row10 col4\" >nan</td>\n",
              "      <td id=\"T_5de09_row10_col5\" class=\"data row10 col5\" >Female</td>\n",
              "      <td id=\"T_5de09_row10_col6\" class=\"data row10 col6\" >Health and beauty</td>\n",
              "      <td id=\"T_5de09_row10_col7\" class=\"data row10 col7\" >14.480000</td>\n",
              "      <td id=\"T_5de09_row10_col8\" class=\"data row10 col8\" >6</td>\n",
              "      <td id=\"T_5de09_row10_col9\" class=\"data row10 col9\" >4.344000</td>\n",
              "      <td id=\"T_5de09_row10_col10\" class=\"data row10 col10\" >86.880000</td>\n",
              "      <td id=\"T_5de09_row10_col11\" class=\"data row10 col11\" >23-07-2019</td>\n",
              "      <td id=\"T_5de09_row10_col12\" class=\"data row10 col12\" >18:07</td>\n",
              "      <td id=\"T_5de09_row10_col13\" class=\"data row10 col13\" >Ewallet</td>\n",
              "      <td id=\"T_5de09_row10_col14\" class=\"data row10 col14\" >57.920000</td>\n",
              "      <td id=\"T_5de09_row10_col15\" class=\"data row10 col15\" >4.761905</td>\n",
              "      <td id=\"T_5de09_row10_col16\" class=\"data row10 col16\" >28.960000</td>\n",
              "      <td id=\"T_5de09_row10_col17\" class=\"data row10 col17\" >nan</td>\n",
              "      <td id=\"T_5de09_row10_col18\" class=\"data row10 col18\" >96.089100</td>\n",
              "      <td id=\"T_5de09_row10_col19\" class=\"data row10 col19\" >21.958800</td>\n",
              "    </tr>\n",
              "    <tr>\n",
              "      <th id=\"T_5de09_level0_row11\" class=\"row_heading level0 row11\" >11</th>\n",
              "      <td id=\"T_5de09_row11_col0\" class=\"data row11 col0\" >529-56-3974</td>\n",
              "      <td id=\"T_5de09_row11_col1\" class=\"data row11 col1\" >B</td>\n",
              "      <td id=\"T_5de09_row11_col2\" class=\"data row11 col2\" >C1264</td>\n",
              "      <td id=\"T_5de09_row11_col3\" class=\"data row11 col3\" >Mandalay</td>\n",
              "      <td id=\"T_5de09_row11_col4\" class=\"data row11 col4\" >nan</td>\n",
              "      <td id=\"T_5de09_row11_col5\" class=\"data row11 col5\" >Male</td>\n",
              "      <td id=\"T_5de09_row11_col6\" class=\"data row11 col6\" >Health and beauty</td>\n",
              "      <td id=\"T_5de09_row11_col7\" class=\"data row11 col7\" >25.510000</td>\n",
              "      <td id=\"T_5de09_row11_col8\" class=\"data row11 col8\" >6</td>\n",
              "      <td id=\"T_5de09_row11_col9\" class=\"data row11 col9\" >nan</td>\n",
              "      <td id=\"T_5de09_row11_col10\" class=\"data row11 col10\" >153.060000</td>\n",
              "      <td id=\"T_5de09_row11_col11\" class=\"data row11 col11\" >26-08-2019</td>\n",
              "      <td id=\"T_5de09_row11_col12\" class=\"data row11 col12\" >17:03</td>\n",
              "      <td id=\"T_5de09_row11_col13\" class=\"data row11 col13\" >Cash</td>\n",
              "      <td id=\"T_5de09_row11_col14\" class=\"data row11 col14\" >102.040000</td>\n",
              "      <td id=\"T_5de09_row11_col15\" class=\"data row11 col15\" >4.761905</td>\n",
              "      <td id=\"T_5de09_row11_col16\" class=\"data row11 col16\" >51.020000</td>\n",
              "      <td id=\"T_5de09_row11_col17\" class=\"data row11 col17\" >nan</td>\n",
              "      <td id=\"T_5de09_row11_col18\" class=\"data row11 col18\" >96.089100</td>\n",
              "      <td id=\"T_5de09_row11_col19\" class=\"data row11 col19\" >21.958800</td>\n",
              "    </tr>\n",
              "    <tr>\n",
              "      <th id=\"T_5de09_level0_row12\" class=\"row_heading level0 row12\" >12</th>\n",
              "      <td id=\"T_5de09_row12_col0\" class=\"data row12 col0\" >365-64-0515</td>\n",
              "      <td id=\"T_5de09_row12_col1\" class=\"data row12 col1\" >A</td>\n",
              "      <td id=\"T_5de09_row12_col2\" class=\"data row12 col2\" >C1710</td>\n",
              "      <td id=\"T_5de09_row12_col3\" class=\"data row12 col3\" >Yangon</td>\n",
              "      <td id=\"T_5de09_row12_col4\" class=\"data row12 col4\" >Normal</td>\n",
              "      <td id=\"T_5de09_row12_col5\" class=\"data row12 col5\" >Female</td>\n",
              "      <td id=\"T_5de09_row12_col6\" class=\"data row12 col6\" >Electronic accessories</td>\n",
              "      <td id=\"T_5de09_row12_col7\" class=\"data row12 col7\" >46.950000</td>\n",
              "      <td id=\"T_5de09_row12_col8\" class=\"data row12 col8\" >5</td>\n",
              "      <td id=\"T_5de09_row12_col9\" class=\"data row12 col9\" >nan</td>\n",
              "      <td id=\"T_5de09_row12_col10\" class=\"data row12 col10\" >234.750000</td>\n",
              "      <td id=\"T_5de09_row12_col11\" class=\"data row12 col11\" >25-08-2019</td>\n",
              "      <td id=\"T_5de09_row12_col12\" class=\"data row12 col12\" >10:25</td>\n",
              "      <td id=\"T_5de09_row12_col13\" class=\"data row12 col13\" >Ewallet</td>\n",
              "      <td id=\"T_5de09_row12_col14\" class=\"data row12 col14\" >234.750000</td>\n",
              "      <td id=\"T_5de09_row12_col15\" class=\"data row12 col15\" >4.761905</td>\n",
              "      <td id=\"T_5de09_row12_col16\" class=\"data row12 col16\" >0.000000</td>\n",
              "      <td id=\"T_5de09_row12_col17\" class=\"data row12 col17\" >nan</td>\n",
              "      <td id=\"T_5de09_row12_col18\" class=\"data row12 col18\" >96.173500</td>\n",
              "      <td id=\"T_5de09_row12_col19\" class=\"data row12 col19\" >16.840900</td>\n",
              "    </tr>\n",
              "    <tr>\n",
              "      <th id=\"T_5de09_level0_row13\" class=\"row_heading level0 row13\" >13</th>\n",
              "      <td id=\"T_5de09_row13_col0\" class=\"data row13 col0\" >252-56-2699</td>\n",
              "      <td id=\"T_5de09_row13_col1\" class=\"data row13 col1\" >A</td>\n",
              "      <td id=\"T_5de09_row13_col2\" class=\"data row13 col2\" >C1726</td>\n",
              "      <td id=\"T_5de09_row13_col3\" class=\"data row13 col3\" >Yangon</td>\n",
              "      <td id=\"T_5de09_row13_col4\" class=\"data row13 col4\" >Normal</td>\n",
              "      <td id=\"T_5de09_row13_col5\" class=\"data row13 col5\" >Male</td>\n",
              "      <td id=\"T_5de09_row13_col6\" class=\"data row13 col6\" >Food and beverages</td>\n",
              "      <td id=\"T_5de09_row13_col7\" class=\"data row13 col7\" >43.190000</td>\n",
              "      <td id=\"T_5de09_row13_col8\" class=\"data row13 col8\" >10</td>\n",
              "      <td id=\"T_5de09_row13_col9\" class=\"data row13 col9\" >nan</td>\n",
              "      <td id=\"T_5de09_row13_col10\" class=\"data row13 col10\" >431.900000</td>\n",
              "      <td id=\"T_5de09_row13_col11\" class=\"data row13 col11\" >02-10-2019</td>\n",
              "      <td id=\"T_5de09_row13_col12\" class=\"data row13 col12\" >16:48</td>\n",
              "      <td id=\"T_5de09_row13_col13\" class=\"data row13 col13\" >Ewallet</td>\n",
              "      <td id=\"T_5de09_row13_col14\" class=\"data row13 col14\" >431.900000</td>\n",
              "      <td id=\"T_5de09_row13_col15\" class=\"data row13 col15\" >4.761905</td>\n",
              "      <td id=\"T_5de09_row13_col16\" class=\"data row13 col16\" >0.000000</td>\n",
              "      <td id=\"T_5de09_row13_col17\" class=\"data row13 col17\" >8.200000</td>\n",
              "      <td id=\"T_5de09_row13_col18\" class=\"data row13 col18\" >96.173500</td>\n",
              "      <td id=\"T_5de09_row13_col19\" class=\"data row13 col19\" >16.840900</td>\n",
              "    </tr>\n",
              "    <tr>\n",
              "      <th id=\"T_5de09_level0_row14\" class=\"row_heading level0 row14\" >14</th>\n",
              "      <td id=\"T_5de09_row14_col0\" class=\"data row14 col0\" >829-34-3910</td>\n",
              "      <td id=\"T_5de09_row14_col1\" class=\"data row14 col1\" >A</td>\n",
              "      <td id=\"T_5de09_row14_col2\" class=\"data row14 col2\" >C1702</td>\n",
              "      <td id=\"T_5de09_row14_col3\" class=\"data row14 col3\" >Yangon</td>\n",
              "      <td id=\"T_5de09_row14_col4\" class=\"data row14 col4\" >Normal</td>\n",
              "      <td id=\"T_5de09_row14_col5\" class=\"data row14 col5\" >Female</td>\n",
              "      <td id=\"T_5de09_row14_col6\" class=\"data row14 col6\" >Health and beauty</td>\n",
              "      <td id=\"T_5de09_row14_col7\" class=\"data row14 col7\" >71.380000</td>\n",
              "      <td id=\"T_5de09_row14_col8\" class=\"data row14 col8\" >10</td>\n",
              "      <td id=\"T_5de09_row14_col9\" class=\"data row14 col9\" >nan</td>\n",
              "      <td id=\"T_5de09_row14_col10\" class=\"data row14 col10\" >713.800000</td>\n",
              "      <td id=\"T_5de09_row14_col11\" class=\"data row14 col11\" >23-11-2019</td>\n",
              "      <td id=\"T_5de09_row14_col12\" class=\"data row14 col12\" >19:21</td>\n",
              "      <td id=\"T_5de09_row14_col13\" class=\"data row14 col13\" >Cash</td>\n",
              "      <td id=\"T_5de09_row14_col14\" class=\"data row14 col14\" >713.800000</td>\n",
              "      <td id=\"T_5de09_row14_col15\" class=\"data row14 col15\" >4.761905</td>\n",
              "      <td id=\"T_5de09_row14_col16\" class=\"data row14 col16\" >0.000000</td>\n",
              "      <td id=\"T_5de09_row14_col17\" class=\"data row14 col17\" >5.700000</td>\n",
              "      <td id=\"T_5de09_row14_col18\" class=\"data row14 col18\" >96.173500</td>\n",
              "      <td id=\"T_5de09_row14_col19\" class=\"data row14 col19\" >16.840900</td>\n",
              "    </tr>\n",
              "    <tr>\n",
              "      <th id=\"T_5de09_level0_row15\" class=\"row_heading level0 row15\" >15</th>\n",
              "      <td id=\"T_5de09_row15_col0\" class=\"data row15 col0\" >299-46-1805</td>\n",
              "      <td id=\"T_5de09_row15_col1\" class=\"data row15 col1\" >B</td>\n",
              "      <td id=\"T_5de09_row15_col2\" class=\"data row15 col2\" >C1280</td>\n",
              "      <td id=\"T_5de09_row15_col3\" class=\"data row15 col3\" >Mandalay</td>\n",
              "      <td id=\"T_5de09_row15_col4\" class=\"data row15 col4\" >Member</td>\n",
              "      <td id=\"T_5de09_row15_col5\" class=\"data row15 col5\" >Female</td>\n",
              "      <td id=\"T_5de09_row15_col6\" class=\"data row15 col6\" >Sports and travel</td>\n",
              "      <td id=\"T_5de09_row15_col7\" class=\"data row15 col7\" >93.720000</td>\n",
              "      <td id=\"T_5de09_row15_col8\" class=\"data row15 col8\" >11</td>\n",
              "      <td id=\"T_5de09_row15_col9\" class=\"data row15 col9\" >nan</td>\n",
              "      <td id=\"T_5de09_row15_col10\" class=\"data row15 col10\" >1030.920000</td>\n",
              "      <td id=\"T_5de09_row15_col11\" class=\"data row15 col11\" >15-07-2019</td>\n",
              "      <td id=\"T_5de09_row15_col12\" class=\"data row15 col12\" >16:19</td>\n",
              "      <td id=\"T_5de09_row15_col13\" class=\"data row15 col13\" >Cash</td>\n",
              "      <td id=\"T_5de09_row15_col14\" class=\"data row15 col14\" >562.320000</td>\n",
              "      <td id=\"T_5de09_row15_col15\" class=\"data row15 col15\" >4.761905</td>\n",
              "      <td id=\"T_5de09_row15_col16\" class=\"data row15 col16\" >468.600000</td>\n",
              "      <td id=\"T_5de09_row15_col17\" class=\"data row15 col17\" >5.400000</td>\n",
              "      <td id=\"T_5de09_row15_col18\" class=\"data row15 col18\" >96.089100</td>\n",
              "      <td id=\"T_5de09_row15_col19\" class=\"data row15 col19\" >21.958800</td>\n",
              "    </tr>\n",
              "    <tr>\n",
              "      <th id=\"T_5de09_level0_row16\" class=\"row_heading level0 row16\" >16</th>\n",
              "      <td id=\"T_5de09_row16_col0\" class=\"data row16 col0\" >656-95-9349</td>\n",
              "      <td id=\"T_5de09_row16_col1\" class=\"data row16 col1\" >A</td>\n",
              "      <td id=\"T_5de09_row16_col2\" class=\"data row16 col2\" >C1799</td>\n",
              "      <td id=\"T_5de09_row16_col3\" class=\"data row16 col3\" >Yangon</td>\n",
              "      <td id=\"T_5de09_row16_col4\" class=\"data row16 col4\" >Member</td>\n",
              "      <td id=\"T_5de09_row16_col5\" class=\"data row16 col5\" >Female</td>\n",
              "      <td id=\"T_5de09_row16_col6\" class=\"data row16 col6\" >Health and beauty</td>\n",
              "      <td id=\"T_5de09_row16_col7\" class=\"data row16 col7\" >68.930000</td>\n",
              "      <td id=\"T_5de09_row16_col8\" class=\"data row16 col8\" >10</td>\n",
              "      <td id=\"T_5de09_row16_col9\" class=\"data row16 col9\" >nan</td>\n",
              "      <td id=\"T_5de09_row16_col10\" class=\"data row16 col10\" >689.300000</td>\n",
              "      <td id=\"T_5de09_row16_col11\" class=\"data row16 col11\" >02-12-2019</td>\n",
              "      <td id=\"T_5de09_row16_col12\" class=\"data row16 col12\" >11:03</td>\n",
              "      <td id=\"T_5de09_row16_col13\" class=\"data row16 col13\" >Credit card</td>\n",
              "      <td id=\"T_5de09_row16_col14\" class=\"data row16 col14\" >482.510000</td>\n",
              "      <td id=\"T_5de09_row16_col15\" class=\"data row16 col15\" >4.761905</td>\n",
              "      <td id=\"T_5de09_row16_col16\" class=\"data row16 col16\" >206.790000</td>\n",
              "      <td id=\"T_5de09_row16_col17\" class=\"data row16 col17\" >4.600000</td>\n",
              "      <td id=\"T_5de09_row16_col18\" class=\"data row16 col18\" >96.173500</td>\n",
              "      <td id=\"T_5de09_row16_col19\" class=\"data row16 col19\" >16.840900</td>\n",
              "    </tr>\n",
              "    <tr>\n",
              "      <th id=\"T_5de09_level0_row17\" class=\"row_heading level0 row17\" >17</th>\n",
              "      <td id=\"T_5de09_row17_col0\" class=\"data row17 col0\" >765-26-6951</td>\n",
              "      <td id=\"T_5de09_row17_col1\" class=\"data row17 col1\" >A</td>\n",
              "      <td id=\"T_5de09_row17_col2\" class=\"data row17 col2\" >C1669</td>\n",
              "      <td id=\"T_5de09_row17_col3\" class=\"data row17 col3\" >Yangon</td>\n",
              "      <td id=\"T_5de09_row17_col4\" class=\"data row17 col4\" >Normal</td>\n",
              "      <td id=\"T_5de09_row17_col5\" class=\"data row17 col5\" >Male</td>\n",
              "      <td id=\"T_5de09_row17_col6\" class=\"data row17 col6\" >Sports and travel</td>\n",
              "      <td id=\"T_5de09_row17_col7\" class=\"data row17 col7\" >72.610000</td>\n",
              "      <td id=\"T_5de09_row17_col8\" class=\"data row17 col8\" >6</td>\n",
              "      <td id=\"T_5de09_row17_col9\" class=\"data row17 col9\" >nan</td>\n",
              "      <td id=\"T_5de09_row17_col10\" class=\"data row17 col10\" >435.660000</td>\n",
              "      <td id=\"T_5de09_row17_col11\" class=\"data row17 col11\" >09-03-2019</td>\n",
              "      <td id=\"T_5de09_row17_col12\" class=\"data row17 col12\" >10:39</td>\n",
              "      <td id=\"T_5de09_row17_col13\" class=\"data row17 col13\" >Credit card</td>\n",
              "      <td id=\"T_5de09_row17_col14\" class=\"data row17 col14\" >435.660000</td>\n",
              "      <td id=\"T_5de09_row17_col15\" class=\"data row17 col15\" >4.761905</td>\n",
              "      <td id=\"T_5de09_row17_col16\" class=\"data row17 col16\" >0.000000</td>\n",
              "      <td id=\"T_5de09_row17_col17\" class=\"data row17 col17\" >6.900000</td>\n",
              "      <td id=\"T_5de09_row17_col18\" class=\"data row17 col18\" >96.173500</td>\n",
              "      <td id=\"T_5de09_row17_col19\" class=\"data row17 col19\" >16.840900</td>\n",
              "    </tr>\n",
              "    <tr>\n",
              "      <th id=\"T_5de09_level0_row18\" class=\"row_heading level0 row18\" >18</th>\n",
              "      <td id=\"T_5de09_row18_col0\" class=\"data row18 col0\" >329-62-1586</td>\n",
              "      <td id=\"T_5de09_row18_col1\" class=\"data row18 col1\" >A</td>\n",
              "      <td id=\"T_5de09_row18_col2\" class=\"data row18 col2\" >C1645</td>\n",
              "      <td id=\"T_5de09_row18_col3\" class=\"data row18 col3\" >Yangon</td>\n",
              "      <td id=\"T_5de09_row18_col4\" class=\"data row18 col4\" >Normal</td>\n",
              "      <td id=\"T_5de09_row18_col5\" class=\"data row18 col5\" >Male</td>\n",
              "      <td id=\"T_5de09_row18_col6\" class=\"data row18 col6\" >Food and beverages</td>\n",
              "      <td id=\"T_5de09_row18_col7\" class=\"data row18 col7\" >54.670000</td>\n",
              "      <td id=\"T_5de09_row18_col8\" class=\"data row18 col8\" >3</td>\n",
              "      <td id=\"T_5de09_row18_col9\" class=\"data row18 col9\" >nan</td>\n",
              "      <td id=\"T_5de09_row18_col10\" class=\"data row18 col10\" >164.010000</td>\n",
              "      <td id=\"T_5de09_row18_col11\" class=\"data row18 col11\" >09-07-2019</td>\n",
              "      <td id=\"T_5de09_row18_col12\" class=\"data row18 col12\" >18:00</td>\n",
              "      <td id=\"T_5de09_row18_col13\" class=\"data row18 col13\" >Credit card</td>\n",
              "      <td id=\"T_5de09_row18_col14\" class=\"data row18 col14\" >164.010000</td>\n",
              "      <td id=\"T_5de09_row18_col15\" class=\"data row18 col15\" >4.761905</td>\n",
              "      <td id=\"T_5de09_row18_col16\" class=\"data row18 col16\" >0.000000</td>\n",
              "      <td id=\"T_5de09_row18_col17\" class=\"data row18 col17\" >8.600000</td>\n",
              "      <td id=\"T_5de09_row18_col18\" class=\"data row18 col18\" >96.173500</td>\n",
              "      <td id=\"T_5de09_row18_col19\" class=\"data row18 col19\" >16.840900</td>\n",
              "    </tr>\n",
              "    <tr>\n",
              "      <th id=\"T_5de09_level0_row19\" class=\"row_heading level0 row19\" >19</th>\n",
              "      <td id=\"T_5de09_row19_col0\" class=\"data row19 col0\" >319-50-3348</td>\n",
              "      <td id=\"T_5de09_row19_col1\" class=\"data row19 col1\" >B</td>\n",
              "      <td id=\"T_5de09_row19_col2\" class=\"data row19 col2\" >C1207</td>\n",
              "      <td id=\"T_5de09_row19_col3\" class=\"data row19 col3\" >Mandalay</td>\n",
              "      <td id=\"T_5de09_row19_col4\" class=\"data row19 col4\" >Normal</td>\n",
              "      <td id=\"T_5de09_row19_col5\" class=\"data row19 col5\" >Female</td>\n",
              "      <td id=\"T_5de09_row19_col6\" class=\"data row19 col6\" >Home and lifestyle</td>\n",
              "      <td id=\"T_5de09_row19_col7\" class=\"data row19 col7\" >40.300000</td>\n",
              "      <td id=\"T_5de09_row19_col8\" class=\"data row19 col8\" >3</td>\n",
              "      <td id=\"T_5de09_row19_col9\" class=\"data row19 col9\" >nan</td>\n",
              "      <td id=\"T_5de09_row19_col10\" class=\"data row19 col10\" >120.900000</td>\n",
              "      <td id=\"T_5de09_row19_col11\" class=\"data row19 col11\" >08-05-2019</td>\n",
              "      <td id=\"T_5de09_row19_col12\" class=\"data row19 col12\" >15:30</td>\n",
              "      <td id=\"T_5de09_row19_col13\" class=\"data row19 col13\" >Ewallet</td>\n",
              "      <td id=\"T_5de09_row19_col14\" class=\"data row19 col14\" >80.600000</td>\n",
              "      <td id=\"T_5de09_row19_col15\" class=\"data row19 col15\" >4.761905</td>\n",
              "      <td id=\"T_5de09_row19_col16\" class=\"data row19 col16\" >40.300000</td>\n",
              "      <td id=\"T_5de09_row19_col17\" class=\"data row19 col17\" >5.280000</td>\n",
              "      <td id=\"T_5de09_row19_col18\" class=\"data row19 col18\" >96.089100</td>\n",
              "      <td id=\"T_5de09_row19_col19\" class=\"data row19 col19\" >21.958800</td>\n",
              "    </tr>\n",
              "  </tbody>\n",
              "</table>\n"
            ]
          },
          "metadata": {},
          "execution_count": 4
        }
      ]
    },
    {
      "cell_type": "code",
      "source": [
        "sales_data.head()"
      ],
      "metadata": {
        "colab": {
          "base_uri": "https://localhost:8080/",
          "height": 478
        },
        "id": "QeP_fAzMaxm7",
        "outputId": "b882cc34-81d9-4d42-9312-ab30d52b907c"
      },
      "execution_count": null,
      "outputs": [
        {
          "output_type": "execute_result",
          "data": {
            "text/plain": [
              "    Invoice ID Branch CustomerID       City Customer type  Gender  \\\n",
              "0  750-67-8428      A      C1888     Yangon        Member  Female   \n",
              "1  226-31-3081      C      C1475  Naypyitaw        Normal  Female   \n",
              "2  631-41-3108      A      C1746     Yangon        Normal    Male   \n",
              "3  123-19-1176      A      C1896     Yangon        Member    Male   \n",
              "4  373-73-7910      A      C1790     Yangon        Normal    Male   \n",
              "\n",
              "        Product line  Unit price  Quantity   Tax 5%   Total        Date  \\\n",
              "0  Health and beauty       74.69        10  37.3450  746.90  21-02-2019   \n",
              "1  Health and beauty       15.28         6   4.5840   91.68  27-05-2019   \n",
              "2  Health and beauty       46.33         7  16.2155  324.31  27-12-2019   \n",
              "3  Health and beauty       58.22        11  32.0210  640.42  15-11-2019   \n",
              "4  Health and beauty       86.31         7  30.2085  604.17  31-03-2019   \n",
              "\n",
              "    Time      Payment        cogs  gross margin percentage  gross income  \\\n",
              "0  13:08      Ewallet  711.333333                 4.761905     35.566667   \n",
              "1  10:29         Cash   76.400000                 4.761905     15.280000   \n",
              "2  13:23  Credit card  324.310000                 4.761905      0.000000   \n",
              "3  20:33      Ewallet  465.760000                 4.761905    174.660000   \n",
              "4  10:37      Ewallet  604.170000                 4.761905      0.000000   \n",
              "\n",
              "   Rating  Longitude  Latitude  \n",
              "0     9.1    96.1735   16.8409  \n",
              "1    10.0    96.0785   19.7633  \n",
              "2     7.4    96.1735   16.8409  \n",
              "3     8.4    96.1735   16.8409  \n",
              "4     NaN    96.1735   16.8409  "
            ],
            "text/html": [
              "\n",
              "  <div id=\"df-a9c62630-5cc2-4e2c-b750-9694b70fd2ca\">\n",
              "    <div class=\"colab-df-container\">\n",
              "      <div>\n",
              "<style scoped>\n",
              "    .dataframe tbody tr th:only-of-type {\n",
              "        vertical-align: middle;\n",
              "    }\n",
              "\n",
              "    .dataframe tbody tr th {\n",
              "        vertical-align: top;\n",
              "    }\n",
              "\n",
              "    .dataframe thead th {\n",
              "        text-align: right;\n",
              "    }\n",
              "</style>\n",
              "<table border=\"1\" class=\"dataframe\">\n",
              "  <thead>\n",
              "    <tr style=\"text-align: right;\">\n",
              "      <th></th>\n",
              "      <th>Invoice ID</th>\n",
              "      <th>Branch</th>\n",
              "      <th>CustomerID</th>\n",
              "      <th>City</th>\n",
              "      <th>Customer type</th>\n",
              "      <th>Gender</th>\n",
              "      <th>Product line</th>\n",
              "      <th>Unit price</th>\n",
              "      <th>Quantity</th>\n",
              "      <th>Tax 5%</th>\n",
              "      <th>Total</th>\n",
              "      <th>Date</th>\n",
              "      <th>Time</th>\n",
              "      <th>Payment</th>\n",
              "      <th>cogs</th>\n",
              "      <th>gross margin percentage</th>\n",
              "      <th>gross income</th>\n",
              "      <th>Rating</th>\n",
              "      <th>Longitude</th>\n",
              "      <th>Latitude</th>\n",
              "    </tr>\n",
              "  </thead>\n",
              "  <tbody>\n",
              "    <tr>\n",
              "      <th>0</th>\n",
              "      <td>750-67-8428</td>\n",
              "      <td>A</td>\n",
              "      <td>C1888</td>\n",
              "      <td>Yangon</td>\n",
              "      <td>Member</td>\n",
              "      <td>Female</td>\n",
              "      <td>Health and beauty</td>\n",
              "      <td>74.69</td>\n",
              "      <td>10</td>\n",
              "      <td>37.3450</td>\n",
              "      <td>746.90</td>\n",
              "      <td>21-02-2019</td>\n",
              "      <td>13:08</td>\n",
              "      <td>Ewallet</td>\n",
              "      <td>711.333333</td>\n",
              "      <td>4.761905</td>\n",
              "      <td>35.566667</td>\n",
              "      <td>9.1</td>\n",
              "      <td>96.1735</td>\n",
              "      <td>16.8409</td>\n",
              "    </tr>\n",
              "    <tr>\n",
              "      <th>1</th>\n",
              "      <td>226-31-3081</td>\n",
              "      <td>C</td>\n",
              "      <td>C1475</td>\n",
              "      <td>Naypyitaw</td>\n",
              "      <td>Normal</td>\n",
              "      <td>Female</td>\n",
              "      <td>Health and beauty</td>\n",
              "      <td>15.28</td>\n",
              "      <td>6</td>\n",
              "      <td>4.5840</td>\n",
              "      <td>91.68</td>\n",
              "      <td>27-05-2019</td>\n",
              "      <td>10:29</td>\n",
              "      <td>Cash</td>\n",
              "      <td>76.400000</td>\n",
              "      <td>4.761905</td>\n",
              "      <td>15.280000</td>\n",
              "      <td>10.0</td>\n",
              "      <td>96.0785</td>\n",
              "      <td>19.7633</td>\n",
              "    </tr>\n",
              "    <tr>\n",
              "      <th>2</th>\n",
              "      <td>631-41-3108</td>\n",
              "      <td>A</td>\n",
              "      <td>C1746</td>\n",
              "      <td>Yangon</td>\n",
              "      <td>Normal</td>\n",
              "      <td>Male</td>\n",
              "      <td>Health and beauty</td>\n",
              "      <td>46.33</td>\n",
              "      <td>7</td>\n",
              "      <td>16.2155</td>\n",
              "      <td>324.31</td>\n",
              "      <td>27-12-2019</td>\n",
              "      <td>13:23</td>\n",
              "      <td>Credit card</td>\n",
              "      <td>324.310000</td>\n",
              "      <td>4.761905</td>\n",
              "      <td>0.000000</td>\n",
              "      <td>7.4</td>\n",
              "      <td>96.1735</td>\n",
              "      <td>16.8409</td>\n",
              "    </tr>\n",
              "    <tr>\n",
              "      <th>3</th>\n",
              "      <td>123-19-1176</td>\n",
              "      <td>A</td>\n",
              "      <td>C1896</td>\n",
              "      <td>Yangon</td>\n",
              "      <td>Member</td>\n",
              "      <td>Male</td>\n",
              "      <td>Health and beauty</td>\n",
              "      <td>58.22</td>\n",
              "      <td>11</td>\n",
              "      <td>32.0210</td>\n",
              "      <td>640.42</td>\n",
              "      <td>15-11-2019</td>\n",
              "      <td>20:33</td>\n",
              "      <td>Ewallet</td>\n",
              "      <td>465.760000</td>\n",
              "      <td>4.761905</td>\n",
              "      <td>174.660000</td>\n",
              "      <td>8.4</td>\n",
              "      <td>96.1735</td>\n",
              "      <td>16.8409</td>\n",
              "    </tr>\n",
              "    <tr>\n",
              "      <th>4</th>\n",
              "      <td>373-73-7910</td>\n",
              "      <td>A</td>\n",
              "      <td>C1790</td>\n",
              "      <td>Yangon</td>\n",
              "      <td>Normal</td>\n",
              "      <td>Male</td>\n",
              "      <td>Health and beauty</td>\n",
              "      <td>86.31</td>\n",
              "      <td>7</td>\n",
              "      <td>30.2085</td>\n",
              "      <td>604.17</td>\n",
              "      <td>31-03-2019</td>\n",
              "      <td>10:37</td>\n",
              "      <td>Ewallet</td>\n",
              "      <td>604.170000</td>\n",
              "      <td>4.761905</td>\n",
              "      <td>0.000000</td>\n",
              "      <td>NaN</td>\n",
              "      <td>96.1735</td>\n",
              "      <td>16.8409</td>\n",
              "    </tr>\n",
              "  </tbody>\n",
              "</table>\n",
              "</div>\n",
              "      <button class=\"colab-df-convert\" onclick=\"convertToInteractive('df-a9c62630-5cc2-4e2c-b750-9694b70fd2ca')\"\n",
              "              title=\"Convert this dataframe to an interactive table.\"\n",
              "              style=\"display:none;\">\n",
              "        \n",
              "  <svg xmlns=\"http://www.w3.org/2000/svg\" height=\"24px\"viewBox=\"0 0 24 24\"\n",
              "       width=\"24px\">\n",
              "    <path d=\"M0 0h24v24H0V0z\" fill=\"none\"/>\n",
              "    <path d=\"M18.56 5.44l.94 2.06.94-2.06 2.06-.94-2.06-.94-.94-2.06-.94 2.06-2.06.94zm-11 1L8.5 8.5l.94-2.06 2.06-.94-2.06-.94L8.5 2.5l-.94 2.06-2.06.94zm10 10l.94 2.06.94-2.06 2.06-.94-2.06-.94-.94-2.06-.94 2.06-2.06.94z\"/><path d=\"M17.41 7.96l-1.37-1.37c-.4-.4-.92-.59-1.43-.59-.52 0-1.04.2-1.43.59L10.3 9.45l-7.72 7.72c-.78.78-.78 2.05 0 2.83L4 21.41c.39.39.9.59 1.41.59.51 0 1.02-.2 1.41-.59l7.78-7.78 2.81-2.81c.8-.78.8-2.07 0-2.86zM5.41 20L4 18.59l7.72-7.72 1.47 1.35L5.41 20z\"/>\n",
              "  </svg>\n",
              "      </button>\n",
              "      \n",
              "  <style>\n",
              "    .colab-df-container {\n",
              "      display:flex;\n",
              "      flex-wrap:wrap;\n",
              "      gap: 12px;\n",
              "    }\n",
              "\n",
              "    .colab-df-convert {\n",
              "      background-color: #E8F0FE;\n",
              "      border: none;\n",
              "      border-radius: 50%;\n",
              "      cursor: pointer;\n",
              "      display: none;\n",
              "      fill: #1967D2;\n",
              "      height: 32px;\n",
              "      padding: 0 0 0 0;\n",
              "      width: 32px;\n",
              "    }\n",
              "\n",
              "    .colab-df-convert:hover {\n",
              "      background-color: #E2EBFA;\n",
              "      box-shadow: 0px 1px 2px rgba(60, 64, 67, 0.3), 0px 1px 3px 1px rgba(60, 64, 67, 0.15);\n",
              "      fill: #174EA6;\n",
              "    }\n",
              "\n",
              "    [theme=dark] .colab-df-convert {\n",
              "      background-color: #3B4455;\n",
              "      fill: #D2E3FC;\n",
              "    }\n",
              "\n",
              "    [theme=dark] .colab-df-convert:hover {\n",
              "      background-color: #434B5C;\n",
              "      box-shadow: 0px 1px 3px 1px rgba(0, 0, 0, 0.15);\n",
              "      filter: drop-shadow(0px 1px 2px rgba(0, 0, 0, 0.3));\n",
              "      fill: #FFFFFF;\n",
              "    }\n",
              "  </style>\n",
              "\n",
              "      <script>\n",
              "        const buttonEl =\n",
              "          document.querySelector('#df-a9c62630-5cc2-4e2c-b750-9694b70fd2ca button.colab-df-convert');\n",
              "        buttonEl.style.display =\n",
              "          google.colab.kernel.accessAllowed ? 'block' : 'none';\n",
              "\n",
              "        async function convertToInteractive(key) {\n",
              "          const element = document.querySelector('#df-a9c62630-5cc2-4e2c-b750-9694b70fd2ca');\n",
              "          const dataTable =\n",
              "            await google.colab.kernel.invokeFunction('convertToInteractive',\n",
              "                                                     [key], {});\n",
              "          if (!dataTable) return;\n",
              "\n",
              "          const docLinkHtml = 'Like what you see? Visit the ' +\n",
              "            '<a target=\"_blank\" href=https://colab.research.google.com/notebooks/data_table.ipynb>data table notebook</a>'\n",
              "            + ' to learn more about interactive tables.';\n",
              "          element.innerHTML = '';\n",
              "          dataTable['output_type'] = 'display_data';\n",
              "          await google.colab.output.renderOutput(dataTable, element);\n",
              "          const docLink = document.createElement('div');\n",
              "          docLink.innerHTML = docLinkHtml;\n",
              "          element.appendChild(docLink);\n",
              "        }\n",
              "      </script>\n",
              "    </div>\n",
              "  </div>\n",
              "  "
            ]
          },
          "metadata": {},
          "execution_count": 5
        }
      ]
    },
    {
      "cell_type": "markdown",
      "source": [
        "Shape of the data"
      ],
      "metadata": {
        "id": "4cfWMBGdYyjp"
      }
    },
    {
      "cell_type": "code",
      "source": [
        "sales_data.shape"
      ],
      "metadata": {
        "colab": {
          "base_uri": "https://localhost:8080/"
        },
        "id": "Ap9PPtgEkU9G",
        "outputId": "2f37d853-c2b5-46fa-84bf-47df7812d4fe"
      },
      "execution_count": null,
      "outputs": [
        {
          "output_type": "execute_result",
          "data": {
            "text/plain": [
              "(1000, 20)"
            ]
          },
          "metadata": {},
          "execution_count": 6
        }
      ]
    },
    {
      "cell_type": "markdown",
      "source": [
        "Describtion of data"
      ],
      "metadata": {
        "id": "JgPMadWyY2HW"
      }
    },
    {
      "cell_type": "code",
      "source": [
        "sales_data.describe().iloc[1:,:]"
      ],
      "metadata": {
        "colab": {
          "base_uri": "https://localhost:8080/",
          "height": 269
        },
        "id": "B0iB5X5TZDL8",
        "outputId": "3055422c-0c7d-459d-b246-d3252b41e1cc"
      },
      "execution_count": null,
      "outputs": [
        {
          "output_type": "execute_result",
          "data": {
            "text/plain": [
              "      Unit price   Quantity     Tax 5%        Total        cogs  \\\n",
              "mean   55.672130   7.485000  20.966930   419.149340  307.775883   \n",
              "std    26.494628   4.520643  17.604704   347.824683  234.425682   \n",
              "min    10.080000   1.000000   0.508500    10.170000   10.170000   \n",
              "25%    32.875000   4.000000   7.479500   152.745000  118.497500   \n",
              "50%    55.230000   7.000000  15.468250   317.695000  241.760000   \n",
              "75%    77.935000  11.000000  30.205875   605.222500  448.905000   \n",
              "max    99.960000  20.000000  87.498000  1749.960000  993.000000   \n",
              "\n",
              "      gross margin percentage  gross income     Rating  Longitude   Latitude  \n",
              "mean                 4.761905    111.373457   7.462625  96.114319  19.498590  \n",
              "std                  0.000000    149.212835   1.776179   0.042715   2.106757  \n",
              "min                  4.761905      0.000000   4.000000  96.078500  16.840900  \n",
              "25%                  4.761905      0.000000   5.900000  96.078500  16.840900  \n",
              "50%                  4.761905     63.650000   7.455000  96.089100  19.763300  \n",
              "75%                  4.761905    161.022500   9.100000  96.173500  21.958800  \n",
              "max                  4.761905    874.980000  10.000000  96.173500  21.958800  "
            ],
            "text/html": [
              "\n",
              "  <div id=\"df-ba66c03f-217c-4b43-a82e-c9bc49c30ec9\">\n",
              "    <div class=\"colab-df-container\">\n",
              "      <div>\n",
              "<style scoped>\n",
              "    .dataframe tbody tr th:only-of-type {\n",
              "        vertical-align: middle;\n",
              "    }\n",
              "\n",
              "    .dataframe tbody tr th {\n",
              "        vertical-align: top;\n",
              "    }\n",
              "\n",
              "    .dataframe thead th {\n",
              "        text-align: right;\n",
              "    }\n",
              "</style>\n",
              "<table border=\"1\" class=\"dataframe\">\n",
              "  <thead>\n",
              "    <tr style=\"text-align: right;\">\n",
              "      <th></th>\n",
              "      <th>Unit price</th>\n",
              "      <th>Quantity</th>\n",
              "      <th>Tax 5%</th>\n",
              "      <th>Total</th>\n",
              "      <th>cogs</th>\n",
              "      <th>gross margin percentage</th>\n",
              "      <th>gross income</th>\n",
              "      <th>Rating</th>\n",
              "      <th>Longitude</th>\n",
              "      <th>Latitude</th>\n",
              "    </tr>\n",
              "  </thead>\n",
              "  <tbody>\n",
              "    <tr>\n",
              "      <th>mean</th>\n",
              "      <td>55.672130</td>\n",
              "      <td>7.485000</td>\n",
              "      <td>20.966930</td>\n",
              "      <td>419.149340</td>\n",
              "      <td>307.775883</td>\n",
              "      <td>4.761905</td>\n",
              "      <td>111.373457</td>\n",
              "      <td>7.462625</td>\n",
              "      <td>96.114319</td>\n",
              "      <td>19.498590</td>\n",
              "    </tr>\n",
              "    <tr>\n",
              "      <th>std</th>\n",
              "      <td>26.494628</td>\n",
              "      <td>4.520643</td>\n",
              "      <td>17.604704</td>\n",
              "      <td>347.824683</td>\n",
              "      <td>234.425682</td>\n",
              "      <td>0.000000</td>\n",
              "      <td>149.212835</td>\n",
              "      <td>1.776179</td>\n",
              "      <td>0.042715</td>\n",
              "      <td>2.106757</td>\n",
              "    </tr>\n",
              "    <tr>\n",
              "      <th>min</th>\n",
              "      <td>10.080000</td>\n",
              "      <td>1.000000</td>\n",
              "      <td>0.508500</td>\n",
              "      <td>10.170000</td>\n",
              "      <td>10.170000</td>\n",
              "      <td>4.761905</td>\n",
              "      <td>0.000000</td>\n",
              "      <td>4.000000</td>\n",
              "      <td>96.078500</td>\n",
              "      <td>16.840900</td>\n",
              "    </tr>\n",
              "    <tr>\n",
              "      <th>25%</th>\n",
              "      <td>32.875000</td>\n",
              "      <td>4.000000</td>\n",
              "      <td>7.479500</td>\n",
              "      <td>152.745000</td>\n",
              "      <td>118.497500</td>\n",
              "      <td>4.761905</td>\n",
              "      <td>0.000000</td>\n",
              "      <td>5.900000</td>\n",
              "      <td>96.078500</td>\n",
              "      <td>16.840900</td>\n",
              "    </tr>\n",
              "    <tr>\n",
              "      <th>50%</th>\n",
              "      <td>55.230000</td>\n",
              "      <td>7.000000</td>\n",
              "      <td>15.468250</td>\n",
              "      <td>317.695000</td>\n",
              "      <td>241.760000</td>\n",
              "      <td>4.761905</td>\n",
              "      <td>63.650000</td>\n",
              "      <td>7.455000</td>\n",
              "      <td>96.089100</td>\n",
              "      <td>19.763300</td>\n",
              "    </tr>\n",
              "    <tr>\n",
              "      <th>75%</th>\n",
              "      <td>77.935000</td>\n",
              "      <td>11.000000</td>\n",
              "      <td>30.205875</td>\n",
              "      <td>605.222500</td>\n",
              "      <td>448.905000</td>\n",
              "      <td>4.761905</td>\n",
              "      <td>161.022500</td>\n",
              "      <td>9.100000</td>\n",
              "      <td>96.173500</td>\n",
              "      <td>21.958800</td>\n",
              "    </tr>\n",
              "    <tr>\n",
              "      <th>max</th>\n",
              "      <td>99.960000</td>\n",
              "      <td>20.000000</td>\n",
              "      <td>87.498000</td>\n",
              "      <td>1749.960000</td>\n",
              "      <td>993.000000</td>\n",
              "      <td>4.761905</td>\n",
              "      <td>874.980000</td>\n",
              "      <td>10.000000</td>\n",
              "      <td>96.173500</td>\n",
              "      <td>21.958800</td>\n",
              "    </tr>\n",
              "  </tbody>\n",
              "</table>\n",
              "</div>\n",
              "      <button class=\"colab-df-convert\" onclick=\"convertToInteractive('df-ba66c03f-217c-4b43-a82e-c9bc49c30ec9')\"\n",
              "              title=\"Convert this dataframe to an interactive table.\"\n",
              "              style=\"display:none;\">\n",
              "        \n",
              "  <svg xmlns=\"http://www.w3.org/2000/svg\" height=\"24px\"viewBox=\"0 0 24 24\"\n",
              "       width=\"24px\">\n",
              "    <path d=\"M0 0h24v24H0V0z\" fill=\"none\"/>\n",
              "    <path d=\"M18.56 5.44l.94 2.06.94-2.06 2.06-.94-2.06-.94-.94-2.06-.94 2.06-2.06.94zm-11 1L8.5 8.5l.94-2.06 2.06-.94-2.06-.94L8.5 2.5l-.94 2.06-2.06.94zm10 10l.94 2.06.94-2.06 2.06-.94-2.06-.94-.94-2.06-.94 2.06-2.06.94z\"/><path d=\"M17.41 7.96l-1.37-1.37c-.4-.4-.92-.59-1.43-.59-.52 0-1.04.2-1.43.59L10.3 9.45l-7.72 7.72c-.78.78-.78 2.05 0 2.83L4 21.41c.39.39.9.59 1.41.59.51 0 1.02-.2 1.41-.59l7.78-7.78 2.81-2.81c.8-.78.8-2.07 0-2.86zM5.41 20L4 18.59l7.72-7.72 1.47 1.35L5.41 20z\"/>\n",
              "  </svg>\n",
              "      </button>\n",
              "      \n",
              "  <style>\n",
              "    .colab-df-container {\n",
              "      display:flex;\n",
              "      flex-wrap:wrap;\n",
              "      gap: 12px;\n",
              "    }\n",
              "\n",
              "    .colab-df-convert {\n",
              "      background-color: #E8F0FE;\n",
              "      border: none;\n",
              "      border-radius: 50%;\n",
              "      cursor: pointer;\n",
              "      display: none;\n",
              "      fill: #1967D2;\n",
              "      height: 32px;\n",
              "      padding: 0 0 0 0;\n",
              "      width: 32px;\n",
              "    }\n",
              "\n",
              "    .colab-df-convert:hover {\n",
              "      background-color: #E2EBFA;\n",
              "      box-shadow: 0px 1px 2px rgba(60, 64, 67, 0.3), 0px 1px 3px 1px rgba(60, 64, 67, 0.15);\n",
              "      fill: #174EA6;\n",
              "    }\n",
              "\n",
              "    [theme=dark] .colab-df-convert {\n",
              "      background-color: #3B4455;\n",
              "      fill: #D2E3FC;\n",
              "    }\n",
              "\n",
              "    [theme=dark] .colab-df-convert:hover {\n",
              "      background-color: #434B5C;\n",
              "      box-shadow: 0px 1px 3px 1px rgba(0, 0, 0, 0.15);\n",
              "      filter: drop-shadow(0px 1px 2px rgba(0, 0, 0, 0.3));\n",
              "      fill: #FFFFFF;\n",
              "    }\n",
              "  </style>\n",
              "\n",
              "      <script>\n",
              "        const buttonEl =\n",
              "          document.querySelector('#df-ba66c03f-217c-4b43-a82e-c9bc49c30ec9 button.colab-df-convert');\n",
              "        buttonEl.style.display =\n",
              "          google.colab.kernel.accessAllowed ? 'block' : 'none';\n",
              "\n",
              "        async function convertToInteractive(key) {\n",
              "          const element = document.querySelector('#df-ba66c03f-217c-4b43-a82e-c9bc49c30ec9');\n",
              "          const dataTable =\n",
              "            await google.colab.kernel.invokeFunction('convertToInteractive',\n",
              "                                                     [key], {});\n",
              "          if (!dataTable) return;\n",
              "\n",
              "          const docLinkHtml = 'Like what you see? Visit the ' +\n",
              "            '<a target=\"_blank\" href=https://colab.research.google.com/notebooks/data_table.ipynb>data table notebook</a>'\n",
              "            + ' to learn more about interactive tables.';\n",
              "          element.innerHTML = '';\n",
              "          dataTable['output_type'] = 'display_data';\n",
              "          await google.colab.output.renderOutput(dataTable, element);\n",
              "          const docLink = document.createElement('div');\n",
              "          docLink.innerHTML = docLinkHtml;\n",
              "          element.appendChild(docLink);\n",
              "        }\n",
              "      </script>\n",
              "    </div>\n",
              "  </div>\n",
              "  "
            ]
          },
          "metadata": {},
          "execution_count": 7
        }
      ]
    },
    {
      "cell_type": "markdown",
      "source": [
        "**Observation**\n",
        "\n",
        "-Unit price range is 10.08 to 99.96 with average 55.67.\n",
        "\n",
        "-Mostly Gross margin is same 4.76%.\n",
        "\n",
        "-Mean rating is 7.46/10.\n",
        "\n",
        "-Avg quantity sold 7.48 with range 1 to 20"
      ],
      "metadata": {
        "id": "uELNmUNzew5f"
      }
    },
    {
      "cell_type": "markdown",
      "source": [
        "Check data types and null counts"
      ],
      "metadata": {
        "id": "6Nh82vYjg-a5"
      }
    },
    {
      "cell_type": "code",
      "source": [
        "sales_data.info()"
      ],
      "metadata": {
        "colab": {
          "base_uri": "https://localhost:8080/"
        },
        "id": "8MgDHem9hBLj",
        "outputId": "05ddedfa-8420-414b-ccd8-2b129a071999"
      },
      "execution_count": null,
      "outputs": [
        {
          "output_type": "stream",
          "name": "stdout",
          "text": [
            "<class 'pandas.core.frame.DataFrame'>\n",
            "RangeIndex: 1000 entries, 0 to 999\n",
            "Data columns (total 20 columns):\n",
            " #   Column                   Non-Null Count  Dtype  \n",
            "---  ------                   --------------  -----  \n",
            " 0   Invoice ID               1000 non-null   object \n",
            " 1   Branch                   806 non-null    object \n",
            " 2   CustomerID               1000 non-null   object \n",
            " 3   City                     1000 non-null   object \n",
            " 4   Customer type            952 non-null    object \n",
            " 5   Gender                   975 non-null    object \n",
            " 6   Product line             977 non-null    object \n",
            " 7   Unit price               1000 non-null   float64\n",
            " 8   Quantity                 1000 non-null   int64  \n",
            " 9   Tax 5%                   896 non-null    float64\n",
            " 10  Total                    1000 non-null   float64\n",
            " 11  Date                     1000 non-null   object \n",
            " 12  Time                     1000 non-null   object \n",
            " 13  Payment                  979 non-null    object \n",
            " 14  cogs                     1000 non-null   float64\n",
            " 15  gross margin percentage  1000 non-null   float64\n",
            " 16  gross income             1000 non-null   float64\n",
            " 17  Rating                   857 non-null    float64\n",
            " 18  Longitude                1000 non-null   float64\n",
            " 19  Latitude                 1000 non-null   float64\n",
            "dtypes: float64(9), int64(1), object(10)\n",
            "memory usage: 156.4+ KB\n"
          ]
        }
      ]
    },
    {
      "cell_type": "markdown",
      "source": [
        "# **Data Imputation**\n",
        "\n",
        "check count of null values in %"
      ],
      "metadata": {
        "id": "DB-jI2vdjaLu"
      }
    },
    {
      "cell_type": "code",
      "source": [
        "null_perc=sales_data.isnull().sum()/len(sales_data)*100\n",
        "null_perc.sort_values(ascending=False)"
      ],
      "metadata": {
        "colab": {
          "base_uri": "https://localhost:8080/"
        },
        "id": "vEOqNSDOjkUf",
        "outputId": "a2b2dadf-b946-4f7f-ab3e-2f3a23f62f71"
      },
      "execution_count": null,
      "outputs": [
        {
          "output_type": "execute_result",
          "data": {
            "text/plain": [
              "Branch                     19.4\n",
              "Rating                     14.3\n",
              "Tax 5%                     10.4\n",
              "Customer type               4.8\n",
              "Gender                      2.5\n",
              "Product line                2.3\n",
              "Payment                     2.1\n",
              "Invoice ID                  0.0\n",
              "Longitude                   0.0\n",
              "gross income                0.0\n",
              "gross margin percentage     0.0\n",
              "cogs                        0.0\n",
              "Total                       0.0\n",
              "Time                        0.0\n",
              "Date                        0.0\n",
              "Quantity                    0.0\n",
              "Unit price                  0.0\n",
              "City                        0.0\n",
              "CustomerID                  0.0\n",
              "Latitude                    0.0\n",
              "dtype: float64"
            ]
          },
          "metadata": {},
          "execution_count": 9
        }
      ]
    },
    {
      "cell_type": "code",
      "source": [
        "null_perc.sort_values(ascending=False).plot(kind=\"bar\")"
      ],
      "metadata": {
        "colab": {
          "base_uri": "https://localhost:8080/",
          "height": 452
        },
        "id": "MtbNhsudpaya",
        "outputId": "697a1e07-a651-4335-aec7-cbb2fadb7d79"
      },
      "execution_count": null,
      "outputs": [
        {
          "output_type": "execute_result",
          "data": {
            "text/plain": [
              "<AxesSubplot:>"
            ]
          },
          "metadata": {},
          "execution_count": 10
        },
        {
          "output_type": "display_data",
          "data": {
            "text/plain": [
              "<Figure size 720x360 with 1 Axes>"
            ],
            "image/png": "[encoded data removed]"
          },
          "metadata": {
            "needs_background": "light"
          }
        }
      ]
    },
    {
      "cell_type": "markdown",
      "source": [
        "Make a copy of dataset for data wrangling and for further EDA ,in case original needs in future"
      ],
      "metadata": {
        "id": "uti4MerDHzUq"
      }
    },
    {
      "cell_type": "code",
      "source": [
        "sales_data2=sales_data.copy()"
      ],
      "metadata": {
        "id": "fwDgVNwLHyKh"
      },
      "execution_count": null,
      "outputs": []
    },
    {
      "cell_type": "markdown",
      "source": [
        "Imputing NULLs for Rating column"
      ],
      "metadata": {
        "id": "hJaATreMI81i"
      }
    },
    {
      "cell_type": "markdown",
      "source": [
        "Putting Rating column's nulls with mean value of that column"
      ],
      "metadata": {
        "id": "4BTtrqrxJEKD"
      }
    },
    {
      "cell_type": "code",
      "source": [
        "sales_data2.Rating.isnull().sum()"
      ],
      "metadata": {
        "colab": {
          "base_uri": "https://localhost:8080/"
        },
        "id": "F7adLGVbJRKD",
        "outputId": "335b738f-fbfe-4dfe-dd1c-da5950cea0da"
      },
      "execution_count": null,
      "outputs": [
        {
          "output_type": "execute_result",
          "data": {
            "text/plain": [
              "143"
            ]
          },
          "metadata": {},
          "execution_count": 12
        }
      ]
    },
    {
      "cell_type": "code",
      "source": [
        "sales_data2[\"Rating\"].mean()"
      ],
      "metadata": {
        "colab": {
          "base_uri": "https://localhost:8080/"
        },
        "id": "BZqfH_F3KUXF",
        "outputId": "c787c36c-4394-4d35-a874-00d7c309935d"
      },
      "execution_count": null,
      "outputs": [
        {
          "output_type": "execute_result",
          "data": {
            "text/plain": [
              "7.462625437572928"
            ]
          },
          "metadata": {},
          "execution_count": 13
        }
      ]
    },
    {
      "cell_type": "code",
      "source": [
        "  sales_data2[\"Rating\"]=sales_data2[\"Rating\"].fillna(sales_data2[\"Rating\"].mean())"
      ],
      "metadata": {
        "id": "RaeLc01tIUPv"
      },
      "execution_count": null,
      "outputs": []
    },
    {
      "cell_type": "code",
      "source": [
        "sales_data2[\"Rating\"].isnull().sum()"
      ],
      "metadata": {
        "colab": {
          "base_uri": "https://localhost:8080/"
        },
        "id": "-KKsJPMFjavN",
        "outputId": "bb6f0a9d-a43b-4564-9f11-229c26d4d18c"
      },
      "execution_count": null,
      "outputs": [
        {
          "output_type": "execute_result",
          "data": {
            "text/plain": [
              "0"
            ]
          },
          "metadata": {},
          "execution_count": 15
        }
      ]
    },
    {
      "cell_type": "markdown",
      "source": [
        "To check"
      ],
      "metadata": {
        "id": "ID5XS7sQcwhK"
      }
    },
    {
      "cell_type": "code",
      "source": [
        "sns.displot(sales_data2.Rating,bins=20,kde=True)"
      ],
      "metadata": {
        "colab": {
          "base_uri": "https://localhost:8080/",
          "height": 386
        },
        "id": "IpARFNz1b4ta",
        "outputId": "33ccb934-53d3-4508-dd20-79746d8bffa6"
      },
      "execution_count": null,
      "outputs": [
        {
          "output_type": "execute_result",
          "data": {
            "text/plain": [
              "<seaborn.axisgrid.FacetGrid at 0x7f29c4ff0b20>"
            ]
          },
          "metadata": {},
          "execution_count": 16
        },
        {
          "output_type": "display_data",
          "data": {
            "text/plain": [
              "<Figure size 360x360 with 1 Axes>"
            ],
            "image/png": "[encoded data removed]"
          },
          "metadata": {
            "needs_background": "light"
          }
        }
      ]
    },
    {
      "cell_type": "markdown",
      "source": [
        "Imputing NULLs for Tax column"
      ],
      "metadata": {
        "id": "wpvRTWDMc4-j"
      }
    },
    {
      "cell_type": "markdown",
      "source": [
        "From that data we can see that Tax is 5% of the invoice is 5% of Total column .so to fill Tax 5% column NULLs cells fetching 5% of amount from Total column"
      ],
      "metadata": {
        "id": "YGVeMVnPc9fK"
      }
    },
    {
      "cell_type": "code",
      "source": [
        "sales_data2[\"Tax 5%\"]=sales_data2[\"Tax 5%\"].fillna(sales_data2[\"Total\"]*0.05)"
      ],
      "metadata": {
        "id": "LzpxM8aBct84"
      },
      "execution_count": null,
      "outputs": []
    },
    {
      "cell_type": "code",
      "source": [
        "sales_data2[\"Tax 5%\"].isnull().sum()"
      ],
      "metadata": {
        "colab": {
          "base_uri": "https://localhost:8080/"
        },
        "id": "h9nQaPY8jTpF",
        "outputId": "e7c79776-1153-4d9e-b78d-6d3ae753fb19"
      },
      "execution_count": null,
      "outputs": [
        {
          "output_type": "execute_result",
          "data": {
            "text/plain": [
              "0"
            ]
          },
          "metadata": {},
          "execution_count": 18
        }
      ]
    },
    {
      "cell_type": "markdown",
      "source": [
        "Mode is the common way to fill null values in categorical variable.\n",
        "\n",
        "It is a better way to define function so that can be use multiple times."
      ],
      "metadata": {
        "id": "W2E1Xy_Cxdt6"
      }
    },
    {
      "cell_type": "code",
      "source": [
        "def impute_mode(col):\n",
        "  print(\"The mode value of this field - \",sales_data2[col].mode()[0])\n",
        "  sales_data2[col]=sales_data2[col].fillna(sales_data2[col].mode()[0])\n",
        "  print(\"mode value umputied\")"
      ],
      "metadata": {
        "id": "Pg1xoz5voq-V"
      },
      "execution_count": null,
      "outputs": []
    },
    {
      "cell_type": "code",
      "source": [
        "impute_mode(\"Gender\")"
      ],
      "metadata": {
        "colab": {
          "base_uri": "https://localhost:8080/"
        },
        "id": "LsQCdYkUyZqQ",
        "outputId": "61029947-7e48-45f6-89d1-57d0e2089d34"
      },
      "execution_count": null,
      "outputs": [
        {
          "output_type": "stream",
          "name": "stdout",
          "text": [
            "The mode value of this field -  Female\n",
            "mode value umputied\n"
          ]
        }
      ]
    },
    {
      "cell_type": "code",
      "source": [
        "impute_mode(\"Customer type\")"
      ],
      "metadata": {
        "colab": {
          "base_uri": "https://localhost:8080/"
        },
        "id": "20RzTpGMzVxH",
        "outputId": "2b6d80e5-371c-4f4f-9338-10e06641e5c1"
      },
      "execution_count": null,
      "outputs": [
        {
          "output_type": "stream",
          "name": "stdout",
          "text": [
            "The mode value of this field -  Normal\n",
            "mode value umputied\n"
          ]
        }
      ]
    },
    {
      "cell_type": "code",
      "source": [
        "impute_mode(\"Product line\")"
      ],
      "metadata": {
        "colab": {
          "base_uri": "https://localhost:8080/"
        },
        "id": "3gccQhqNzevG",
        "outputId": "12e6b9f9-9d53-46aa-dde2-5a1cd5cf7f65"
      },
      "execution_count": null,
      "outputs": [
        {
          "output_type": "stream",
          "name": "stdout",
          "text": [
            "The mode value of this field -  Health and beauty\n",
            "mode value umputied\n"
          ]
        }
      ]
    },
    {
      "cell_type": "code",
      "source": [
        "impute_mode(\"Payment\")"
      ],
      "metadata": {
        "colab": {
          "base_uri": "https://localhost:8080/"
        },
        "id": "ydTTgEoqzwAe",
        "outputId": "eadffdbf-2785-4ead-97d0-79ac385dd960"
      },
      "execution_count": null,
      "outputs": [
        {
          "output_type": "stream",
          "name": "stdout",
          "text": [
            "The mode value of this field -  Ewallet\n",
            "mode value umputied\n"
          ]
        }
      ]
    },
    {
      "cell_type": "code",
      "source": [
        "sales_data2.isnull().sum()"
      ],
      "metadata": {
        "colab": {
          "base_uri": "https://localhost:8080/"
        },
        "id": "oFm_81cJ1pEj",
        "outputId": "421c23e3-1147-4608-a408-68619c176a60"
      },
      "execution_count": null,
      "outputs": [
        {
          "output_type": "execute_result",
          "data": {
            "text/plain": [
              "Invoice ID                   0\n",
              "Branch                     194\n",
              "CustomerID                   0\n",
              "City                         0\n",
              "Customer type                0\n",
              "Gender                       0\n",
              "Product line                 0\n",
              "Unit price                   0\n",
              "Quantity                     0\n",
              "Tax 5%                       0\n",
              "Total                        0\n",
              "Date                         0\n",
              "Time                         0\n",
              "Payment                      0\n",
              "cogs                         0\n",
              "gross margin percentage      0\n",
              "gross income                 0\n",
              "Rating                       0\n",
              "Longitude                    0\n",
              "Latitude                     0\n",
              "dtype: int64"
            ]
          },
          "metadata": {},
          "execution_count": 24
        }
      ]
    },
    {
      "cell_type": "markdown",
      "source": [
        "Imputing NULLs for Branch column"
      ],
      "metadata": {
        "id": "mZ_O9SUqAATz"
      }
    },
    {
      "cell_type": "markdown",
      "source": [
        "According to dataset Branch and City columns must be linked.so NULLs are filled by help of City column"
      ],
      "metadata": {
        "id": "rnEVLWDLhVQe"
      }
    },
    {
      "cell_type": "code",
      "source": [
        "sales_data2.Branch.value_counts()"
      ],
      "metadata": {
        "colab": {
          "base_uri": "https://localhost:8080/"
        },
        "id": "sH3FrUNYefSY",
        "outputId": "e2d5dea7-cb93-47a0-e785-b32f6139c574"
      },
      "execution_count": null,
      "outputs": [
        {
          "output_type": "execute_result",
          "data": {
            "text/plain": [
              "A    281\n",
              "B    265\n",
              "C    260\n",
              "Name: Branch, dtype: int64"
            ]
          },
          "metadata": {},
          "execution_count": 25
        }
      ]
    },
    {
      "cell_type": "code",
      "source": [
        "sales_data2.Branch.unique()"
      ],
      "metadata": {
        "colab": {
          "base_uri": "https://localhost:8080/"
        },
        "id": "Rzet4YyDAdH3",
        "outputId": "e6ecfe27-46bf-474a-84ba-658439682555"
      },
      "execution_count": null,
      "outputs": [
        {
          "output_type": "execute_result",
          "data": {
            "text/plain": [
              "array(['A', 'C', 'B', nan], dtype=object)"
            ]
          },
          "metadata": {},
          "execution_count": 26
        }
      ]
    },
    {
      "cell_type": "code",
      "source": [
        "sales_data2.City.value_counts()"
      ],
      "metadata": {
        "colab": {
          "base_uri": "https://localhost:8080/"
        },
        "id": "4hggEzbN_ggb",
        "outputId": "047d9da8-ec03-4a54-83a0-dfd2fbe83a04"
      },
      "execution_count": null,
      "outputs": [
        {
          "output_type": "execute_result",
          "data": {
            "text/plain": [
              "Yangon       340\n",
              "Mandalay     332\n",
              "Naypyitaw    328\n",
              "Name: City, dtype: int64"
            ]
          },
          "metadata": {},
          "execution_count": 27
        }
      ]
    },
    {
      "cell_type": "code",
      "source": [
        "sales_data2.City.unique()"
      ],
      "metadata": {
        "colab": {
          "base_uri": "https://localhost:8080/"
        },
        "id": "EhKKne9XAvdc",
        "outputId": "7f4a0b49-1783-42e9-9ca2-6630b96792d5"
      },
      "execution_count": null,
      "outputs": [
        {
          "output_type": "execute_result",
          "data": {
            "text/plain": [
              "array(['Yangon', 'Naypyitaw', 'Mandalay'], dtype=object)"
            ]
          },
          "metadata": {},
          "execution_count": 28
        }
      ]
    },
    {
      "cell_type": "code",
      "source": [
        "sales_data2[[\"City\",\"Branch\"]].value_counts()#Here i just get to know which Branch associate with which city."
      ],
      "metadata": {
        "colab": {
          "base_uri": "https://localhost:8080/"
        },
        "id": "1x2rZqUZBHbf",
        "outputId": "5967f20d-0d20-4f50-dd7b-d15a259f1014"
      },
      "execution_count": null,
      "outputs": [
        {
          "output_type": "execute_result",
          "data": {
            "text/plain": [
              "City       Branch\n",
              "Yangon     A         281\n",
              "Mandalay   B         265\n",
              "Naypyitaw  C         260\n",
              "dtype: int64"
            ]
          },
          "metadata": {},
          "execution_count": 29
        }
      ]
    },
    {
      "cell_type": "markdown",
      "source": [
        "Branch A associate with Yangon\n",
        "\n",
        "Branch B associate with Mandalay\n",
        "\n",
        "Branch C associate with Naypyitaw\n",
        "\n",
        "So,whenever i have Yangon i will put A, \n",
        "\n",
        "For Mandalay i will put B, \n",
        "\n",
        "And for Naypyitaw will put C"
      ],
      "metadata": {
        "id": "zuXYM6JcBttN"
      }
    },
    {
      "cell_type": "markdown",
      "source": [
        "**Imputing Branch NULLs value as per City column**\n",
        "\n"
      ],
      "metadata": {
        "id": "ksRtq1FTLKo3"
      }
    },
    {
      "cell_type": "code",
      "source": [
        "for i in range(len(sales_data2[\"Branch\"])):\n",
        "  if (sales_data2[\"Branch\"].isnull()[i]==True):\n",
        "    if (sales_data2[\"City\"][i]==\"Naypyitaw\"):\n",
        "      sales_data2[\"Branch\"][i]=\"C\"\n",
        "    elif (sales_data2[\"City\"][i]==\"Mandalay\"):\n",
        "      sales_data2[\"Branch\"][i]=\"B\"\n",
        "    elif (sales_data2[\"City\"][i]==\"Yangon\"):\n",
        "      sales_data2[\"Branch\"][i]=\"A\"\n",
        "    else:\n",
        "      print(\"invalid city\")  \n",
        "      "
      ],
      "metadata": {
        "colab": {
          "base_uri": "https://localhost:8080/"
        },
        "id": "SwTkaRHuHBFP",
        "outputId": "69a5e88b-446e-4af9-8f15-a6bc255de932"
      },
      "execution_count": null,
      "outputs": [
        {
          "output_type": "stream",
          "name": "stderr",
          "text": [
            "<ipython-input-30-70c796d4b1f0>:8: SettingWithCopyWarning: \n",
            "A value is trying to be set on a copy of a slice from a DataFrame\n",
            "\n",
            "See the caveats in the documentation: https://pandas.pydata.org/pandas-docs/stable/user_guide/indexing.html#returning-a-view-versus-a-copy\n",
            "  sales_data2[\"Branch\"][i]=\"A\"\n",
            "<ipython-input-30-70c796d4b1f0>:4: SettingWithCopyWarning: \n",
            "A value is trying to be set on a copy of a slice from a DataFrame\n",
            "\n",
            "See the caveats in the documentation: https://pandas.pydata.org/pandas-docs/stable/user_guide/indexing.html#returning-a-view-versus-a-copy\n",
            "  sales_data2[\"Branch\"][i]=\"C\"\n",
            "<ipython-input-30-70c796d4b1f0>:6: SettingWithCopyWarning: \n",
            "A value is trying to be set on a copy of a slice from a DataFrame\n",
            "\n",
            "See the caveats in the documentation: https://pandas.pydata.org/pandas-docs/stable/user_guide/indexing.html#returning-a-view-versus-a-copy\n",
            "  sales_data2[\"Branch\"][i]=\"B\"\n"
          ]
        }
      ]
    },
    {
      "cell_type": "markdown",
      "source": [
        "Checking NULLs cells"
      ],
      "metadata": {
        "id": "PNuoWyvSLoSX"
      }
    },
    {
      "cell_type": "code",
      "source": [
        "sales_data2.isnull().sum()"
      ],
      "metadata": {
        "colab": {
          "base_uri": "https://localhost:8080/"
        },
        "id": "xVdYLjijLb6m",
        "outputId": "89e7c745-a7c8-46f3-c648-67a670eccc63"
      },
      "execution_count": null,
      "outputs": [
        {
          "output_type": "execute_result",
          "data": {
            "text/plain": [
              "Invoice ID                 0\n",
              "Branch                     0\n",
              "CustomerID                 0\n",
              "City                       0\n",
              "Customer type              0\n",
              "Gender                     0\n",
              "Product line               0\n",
              "Unit price                 0\n",
              "Quantity                   0\n",
              "Tax 5%                     0\n",
              "Total                      0\n",
              "Date                       0\n",
              "Time                       0\n",
              "Payment                    0\n",
              "cogs                       0\n",
              "gross margin percentage    0\n",
              "gross income               0\n",
              "Rating                     0\n",
              "Longitude                  0\n",
              "Latitude                   0\n",
              "dtype: int64"
            ]
          },
          "metadata": {},
          "execution_count": 31
        }
      ]
    },
    {
      "cell_type": "code",
      "source": [
        "sales_data2.info()"
      ],
      "metadata": {
        "colab": {
          "base_uri": "https://localhost:8080/"
        },
        "id": "KFkTtDU_M-kU",
        "outputId": "c5506397-13b9-482a-a36e-acf37eef3828"
      },
      "execution_count": null,
      "outputs": [
        {
          "output_type": "stream",
          "name": "stdout",
          "text": [
            "<class 'pandas.core.frame.DataFrame'>\n",
            "RangeIndex: 1000 entries, 0 to 999\n",
            "Data columns (total 20 columns):\n",
            " #   Column                   Non-Null Count  Dtype  \n",
            "---  ------                   --------------  -----  \n",
            " 0   Invoice ID               1000 non-null   object \n",
            " 1   Branch                   1000 non-null   object \n",
            " 2   CustomerID               1000 non-null   object \n",
            " 3   City                     1000 non-null   object \n",
            " 4   Customer type            1000 non-null   object \n",
            " 5   Gender                   1000 non-null   object \n",
            " 6   Product line             1000 non-null   object \n",
            " 7   Unit price               1000 non-null   float64\n",
            " 8   Quantity                 1000 non-null   int64  \n",
            " 9   Tax 5%                   1000 non-null   float64\n",
            " 10  Total                    1000 non-null   float64\n",
            " 11  Date                     1000 non-null   object \n",
            " 12  Time                     1000 non-null   object \n",
            " 13  Payment                  1000 non-null   object \n",
            " 14  cogs                     1000 non-null   float64\n",
            " 15  gross margin percentage  1000 non-null   float64\n",
            " 16  gross income             1000 non-null   float64\n",
            " 17  Rating                   1000 non-null   float64\n",
            " 18  Longitude                1000 non-null   float64\n",
            " 19  Latitude                 1000 non-null   float64\n",
            "dtypes: float64(9), int64(1), object(10)\n",
            "memory usage: 156.4+ KB\n"
          ]
        }
      ]
    },
    {
      "cell_type": "markdown",
      "source": [
        "# **Adding Fields**"
      ],
      "metadata": {
        "id": "x7G58LXmPuLW"
      }
    },
    {
      "cell_type": "markdown",
      "source": [
        "Extracting month,day and weekday for Date column"
      ],
      "metadata": {
        "id": "ucmX6rUkPKKE"
      }
    },
    {
      "cell_type": "code",
      "source": [
        "sales_data2[\"Date\"]=pd.to_datetime(sales_data2[\"Date\"])#convering to datetime type because it was in str type."
      ],
      "metadata": {
        "id": "Crs4ui5sOvzz"
      },
      "execution_count": null,
      "outputs": []
    },
    {
      "cell_type": "code",
      "source": [
        "sales_data2[\"Month\"]=sales_data2[\"Date\"].dt.month\n",
        "sales_data2[\"Day\"]=sales_data2[\"Date\"].dt.day\n",
        "sales_data2[\"Weekday\"]=sales_data2[\"Date\"].dt.weekday"
      ],
      "metadata": {
        "id": "kZdpXK4YQUqW"
      },
      "execution_count": null,
      "outputs": []
    },
    {
      "cell_type": "code",
      "source": [
        "sales_data2.head(3)"
      ],
      "metadata": {
        "colab": {
          "base_uri": "https://localhost:8080/",
          "height": 376
        },
        "id": "H7JLr2mSRB0u",
        "outputId": "23bc082b-21bf-4472-b53b-66f6192cdca5"
      },
      "execution_count": null,
      "outputs": [
        {
          "output_type": "execute_result",
          "data": {
            "text/plain": [
              "    Invoice ID Branch CustomerID       City Customer type  Gender  \\\n",
              "0  750-67-8428      A      C1888     Yangon        Member  Female   \n",
              "1  226-31-3081      C      C1475  Naypyitaw        Normal  Female   \n",
              "2  631-41-3108      A      C1746     Yangon        Normal    Male   \n",
              "\n",
              "        Product line  Unit price  Quantity   Tax 5%  ...      Payment  \\\n",
              "0  Health and beauty       74.69        10  37.3450  ...      Ewallet   \n",
              "1  Health and beauty       15.28         6   4.5840  ...         Cash   \n",
              "2  Health and beauty       46.33         7  16.2155  ...  Credit card   \n",
              "\n",
              "         cogs gross margin percentage gross income  Rating  Longitude  \\\n",
              "0  711.333333                4.761905    35.566667     9.1    96.1735   \n",
              "1   76.400000                4.761905    15.280000    10.0    96.0785   \n",
              "2  324.310000                4.761905     0.000000     7.4    96.1735   \n",
              "\n",
              "   Latitude  Month  Day  Weekday  \n",
              "0   16.8409      2   21        3  \n",
              "1   19.7633      5   27        0  \n",
              "2   16.8409     12   27        4  \n",
              "\n",
              "[3 rows x 23 columns]"
            ],
            "text/html": [
              "\n",
              "  <div id=\"df-40e58df1-be1b-4a33-a7fd-1869b6295e82\">\n",
              "    <div class=\"colab-df-container\">\n",
              "      <div>\n",
              "<style scoped>\n",
              "    .dataframe tbody tr th:only-of-type {\n",
              "        vertical-align: middle;\n",
              "    }\n",
              "\n",
              "    .dataframe tbody tr th {\n",
              "        vertical-align: top;\n",
              "    }\n",
              "\n",
              "    .dataframe thead th {\n",
              "        text-align: right;\n",
              "    }\n",
              "</style>\n",
              "<table border=\"1\" class=\"dataframe\">\n",
              "  <thead>\n",
              "    <tr style=\"text-align: right;\">\n",
              "      <th></th>\n",
              "      <th>Invoice ID</th>\n",
              "      <th>Branch</th>\n",
              "      <th>CustomerID</th>\n",
              "      <th>City</th>\n",
              "      <th>Customer type</th>\n",
              "      <th>Gender</th>\n",
              "      <th>Product line</th>\n",
              "      <th>Unit price</th>\n",
              "      <th>Quantity</th>\n",
              "      <th>Tax 5%</th>\n",
              "      <th>...</th>\n",
              "      <th>Payment</th>\n",
              "      <th>cogs</th>\n",
              "      <th>gross margin percentage</th>\n",
              "      <th>gross income</th>\n",
              "      <th>Rating</th>\n",
              "      <th>Longitude</th>\n",
              "      <th>Latitude</th>\n",
              "      <th>Month</th>\n",
              "      <th>Day</th>\n",
              "      <th>Weekday</th>\n",
              "    </tr>\n",
              "  </thead>\n",
              "  <tbody>\n",
              "    <tr>\n",
              "      <th>0</th>\n",
              "      <td>750-67-8428</td>\n",
              "      <td>A</td>\n",
              "      <td>C1888</td>\n",
              "      <td>Yangon</td>\n",
              "      <td>Member</td>\n",
              "      <td>Female</td>\n",
              "      <td>Health and beauty</td>\n",
              "      <td>74.69</td>\n",
              "      <td>10</td>\n",
              "      <td>37.3450</td>\n",
              "      <td>...</td>\n",
              "      <td>Ewallet</td>\n",
              "      <td>711.333333</td>\n",
              "      <td>4.761905</td>\n",
              "      <td>35.566667</td>\n",
              "      <td>9.1</td>\n",
              "      <td>96.1735</td>\n",
              "      <td>16.8409</td>\n",
              "      <td>2</td>\n",
              "      <td>21</td>\n",
              "      <td>3</td>\n",
              "    </tr>\n",
              "    <tr>\n",
              "      <th>1</th>\n",
              "      <td>226-31-3081</td>\n",
              "      <td>C</td>\n",
              "      <td>C1475</td>\n",
              "      <td>Naypyitaw</td>\n",
              "      <td>Normal</td>\n",
              "      <td>Female</td>\n",
              "      <td>Health and beauty</td>\n",
              "      <td>15.28</td>\n",
              "      <td>6</td>\n",
              "      <td>4.5840</td>\n",
              "      <td>...</td>\n",
              "      <td>Cash</td>\n",
              "      <td>76.400000</td>\n",
              "      <td>4.761905</td>\n",
              "      <td>15.280000</td>\n",
              "      <td>10.0</td>\n",
              "      <td>96.0785</td>\n",
              "      <td>19.7633</td>\n",
              "      <td>5</td>\n",
              "      <td>27</td>\n",
              "      <td>0</td>\n",
              "    </tr>\n",
              "    <tr>\n",
              "      <th>2</th>\n",
              "      <td>631-41-3108</td>\n",
              "      <td>A</td>\n",
              "      <td>C1746</td>\n",
              "      <td>Yangon</td>\n",
              "      <td>Normal</td>\n",
              "      <td>Male</td>\n",
              "      <td>Health and beauty</td>\n",
              "      <td>46.33</td>\n",
              "      <td>7</td>\n",
              "      <td>16.2155</td>\n",
              "      <td>...</td>\n",
              "      <td>Credit card</td>\n",
              "      <td>324.310000</td>\n",
              "      <td>4.761905</td>\n",
              "      <td>0.000000</td>\n",
              "      <td>7.4</td>\n",
              "      <td>96.1735</td>\n",
              "      <td>16.8409</td>\n",
              "      <td>12</td>\n",
              "      <td>27</td>\n",
              "      <td>4</td>\n",
              "    </tr>\n",
              "  </tbody>\n",
              "</table>\n",
              "<p>3 rows × 23 columns</p>\n",
              "</div>\n",
              "      <button class=\"colab-df-convert\" onclick=\"convertToInteractive('df-40e58df1-be1b-4a33-a7fd-1869b6295e82')\"\n",
              "              title=\"Convert this dataframe to an interactive table.\"\n",
              "              style=\"display:none;\">\n",
              "        \n",
              "  <svg xmlns=\"http://www.w3.org/2000/svg\" height=\"24px\"viewBox=\"0 0 24 24\"\n",
              "       width=\"24px\">\n",
              "    <path d=\"M0 0h24v24H0V0z\" fill=\"none\"/>\n",
              "    <path d=\"M18.56 5.44l.94 2.06.94-2.06 2.06-.94-2.06-.94-.94-2.06-.94 2.06-2.06.94zm-11 1L8.5 8.5l.94-2.06 2.06-.94-2.06-.94L8.5 2.5l-.94 2.06-2.06.94zm10 10l.94 2.06.94-2.06 2.06-.94-2.06-.94-.94-2.06-.94 2.06-2.06.94z\"/><path d=\"M17.41 7.96l-1.37-1.37c-.4-.4-.92-.59-1.43-.59-.52 0-1.04.2-1.43.59L10.3 9.45l-7.72 7.72c-.78.78-.78 2.05 0 2.83L4 21.41c.39.39.9.59 1.41.59.51 0 1.02-.2 1.41-.59l7.78-7.78 2.81-2.81c.8-.78.8-2.07 0-2.86zM5.41 20L4 18.59l7.72-7.72 1.47 1.35L5.41 20z\"/>\n",
              "  </svg>\n",
              "      </button>\n",
              "      \n",
              "  <style>\n",
              "    .colab-df-container {\n",
              "      display:flex;\n",
              "      flex-wrap:wrap;\n",
              "      gap: 12px;\n",
              "    }\n",
              "\n",
              "    .colab-df-convert {\n",
              "      background-color: #E8F0FE;\n",
              "      border: none;\n",
              "      border-radius: 50%;\n",
              "      cursor: pointer;\n",
              "      display: none;\n",
              "      fill: #1967D2;\n",
              "      height: 32px;\n",
              "      padding: 0 0 0 0;\n",
              "      width: 32px;\n",
              "    }\n",
              "\n",
              "    .colab-df-convert:hover {\n",
              "      background-color: #E2EBFA;\n",
              "      box-shadow: 0px 1px 2px rgba(60, 64, 67, 0.3), 0px 1px 3px 1px rgba(60, 64, 67, 0.15);\n",
              "      fill: #174EA6;\n",
              "    }\n",
              "\n",
              "    [theme=dark] .colab-df-convert {\n",
              "      background-color: #3B4455;\n",
              "      fill: #D2E3FC;\n",
              "    }\n",
              "\n",
              "    [theme=dark] .colab-df-convert:hover {\n",
              "      background-color: #434B5C;\n",
              "      box-shadow: 0px 1px 3px 1px rgba(0, 0, 0, 0.15);\n",
              "      filter: drop-shadow(0px 1px 2px rgba(0, 0, 0, 0.3));\n",
              "      fill: #FFFFFF;\n",
              "    }\n",
              "  </style>\n",
              "\n",
              "      <script>\n",
              "        const buttonEl =\n",
              "          document.querySelector('#df-40e58df1-be1b-4a33-a7fd-1869b6295e82 button.colab-df-convert');\n",
              "        buttonEl.style.display =\n",
              "          google.colab.kernel.accessAllowed ? 'block' : 'none';\n",
              "\n",
              "        async function convertToInteractive(key) {\n",
              "          const element = document.querySelector('#df-40e58df1-be1b-4a33-a7fd-1869b6295e82');\n",
              "          const dataTable =\n",
              "            await google.colab.kernel.invokeFunction('convertToInteractive',\n",
              "                                                     [key], {});\n",
              "          if (!dataTable) return;\n",
              "\n",
              "          const docLinkHtml = 'Like what you see? Visit the ' +\n",
              "            '<a target=\"_blank\" href=https://colab.research.google.com/notebooks/data_table.ipynb>data table notebook</a>'\n",
              "            + ' to learn more about interactive tables.';\n",
              "          element.innerHTML = '';\n",
              "          dataTable['output_type'] = 'display_data';\n",
              "          await google.colab.output.renderOutput(dataTable, element);\n",
              "          const docLink = document.createElement('div');\n",
              "          docLink.innerHTML = docLinkHtml;\n",
              "          element.appendChild(docLink);\n",
              "        }\n",
              "      </script>\n",
              "    </div>\n",
              "  </div>\n",
              "  "
            ]
          },
          "metadata": {},
          "execution_count": 35
        }
      ]
    },
    {
      "cell_type": "code",
      "source": [
        "sales_data2[\"Time\"]=sales_data2[\"Time\"].astype(str)"
      ],
      "metadata": {
        "id": "jOGyhtH-VaGL"
      },
      "execution_count": null,
      "outputs": []
    },
    {
      "cell_type": "markdown",
      "source": [
        "Extracting hour and minute from Time column"
      ],
      "metadata": {
        "id": "qjbnOiHARXGO"
      }
    },
    {
      "cell_type": "code",
      "source": [
        "sales_data2[\"Hour\"]=sales_data2[\"Time\"].str[11:13]"
      ],
      "metadata": {
        "id": "ey-tC-ziUCi7"
      },
      "execution_count": null,
      "outputs": []
    },
    {
      "cell_type": "code",
      "source": [
        "sales_data2[\"Hour\"]=pd.to_numeric(sales_data2[\"Hour\"])#converted to numeric format"
      ],
      "metadata": {
        "id": "NNjqD1wIXF2v"
      },
      "execution_count": null,
      "outputs": []
    },
    {
      "cell_type": "code",
      "source": [
        "sales_data2[\"minute\"]=sales_data2[\"Time\"].str[14:16]"
      ],
      "metadata": {
        "id": "B5w9KFZTVzeP"
      },
      "execution_count": null,
      "outputs": []
    },
    {
      "cell_type": "code",
      "source": [
        "sales_data2[\"minute\"]=pd.to_numeric(sales_data2[\"minute\"])#converted to numeric format"
      ],
      "metadata": {
        "id": "7HsbC4NIXO7y"
      },
      "execution_count": null,
      "outputs": []
    },
    {
      "cell_type": "markdown",
      "source": [
        "Checking"
      ],
      "metadata": {
        "id": "qsPYtb66XaWx"
      }
    },
    {
      "cell_type": "code",
      "source": [
        "sales_data2.info()"
      ],
      "metadata": {
        "colab": {
          "base_uri": "https://localhost:8080/"
        },
        "id": "JdO4vXQSXZdr",
        "outputId": "2d8f75fb-a018-4c67-9b2e-42679034661b"
      },
      "execution_count": null,
      "outputs": [
        {
          "output_type": "stream",
          "name": "stdout",
          "text": [
            "<class 'pandas.core.frame.DataFrame'>\n",
            "RangeIndex: 1000 entries, 0 to 999\n",
            "Data columns (total 25 columns):\n",
            " #   Column                   Non-Null Count  Dtype         \n",
            "---  ------                   --------------  -----         \n",
            " 0   Invoice ID               1000 non-null   object        \n",
            " 1   Branch                   1000 non-null   object        \n",
            " 2   CustomerID               1000 non-null   object        \n",
            " 3   City                     1000 non-null   object        \n",
            " 4   Customer type            1000 non-null   object        \n",
            " 5   Gender                   1000 non-null   object        \n",
            " 6   Product line             1000 non-null   object        \n",
            " 7   Unit price               1000 non-null   float64       \n",
            " 8   Quantity                 1000 non-null   int64         \n",
            " 9   Tax 5%                   1000 non-null   float64       \n",
            " 10  Total                    1000 non-null   float64       \n",
            " 11  Date                     1000 non-null   datetime64[ns]\n",
            " 12  Time                     1000 non-null   object        \n",
            " 13  Payment                  1000 non-null   object        \n",
            " 14  cogs                     1000 non-null   float64       \n",
            " 15  gross margin percentage  1000 non-null   float64       \n",
            " 16  gross income             1000 non-null   float64       \n",
            " 17  Rating                   1000 non-null   float64       \n",
            " 18  Longitude                1000 non-null   float64       \n",
            " 19  Latitude                 1000 non-null   float64       \n",
            " 20  Month                    1000 non-null   int64         \n",
            " 21  Day                      1000 non-null   int64         \n",
            " 22  Weekday                  1000 non-null   int64         \n",
            " 23  Hour                     0 non-null      float64       \n",
            " 24  minute                   0 non-null      float64       \n",
            "dtypes: datetime64[ns](1), float64(11), int64(4), object(9)\n",
            "memory usage: 195.4+ KB\n"
          ]
        }
      ]
    },
    {
      "cell_type": "markdown",
      "source": [
        "## **Univariate Analysis(For Quantitative Data)**"
      ],
      "metadata": {
        "id": "dBmDWtYZuFZz"
      }
    },
    {
      "cell_type": "code",
      "source": [
        "def univariate_quate(col):\n",
        "  sns.displot(sales_data2[col],color=\"grey\",bins=25,kde=True)\n",
        "\n",
        "  \n",
        "\n",
        "  "
      ],
      "metadata": {
        "id": "Km7K0ujJrbUi"
      },
      "execution_count": null,
      "outputs": []
    },
    {
      "cell_type": "markdown",
      "source": [
        "**For Unit price** \n",
        "\n",
        "It helps to understand in general how the unit prices are catagories."
      ],
      "metadata": {
        "id": "5lGOOhUWvbOk"
      }
    },
    {
      "cell_type": "code",
      "source": [
        "plt.figure(figsize=(15,4))\n",
        "univariate_quate(\"Unit price\")"
      ],
      "metadata": {
        "colab": {
          "base_uri": "https://localhost:8080/",
          "height": 386
        },
        "id": "0kzfvPoyjQ44",
        "outputId": "47bfa5d7-55b5-4431-d8e1-0839a705dabe"
      },
      "execution_count": null,
      "outputs": [
        {
          "output_type": "display_data",
          "data": {
            "text/plain": [
              "<Figure size 1080x288 with 0 Axes>"
            ]
          },
          "metadata": {}
        },
        {
          "output_type": "display_data",
          "data": {
            "text/plain": [
              "<Figure size 360x360 with 1 Axes>"
            ],
            "image/png": "[encoded data removed]"
          },
          "metadata": {
            "needs_background": "light"
          }
        }
      ]
    },
    {
      "cell_type": "markdown",
      "source": [
        "**Insights**\n",
        "\n",
        "The unit price frequency mostly similar if you look at the line on graph in range 20 to 80"
      ],
      "metadata": {
        "id": "UtOZ7Orfxnwf"
      }
    },
    {
      "cell_type": "markdown",
      "source": [
        "**For Total** "
      ],
      "metadata": {
        "id": "5JOCu2HEyb5q"
      }
    },
    {
      "cell_type": "code",
      "source": [
        "plt.figure(figsize=(15,4))\n",
        "univariate_quate(\"Total\")"
      ],
      "metadata": {
        "colab": {
          "base_uri": "https://localhost:8080/",
          "height": 386
        },
        "id": "N5ygJUAMZSSw",
        "outputId": "1021089c-10d5-4338-ce87-916b8e988491"
      },
      "execution_count": null,
      "outputs": [
        {
          "output_type": "display_data",
          "data": {
            "text/plain": [
              "<Figure size 1080x288 with 0 Axes>"
            ]
          },
          "metadata": {}
        },
        {
          "output_type": "display_data",
          "data": {
            "text/plain": [
              "<Figure size 360x360 with 1 Axes>"
            ],
            "image/png": "[encoded data removed]"
          },
          "metadata": {
            "needs_background": "light"
          }
        }
      ]
    },
    {
      "cell_type": "markdown",
      "source": [
        "**Insights**\n",
        "\n",
        "Major of the values are lying under 500"
      ],
      "metadata": {
        "id": "BzbbqDZKzUOp"
      }
    },
    {
      "cell_type": "markdown",
      "source": [
        "**For cogs column(cost of good sold)**"
      ],
      "metadata": {
        "id": "MFW-qx--17Fy"
      }
    },
    {
      "cell_type": "code",
      "source": [
        "plt.figure(figsize=(15,4))\n",
        "univariate_quate(\"cogs\")"
      ],
      "metadata": {
        "colab": {
          "base_uri": "https://localhost:8080/",
          "height": 386
        },
        "id": "81VifSW_XkUl",
        "outputId": "8ce9e373-c32f-44a8-c7e7-1d45495c4c8b"
      },
      "execution_count": null,
      "outputs": [
        {
          "output_type": "display_data",
          "data": {
            "text/plain": [
              "<Figure size 1080x288 with 0 Axes>"
            ]
          },
          "metadata": {}
        },
        {
          "output_type": "display_data",
          "data": {
            "text/plain": [
              "<Figure size 360x360 with 1 Axes>"
            ],
            "image/png": "[encoded data removed]"
          },
          "metadata": {
            "needs_background": "light"
          }
        }
      ]
    },
    {
      "cell_type": "markdown",
      "source": [
        "**Insights**\n",
        "\n",
        "Here mejor of the values are lying under 600."
      ],
      "metadata": {
        "id": "EGF0RnDi2FTD"
      }
    },
    {
      "cell_type": "markdown",
      "source": [
        "**For Gross Income column**\n",
        "\n"
      ],
      "metadata": {
        "id": "ws2No1yT2e96"
      }
    },
    {
      "cell_type": "code",
      "source": [
        "plt.figure(figsize=(15,4))\n",
        "univariate_quate(\"gross income\")"
      ],
      "metadata": {
        "colab": {
          "base_uri": "https://localhost:8080/",
          "height": 386
        },
        "id": "LRiXfZ_V2dRU",
        "outputId": "2d459a39-d108-4a1e-90cf-b569010040b0"
      },
      "execution_count": null,
      "outputs": [
        {
          "output_type": "display_data",
          "data": {
            "text/plain": [
              "<Figure size 1080x288 with 0 Axes>"
            ]
          },
          "metadata": {}
        },
        {
          "output_type": "display_data",
          "data": {
            "text/plain": [
              "<Figure size 360x360 with 1 Axes>"
            ],
            "image/png": "[encoded data removed]"
          },
          "metadata": {
            "needs_background": "light"
          }
        }
      ]
    },
    {
      "cell_type": "markdown",
      "source": [
        "**Insights**\n",
        "\n",
        "Mostly Margin amount are same."
      ],
      "metadata": {
        "id": "e7BB2ehU3FSa"
      }
    },
    {
      "cell_type": "markdown",
      "source": [
        "**For Rating column**"
      ],
      "metadata": {
        "id": "7eQ7pN_b38qI"
      }
    },
    {
      "cell_type": "code",
      "source": [
        "plt.figure(figsize=(15,4))\n",
        "univariate_quate(\"Rating\")"
      ],
      "metadata": {
        "colab": {
          "base_uri": "https://localhost:8080/",
          "height": 386
        },
        "id": "c0Pd4olz37h8",
        "outputId": "0fe182a9-b39f-422e-cbb1-1114773ef2f2"
      },
      "execution_count": null,
      "outputs": [
        {
          "output_type": "display_data",
          "data": {
            "text/plain": [
              "<Figure size 1080x288 with 0 Axes>"
            ]
          },
          "metadata": {}
        },
        {
          "output_type": "display_data",
          "data": {
            "text/plain": [
              "<Figure size 360x360 with 1 Axes>"
            ],
            "image/png": "[encoded data removed]"
          },
          "metadata": {
            "needs_background": "light"
          }
        }
      ]
    },
    {
      "cell_type": "markdown",
      "source": [
        "**Insights**\n",
        "\n",
        "Major of the rating are between 7 to 10 which is good sign for company"
      ],
      "metadata": {
        "id": "UqT7EnQi4LRR"
      }
    },
    {
      "cell_type": "markdown",
      "source": [
        "**For Quantity column**"
      ],
      "metadata": {
        "id": "yMY073mJ4seS"
      }
    },
    {
      "cell_type": "code",
      "source": [
        "plt.figure(figsize=(15,4))\n",
        "univariate_quate(\"Quantity\")"
      ],
      "metadata": {
        "colab": {
          "base_uri": "https://localhost:8080/",
          "height": 386
        },
        "id": "ouYzwTu34xza",
        "outputId": "e70f95e6-e105-4de9-cda5-4fcd656c01fa"
      },
      "execution_count": null,
      "outputs": [
        {
          "output_type": "display_data",
          "data": {
            "text/plain": [
              "<Figure size 1080x288 with 0 Axes>"
            ]
          },
          "metadata": {}
        },
        {
          "output_type": "display_data",
          "data": {
            "text/plain": [
              "<Figure size 360x360 with 1 Axes>"
            ],
            "image/png": "[encoded data removed]"
          },
          "metadata": {
            "needs_background": "light"
          }
        }
      ]
    },
    {
      "cell_type": "markdown",
      "source": [
        "**Insights**\n",
        "\n",
        "Mostly frequent order size are between 1 to 10"
      ],
      "metadata": {
        "id": "W-IZx0lu5CUf"
      }
    },
    {
      "cell_type": "markdown",
      "source": [
        "# **Univariate Analysis(For categorical Data)**"
      ],
      "metadata": {
        "id": "q3uz0U0U5spJ"
      }
    },
    {
      "cell_type": "markdown",
      "source": [
        "**City Column**"
      ],
      "metadata": {
        "id": "Y1QK1q6-4omw"
      }
    },
    {
      "cell_type": "code",
      "source": [
        "sales_data2.City.value_counts().plot(kind=\"bar\",color=\"grey\")"
      ],
      "metadata": {
        "colab": {
          "base_uri": "https://localhost:8080/",
          "height": 379
        },
        "id": "qPkkcrm9350F",
        "outputId": "b43164a5-5884-4789-d22b-83472d448f45"
      },
      "execution_count": null,
      "outputs": [
        {
          "output_type": "execute_result",
          "data": {
            "text/plain": [
              "<AxesSubplot:>"
            ]
          },
          "metadata": {},
          "execution_count": 49
        },
        {
          "output_type": "display_data",
          "data": {
            "text/plain": [
              "<Figure size 720x360 with 1 Axes>"
            ],
            "image/png": "[encoded data removed]"
          },
          "metadata": {
            "needs_background": "light"
          }
        }
      ]
    },
    {
      "cell_type": "markdown",
      "source": [
        "**Insights**\n",
        "\n",
        "According to the chart the availability in there 3 cities are similar."
      ],
      "metadata": {
        "id": "_SU937r85OZU"
      }
    },
    {
      "cell_type": "markdown",
      "source": [
        "**For Gender column**"
      ],
      "metadata": {
        "id": "GvX58qlh87yH"
      }
    },
    {
      "cell_type": "code",
      "source": [
        "sales_data2.Gender.value_counts().plot(kind=\"pie\",autopct='%.2f%%')"
      ],
      "metadata": {
        "colab": {
          "base_uri": "https://localhost:8080/",
          "height": 320
        },
        "id": "mJxUYy-K8smd",
        "outputId": "e0c0a1a0-f91b-4df2-e12a-9ba7e2045ab4"
      },
      "execution_count": null,
      "outputs": [
        {
          "output_type": "execute_result",
          "data": {
            "text/plain": [
              "<AxesSubplot:ylabel='Gender'>"
            ]
          },
          "metadata": {},
          "execution_count": 50
        },
        {
          "output_type": "display_data",
          "data": {
            "text/plain": [
              "<Figure size 720x360 with 1 Axes>"
            ],
            "image/png": "[encoded data removed]"
          },
          "metadata": {}
        }
      ]
    },
    {
      "cell_type": "markdown",
      "source": [
        "**Insights**\n",
        "\n",
        "Female customer are more compare to the male.\n",
        "May be because of,In supermarket female oriented products are more as compare to male."
      ],
      "metadata": {
        "id": "GQk66KKx9B3A"
      }
    },
    {
      "cell_type": "markdown",
      "source": [
        "**For Product line column**"
      ],
      "metadata": {
        "id": "xFQ4_5U8FdCL"
      }
    },
    {
      "cell_type": "code",
      "source": [
        "sales_data2[\"Product line\"].value_counts().plot(kind=\"bar\")"
      ],
      "metadata": {
        "colab": {
          "base_uri": "https://localhost:8080/",
          "height": 437
        },
        "id": "FuJJxWB9EshH",
        "outputId": "41915939-18a9-4918-be77-ec9387c115a8"
      },
      "execution_count": null,
      "outputs": [
        {
          "output_type": "execute_result",
          "data": {
            "text/plain": [
              "<AxesSubplot:>"
            ]
          },
          "metadata": {},
          "execution_count": 51
        },
        {
          "output_type": "display_data",
          "data": {
            "text/plain": [
              "<Figure size 720x360 with 1 Axes>"
            ],
            "image/png": "[encoded data removed]"
          },
          "metadata": {
            "needs_background": "light"
          }
        }
      ]
    },
    {
      "cell_type": "markdown",
      "source": [
        "**Insight**\n",
        "\n",
        "Major of product lines are from 'Health and beauty','sports and travel' and 'fashion accessories'.Other 3 products line sales are not much."
      ],
      "metadata": {
        "id": "gZs7vJPNFlRt"
      }
    },
    {
      "cell_type": "markdown",
      "source": [
        "**For Payment column**"
      ],
      "metadata": {
        "id": "oXc46hKJHcUH"
      }
    },
    {
      "cell_type": "code",
      "source": [
        "sales_data2[\"Payment\"].value_counts().plot(kind=\"pie\",autopct=\"%.2f%%\")"
      ],
      "metadata": {
        "id": "lmEsjgASHVUo",
        "colab": {
          "base_uri": "https://localhost:8080/",
          "height": 320
        },
        "outputId": "8f82e7f2-a80e-4e36-e14f-0e07c1850152"
      },
      "execution_count": null,
      "outputs": [
        {
          "output_type": "execute_result",
          "data": {
            "text/plain": [
              "<AxesSubplot:ylabel='Payment'>"
            ]
          },
          "metadata": {},
          "execution_count": 52
        },
        {
          "output_type": "display_data",
          "data": {
            "text/plain": [
              "<Figure size 720x360 with 1 Axes>"
            ],
            "image/png": "[encoded data removed]"
          },
          "metadata": {}
        }
      ]
    },
    {
      "cell_type": "markdown",
      "source": [
        "**Insights**\n",
        "\n",
        "3source are use commonly as method of pay.\n",
        "\n",
        "ewallet method use more as compare to other."
      ],
      "metadata": {
        "id": "YYnF7rwWdPX1"
      }
    },
    {
      "cell_type": "markdown",
      "source": [
        " **Customer type column**"
      ],
      "metadata": {
        "id": "vurU2ZdydqLT"
      }
    },
    {
      "cell_type": "code",
      "source": [
        "sales_data2[\"Customer type\"].value_counts().plot(kind=\"bar\",color=\"grey\")"
      ],
      "metadata": {
        "colab": {
          "base_uri": "https://localhost:8080/",
          "height": 368
        },
        "id": "X9wd_JR-dzZ9",
        "outputId": "21b8e3f8-86f2-4a89-bab9-5c723f569ec7"
      },
      "execution_count": null,
      "outputs": [
        {
          "output_type": "execute_result",
          "data": {
            "text/plain": [
              "<AxesSubplot:>"
            ]
          },
          "metadata": {},
          "execution_count": 53
        },
        {
          "output_type": "display_data",
          "data": {
            "text/plain": [
              "<Figure size 720x360 with 1 Axes>"
            ],
            "image/png": "[encoded data removed]"
          },
          "metadata": {
            "needs_background": "light"
          }
        }
      ]
    },
    {
      "cell_type": "markdown",
      "source": [
        "**Insights**\n",
        "\n",
        "Major of customers are Normal type customer.2/3 of customers are Normal customer"
      ],
      "metadata": {
        "id": "chyhbFJleFqe"
      }
    },
    {
      "cell_type": "markdown",
      "source": [
        "To check number of unique customer of supermarket."
      ],
      "metadata": {
        "id": "-2gPX6nfeZfC"
      }
    },
    {
      "cell_type": "code",
      "source": [
        "sales_data2[[\"CustomerID\",\"Customer type\"]].groupby(\"Customer type\").nunique().plot(kind=\"bar\")"
      ],
      "metadata": {
        "colab": {
          "base_uri": "https://localhost:8080/",
          "height": 383
        },
        "id": "EUcIU_RsezOI",
        "outputId": "27941b4a-8f2b-43a9-eec3-9138b518f421"
      },
      "execution_count": null,
      "outputs": [
        {
          "output_type": "execute_result",
          "data": {
            "text/plain": [
              "<AxesSubplot:xlabel='Customer type'>"
            ]
          },
          "metadata": {},
          "execution_count": 54
        },
        {
          "output_type": "display_data",
          "data": {
            "text/plain": [
              "<Figure size 720x360 with 1 Axes>"
            ],
            "image/png": "[encoded data removed]"
          },
          "metadata": {
            "needs_background": "light"
          }
        }
      ]
    },
    {
      "cell_type": "code",
      "source": [
        "sales_data2[[\"CustomerID\",\"Customer type\"]].groupby(\"Customer type\").nunique()"
      ],
      "metadata": {
        "colab": {
          "base_uri": "https://localhost:8080/",
          "height": 143
        },
        "id": "lI4z1tD_iurz",
        "outputId": "1646d2c9-d76f-4ff8-a273-2ece0a2b9974"
      },
      "execution_count": null,
      "outputs": [
        {
          "output_type": "execute_result",
          "data": {
            "text/plain": [
              "               CustomerID\n",
              "Customer type            \n",
              "Member                248\n",
              "Normal                384"
            ],
            "text/html": [
              "\n",
              "  <div id=\"df-fafcafb2-11f3-431b-bccc-e3abb478ec10\">\n",
              "    <div class=\"colab-df-container\">\n",
              "      <div>\n",
              "<style scoped>\n",
              "    .dataframe tbody tr th:only-of-type {\n",
              "        vertical-align: middle;\n",
              "    }\n",
              "\n",
              "    .dataframe tbody tr th {\n",
              "        vertical-align: top;\n",
              "    }\n",
              "\n",
              "    .dataframe thead th {\n",
              "        text-align: right;\n",
              "    }\n",
              "</style>\n",
              "<table border=\"1\" class=\"dataframe\">\n",
              "  <thead>\n",
              "    <tr style=\"text-align: right;\">\n",
              "      <th></th>\n",
              "      <th>CustomerID</th>\n",
              "    </tr>\n",
              "    <tr>\n",
              "      <th>Customer type</th>\n",
              "      <th></th>\n",
              "    </tr>\n",
              "  </thead>\n",
              "  <tbody>\n",
              "    <tr>\n",
              "      <th>Member</th>\n",
              "      <td>248</td>\n",
              "    </tr>\n",
              "    <tr>\n",
              "      <th>Normal</th>\n",
              "      <td>384</td>\n",
              "    </tr>\n",
              "  </tbody>\n",
              "</table>\n",
              "</div>\n",
              "      <button class=\"colab-df-convert\" onclick=\"convertToInteractive('df-fafcafb2-11f3-431b-bccc-e3abb478ec10')\"\n",
              "              title=\"Convert this dataframe to an interactive table.\"\n",
              "              style=\"display:none;\">\n",
              "        \n",
              "  <svg xmlns=\"http://www.w3.org/2000/svg\" height=\"24px\"viewBox=\"0 0 24 24\"\n",
              "       width=\"24px\">\n",
              "    <path d=\"M0 0h24v24H0V0z\" fill=\"none\"/>\n",
              "    <path d=\"M18.56 5.44l.94 2.06.94-2.06 2.06-.94-2.06-.94-.94-2.06-.94 2.06-2.06.94zm-11 1L8.5 8.5l.94-2.06 2.06-.94-2.06-.94L8.5 2.5l-.94 2.06-2.06.94zm10 10l.94 2.06.94-2.06 2.06-.94-2.06-.94-.94-2.06-.94 2.06-2.06.94z\"/><path d=\"M17.41 7.96l-1.37-1.37c-.4-.4-.92-.59-1.43-.59-.52 0-1.04.2-1.43.59L10.3 9.45l-7.72 7.72c-.78.78-.78 2.05 0 2.83L4 21.41c.39.39.9.59 1.41.59.51 0 1.02-.2 1.41-.59l7.78-7.78 2.81-2.81c.8-.78.8-2.07 0-2.86zM5.41 20L4 18.59l7.72-7.72 1.47 1.35L5.41 20z\"/>\n",
              "  </svg>\n",
              "      </button>\n",
              "      \n",
              "  <style>\n",
              "    .colab-df-container {\n",
              "      display:flex;\n",
              "      flex-wrap:wrap;\n",
              "      gap: 12px;\n",
              "    }\n",
              "\n",
              "    .colab-df-convert {\n",
              "      background-color: #E8F0FE;\n",
              "      border: none;\n",
              "      border-radius: 50%;\n",
              "      cursor: pointer;\n",
              "      display: none;\n",
              "      fill: #1967D2;\n",
              "      height: 32px;\n",
              "      padding: 0 0 0 0;\n",
              "      width: 32px;\n",
              "    }\n",
              "\n",
              "    .colab-df-convert:hover {\n",
              "      background-color: #E2EBFA;\n",
              "      box-shadow: 0px 1px 2px rgba(60, 64, 67, 0.3), 0px 1px 3px 1px rgba(60, 64, 67, 0.15);\n",
              "      fill: #174EA6;\n",
              "    }\n",
              "\n",
              "    [theme=dark] .colab-df-convert {\n",
              "      background-color: #3B4455;\n",
              "      fill: #D2E3FC;\n",
              "    }\n",
              "\n",
              "    [theme=dark] .colab-df-convert:hover {\n",
              "      background-color: #434B5C;\n",
              "      box-shadow: 0px 1px 3px 1px rgba(0, 0, 0, 0.15);\n",
              "      filter: drop-shadow(0px 1px 2px rgba(0, 0, 0, 0.3));\n",
              "      fill: #FFFFFF;\n",
              "    }\n",
              "  </style>\n",
              "\n",
              "      <script>\n",
              "        const buttonEl =\n",
              "          document.querySelector('#df-fafcafb2-11f3-431b-bccc-e3abb478ec10 button.colab-df-convert');\n",
              "        buttonEl.style.display =\n",
              "          google.colab.kernel.accessAllowed ? 'block' : 'none';\n",
              "\n",
              "        async function convertToInteractive(key) {\n",
              "          const element = document.querySelector('#df-fafcafb2-11f3-431b-bccc-e3abb478ec10');\n",
              "          const dataTable =\n",
              "            await google.colab.kernel.invokeFunction('convertToInteractive',\n",
              "                                                     [key], {});\n",
              "          if (!dataTable) return;\n",
              "\n",
              "          const docLinkHtml = 'Like what you see? Visit the ' +\n",
              "            '<a target=\"_blank\" href=https://colab.research.google.com/notebooks/data_table.ipynb>data table notebook</a>'\n",
              "            + ' to learn more about interactive tables.';\n",
              "          element.innerHTML = '';\n",
              "          dataTable['output_type'] = 'display_data';\n",
              "          await google.colab.output.renderOutput(dataTable, element);\n",
              "          const docLink = document.createElement('div');\n",
              "          docLink.innerHTML = docLinkHtml;\n",
              "          element.appendChild(docLink);\n",
              "        }\n",
              "      </script>\n",
              "    </div>\n",
              "  </div>\n",
              "  "
            ]
          },
          "metadata": {},
          "execution_count": 55
        }
      ]
    },
    {
      "cell_type": "markdown",
      "source": [
        "**Insights**\n",
        "\n",
        "There are 248 member and 384 normal customers are with supermarket.\n",
        "\n",
        "It seens normal customers are much more than members .\n",
        "\n",
        "The graph telling us members are not contributing as expected. "
      ],
      "metadata": {
        "id": "hvjgbFz1i-d2"
      }
    },
    {
      "cell_type": "markdown",
      "source": [
        "**To Check Correaltion between the columns**"
      ],
      "metadata": {
        "id": "sq43GogJnT0_"
      }
    },
    {
      "cell_type": "code",
      "source": [
        "sales_data2.corr()"
      ],
      "metadata": {
        "colab": {
          "base_uri": "https://localhost:8080/",
          "height": 651
        },
        "id": "n5tLHbAAoLL6",
        "outputId": "7e2e709a-7a6a-4710-82c9-7f1acb00f4ef"
      },
      "execution_count": null,
      "outputs": [
        {
          "output_type": "execute_result",
          "data": {
            "text/plain": [
              "                         Unit price  Quantity    Tax 5%     Total      cogs  \\\n",
              "Unit price                 1.000000  0.020421  0.587456  0.587456  0.633866   \n",
              "Quantity                   0.020421  1.000000  0.745821  0.745821  0.651471   \n",
              "Tax 5%                     0.587456  0.745821  1.000000  1.000000  0.942327   \n",
              "Total                      0.587456  0.745821  1.000000  1.000000  0.942327   \n",
              "cogs                       0.633866  0.651471  0.942327  0.942327  1.000000   \n",
              "gross margin percentage         NaN       NaN       NaN       NaN       NaN   \n",
              "gross income               0.373541  0.715042  0.850590  0.850590  0.625543   \n",
              "Rating                    -0.021008  0.012128 -0.019238 -0.019238 -0.040675   \n",
              "Longitude                 -0.025503 -0.181683 -0.154348 -0.154348 -0.032557   \n",
              "Latitude                   0.015714  0.224890  0.173671  0.173671  0.014986   \n",
              "Month                     -0.005059  0.023197  0.010050  0.010050  0.006236   \n",
              "Day                        0.022648 -0.010314  0.010679  0.010679  0.017777   \n",
              "Weekday                   -0.031861  0.003778 -0.017974 -0.017974 -0.012299   \n",
              "Hour                            NaN       NaN       NaN       NaN       NaN   \n",
              "minute                          NaN       NaN       NaN       NaN       NaN   \n",
              "\n",
              "                         gross margin percentage  gross income    Rating  \\\n",
              "Unit price                                   NaN      0.373541 -0.021008   \n",
              "Quantity                                     NaN      0.715042  0.012128   \n",
              "Tax 5%                                       NaN      0.850590 -0.019238   \n",
              "Total                                        NaN      0.850590 -0.019238   \n",
              "cogs                                         NaN      0.625543 -0.040675   \n",
              "gross margin percentage                      NaN           NaN       NaN   \n",
              "gross income                                 NaN      1.000000  0.019059   \n",
              "Rating                                       NaN      0.019059  1.000000   \n",
              "Longitude                                    NaN     -0.308645 -0.129504   \n",
              "Latitude                                     NaN      0.381293  0.174698   \n",
              "Month                                        NaN      0.013629 -0.001487   \n",
              "Day                                          NaN     -0.003034 -0.051522   \n",
              "Weekday                                      NaN     -0.022577  0.094118   \n",
              "Hour                                         NaN           NaN       NaN   \n",
              "minute                                       NaN           NaN       NaN   \n",
              "\n",
              "                         Longitude  Latitude     Month       Day   Weekday  \\\n",
              "Unit price               -0.025503  0.015714 -0.005059  0.022648 -0.031861   \n",
              "Quantity                 -0.181683  0.224890  0.023197 -0.010314  0.003778   \n",
              "Tax 5%                   -0.154348  0.173671  0.010050  0.010679 -0.017974   \n",
              "Total                    -0.154348  0.173671  0.010050  0.010679 -0.017974   \n",
              "cogs                     -0.032557  0.014986  0.006236  0.017777 -0.012299   \n",
              "gross margin percentage        NaN       NaN       NaN       NaN       NaN   \n",
              "gross income             -0.308645  0.381293  0.013629 -0.003034 -0.022577   \n",
              "Rating                   -0.129504  0.174698 -0.001487 -0.051522  0.094118   \n",
              "Longitude                 1.000000 -0.858559 -0.005958 -0.027279  0.028530   \n",
              "Latitude                 -0.858559  1.000000 -0.015140  0.025972 -0.033255   \n",
              "Month                    -0.005958 -0.015140  1.000000  0.009234  0.004085   \n",
              "Day                      -0.027279  0.025972  0.009234  1.000000 -0.032775   \n",
              "Weekday                   0.028530 -0.033255  0.004085 -0.032775  1.000000   \n",
              "Hour                           NaN       NaN       NaN       NaN       NaN   \n",
              "minute                         NaN       NaN       NaN       NaN       NaN   \n",
              "\n",
              "                         Hour  minute  \n",
              "Unit price                NaN     NaN  \n",
              "Quantity                  NaN     NaN  \n",
              "Tax 5%                    NaN     NaN  \n",
              "Total                     NaN     NaN  \n",
              "cogs                      NaN     NaN  \n",
              "gross margin percentage   NaN     NaN  \n",
              "gross income              NaN     NaN  \n",
              "Rating                    NaN     NaN  \n",
              "Longitude                 NaN     NaN  \n",
              "Latitude                  NaN     NaN  \n",
              "Month                     NaN     NaN  \n",
              "Day                       NaN     NaN  \n",
              "Weekday                   NaN     NaN  \n",
              "Hour                      NaN     NaN  \n",
              "minute                    NaN     NaN  "
            ],
            "text/html": [
              "\n",
              "  <div id=\"df-7eea5426-1cdc-4a9c-a4ee-7d5f38bdb8f8\">\n",
              "    <div class=\"colab-df-container\">\n",
              "      <div>\n",
              "<style scoped>\n",
              "    .dataframe tbody tr th:only-of-type {\n",
              "        vertical-align: middle;\n",
              "    }\n",
              "\n",
              "    .dataframe tbody tr th {\n",
              "        vertical-align: top;\n",
              "    }\n",
              "\n",
              "    .dataframe thead th {\n",
              "        text-align: right;\n",
              "    }\n",
              "</style>\n",
              "<table border=\"1\" class=\"dataframe\">\n",
              "  <thead>\n",
              "    <tr style=\"text-align: right;\">\n",
              "      <th></th>\n",
              "      <th>Unit price</th>\n",
              "      <th>Quantity</th>\n",
              "      <th>Tax 5%</th>\n",
              "      <th>Total</th>\n",
              "      <th>cogs</th>\n",
              "      <th>gross margin percentage</th>\n",
              "      <th>gross income</th>\n",
              "      <th>Rating</th>\n",
              "      <th>Longitude</th>\n",
              "      <th>Latitude</th>\n",
              "      <th>Month</th>\n",
              "      <th>Day</th>\n",
              "      <th>Weekday</th>\n",
              "      <th>Hour</th>\n",
              "      <th>minute</th>\n",
              "    </tr>\n",
              "  </thead>\n",
              "  <tbody>\n",
              "    <tr>\n",
              "      <th>Unit price</th>\n",
              "      <td>1.000000</td>\n",
              "      <td>0.020421</td>\n",
              "      <td>0.587456</td>\n",
              "      <td>0.587456</td>\n",
              "      <td>0.633866</td>\n",
              "      <td>NaN</td>\n",
              "      <td>0.373541</td>\n",
              "      <td>-0.021008</td>\n",
              "      <td>-0.025503</td>\n",
              "      <td>0.015714</td>\n",
              "      <td>-0.005059</td>\n",
              "      <td>0.022648</td>\n",
              "      <td>-0.031861</td>\n",
              "      <td>NaN</td>\n",
              "      <td>NaN</td>\n",
              "    </tr>\n",
              "    <tr>\n",
              "      <th>Quantity</th>\n",
              "      <td>0.020421</td>\n",
              "      <td>1.000000</td>\n",
              "      <td>0.745821</td>\n",
              "      <td>0.745821</td>\n",
              "      <td>0.651471</td>\n",
              "      <td>NaN</td>\n",
              "      <td>0.715042</td>\n",
              "      <td>0.012128</td>\n",
              "      <td>-0.181683</td>\n",
              "      <td>0.224890</td>\n",
              "      <td>0.023197</td>\n",
              "      <td>-0.010314</td>\n",
              "      <td>0.003778</td>\n",
              "      <td>NaN</td>\n",
              "      <td>NaN</td>\n",
              "    </tr>\n",
              "    <tr>\n",
              "      <th>Tax 5%</th>\n",
              "      <td>0.587456</td>\n",
              "      <td>0.745821</td>\n",
              "      <td>1.000000</td>\n",
              "      <td>1.000000</td>\n",
              "      <td>0.942327</td>\n",
              "      <td>NaN</td>\n",
              "      <td>0.850590</td>\n",
              "      <td>-0.019238</td>\n",
              "      <td>-0.154348</td>\n",
              "      <td>0.173671</td>\n",
              "      <td>0.010050</td>\n",
              "      <td>0.010679</td>\n",
              "      <td>-0.017974</td>\n",
              "      <td>NaN</td>\n",
              "      <td>NaN</td>\n",
              "    </tr>\n",
              "    <tr>\n",
              "      <th>Total</th>\n",
              "      <td>0.587456</td>\n",
              "      <td>0.745821</td>\n",
              "      <td>1.000000</td>\n",
              "      <td>1.000000</td>\n",
              "      <td>0.942327</td>\n",
              "      <td>NaN</td>\n",
              "      <td>0.850590</td>\n",
              "      <td>-0.019238</td>\n",
              "      <td>-0.154348</td>\n",
              "      <td>0.173671</td>\n",
              "      <td>0.010050</td>\n",
              "      <td>0.010679</td>\n",
              "      <td>-0.017974</td>\n",
              "      <td>NaN</td>\n",
              "      <td>NaN</td>\n",
              "    </tr>\n",
              "    <tr>\n",
              "      <th>cogs</th>\n",
              "      <td>0.633866</td>\n",
              "      <td>0.651471</td>\n",
              "      <td>0.942327</td>\n",
              "      <td>0.942327</td>\n",
              "      <td>1.000000</td>\n",
              "      <td>NaN</td>\n",
              "      <td>0.625543</td>\n",
              "      <td>-0.040675</td>\n",
              "      <td>-0.032557</td>\n",
              "      <td>0.014986</td>\n",
              "      <td>0.006236</td>\n",
              "      <td>0.017777</td>\n",
              "      <td>-0.012299</td>\n",
              "      <td>NaN</td>\n",
              "      <td>NaN</td>\n",
              "    </tr>\n",
              "    <tr>\n",
              "      <th>gross margin percentage</th>\n",
              "      <td>NaN</td>\n",
              "      <td>NaN</td>\n",
              "      <td>NaN</td>\n",
              "      <td>NaN</td>\n",
              "      <td>NaN</td>\n",
              "      <td>NaN</td>\n",
              "      <td>NaN</td>\n",
              "      <td>NaN</td>\n",
              "      <td>NaN</td>\n",
              "      <td>NaN</td>\n",
              "      <td>NaN</td>\n",
              "      <td>NaN</td>\n",
              "      <td>NaN</td>\n",
              "      <td>NaN</td>\n",
              "      <td>NaN</td>\n",
              "    </tr>\n",
              "    <tr>\n",
              "      <th>gross income</th>\n",
              "      <td>0.373541</td>\n",
              "      <td>0.715042</td>\n",
              "      <td>0.850590</td>\n",
              "      <td>0.850590</td>\n",
              "      <td>0.625543</td>\n",
              "      <td>NaN</td>\n",
              "      <td>1.000000</td>\n",
              "      <td>0.019059</td>\n",
              "      <td>-0.308645</td>\n",
              "      <td>0.381293</td>\n",
              "      <td>0.013629</td>\n",
              "      <td>-0.003034</td>\n",
              "      <td>-0.022577</td>\n",
              "      <td>NaN</td>\n",
              "      <td>NaN</td>\n",
              "    </tr>\n",
              "    <tr>\n",
              "      <th>Rating</th>\n",
              "      <td>-0.021008</td>\n",
              "      <td>0.012128</td>\n",
              "      <td>-0.019238</td>\n",
              "      <td>-0.019238</td>\n",
              "      <td>-0.040675</td>\n",
              "      <td>NaN</td>\n",
              "      <td>0.019059</td>\n",
              "      <td>1.000000</td>\n",
              "      <td>-0.129504</td>\n",
              "      <td>0.174698</td>\n",
              "      <td>-0.001487</td>\n",
              "      <td>-0.051522</td>\n",
              "      <td>0.094118</td>\n",
              "      <td>NaN</td>\n",
              "      <td>NaN</td>\n",
              "    </tr>\n",
              "    <tr>\n",
              "      <th>Longitude</th>\n",
              "      <td>-0.025503</td>\n",
              "      <td>-0.181683</td>\n",
              "      <td>-0.154348</td>\n",
              "      <td>-0.154348</td>\n",
              "      <td>-0.032557</td>\n",
              "      <td>NaN</td>\n",
              "      <td>-0.308645</td>\n",
              "      <td>-0.129504</td>\n",
              "      <td>1.000000</td>\n",
              "      <td>-0.858559</td>\n",
              "      <td>-0.005958</td>\n",
              "      <td>-0.027279</td>\n",
              "      <td>0.028530</td>\n",
              "      <td>NaN</td>\n",
              "      <td>NaN</td>\n",
              "    </tr>\n",
              "    <tr>\n",
              "      <th>Latitude</th>\n",
              "      <td>0.015714</td>\n",
              "      <td>0.224890</td>\n",
              "      <td>0.173671</td>\n",
              "      <td>0.173671</td>\n",
              "      <td>0.014986</td>\n",
              "      <td>NaN</td>\n",
              "      <td>0.381293</td>\n",
              "      <td>0.174698</td>\n",
              "      <td>-0.858559</td>\n",
              "      <td>1.000000</td>\n",
              "      <td>-0.015140</td>\n",
              "      <td>0.025972</td>\n",
              "      <td>-0.033255</td>\n",
              "      <td>NaN</td>\n",
              "      <td>NaN</td>\n",
              "    </tr>\n",
              "    <tr>\n",
              "      <th>Month</th>\n",
              "      <td>-0.005059</td>\n",
              "      <td>0.023197</td>\n",
              "      <td>0.010050</td>\n",
              "      <td>0.010050</td>\n",
              "      <td>0.006236</td>\n",
              "      <td>NaN</td>\n",
              "      <td>0.013629</td>\n",
              "      <td>-0.001487</td>\n",
              "      <td>-0.005958</td>\n",
              "      <td>-0.015140</td>\n",
              "      <td>1.000000</td>\n",
              "      <td>0.009234</td>\n",
              "      <td>0.004085</td>\n",
              "      <td>NaN</td>\n",
              "      <td>NaN</td>\n",
              "    </tr>\n",
              "    <tr>\n",
              "      <th>Day</th>\n",
              "      <td>0.022648</td>\n",
              "      <td>-0.010314</td>\n",
              "      <td>0.010679</td>\n",
              "      <td>0.010679</td>\n",
              "      <td>0.017777</td>\n",
              "      <td>NaN</td>\n",
              "      <td>-0.003034</td>\n",
              "      <td>-0.051522</td>\n",
              "      <td>-0.027279</td>\n",
              "      <td>0.025972</td>\n",
              "      <td>0.009234</td>\n",
              "      <td>1.000000</td>\n",
              "      <td>-0.032775</td>\n",
              "      <td>NaN</td>\n",
              "      <td>NaN</td>\n",
              "    </tr>\n",
              "    <tr>\n",
              "      <th>Weekday</th>\n",
              "      <td>-0.031861</td>\n",
              "      <td>0.003778</td>\n",
              "      <td>-0.017974</td>\n",
              "      <td>-0.017974</td>\n",
              "      <td>-0.012299</td>\n",
              "      <td>NaN</td>\n",
              "      <td>-0.022577</td>\n",
              "      <td>0.094118</td>\n",
              "      <td>0.028530</td>\n",
              "      <td>-0.033255</td>\n",
              "      <td>0.004085</td>\n",
              "      <td>-0.032775</td>\n",
              "      <td>1.000000</td>\n",
              "      <td>NaN</td>\n",
              "      <td>NaN</td>\n",
              "    </tr>\n",
              "    <tr>\n",
              "      <th>Hour</th>\n",
              "      <td>NaN</td>\n",
              "      <td>NaN</td>\n",
              "      <td>NaN</td>\n",
              "      <td>NaN</td>\n",
              "      <td>NaN</td>\n",
              "      <td>NaN</td>\n",
              "      <td>NaN</td>\n",
              "      <td>NaN</td>\n",
              "      <td>NaN</td>\n",
              "      <td>NaN</td>\n",
              "      <td>NaN</td>\n",
              "      <td>NaN</td>\n",
              "      <td>NaN</td>\n",
              "      <td>NaN</td>\n",
              "      <td>NaN</td>\n",
              "    </tr>\n",
              "    <tr>\n",
              "      <th>minute</th>\n",
              "      <td>NaN</td>\n",
              "      <td>NaN</td>\n",
              "      <td>NaN</td>\n",
              "      <td>NaN</td>\n",
              "      <td>NaN</td>\n",
              "      <td>NaN</td>\n",
              "      <td>NaN</td>\n",
              "      <td>NaN</td>\n",
              "      <td>NaN</td>\n",
              "      <td>NaN</td>\n",
              "      <td>NaN</td>\n",
              "      <td>NaN</td>\n",
              "      <td>NaN</td>\n",
              "      <td>NaN</td>\n",
              "      <td>NaN</td>\n",
              "    </tr>\n",
              "  </tbody>\n",
              "</table>\n",
              "</div>\n",
              "      <button class=\"colab-df-convert\" onclick=\"convertToInteractive('df-7eea5426-1cdc-4a9c-a4ee-7d5f38bdb8f8')\"\n",
              "              title=\"Convert this dataframe to an interactive table.\"\n",
              "              style=\"display:none;\">\n",
              "        \n",
              "  <svg xmlns=\"http://www.w3.org/2000/svg\" height=\"24px\"viewBox=\"0 0 24 24\"\n",
              "       width=\"24px\">\n",
              "    <path d=\"M0 0h24v24H0V0z\" fill=\"none\"/>\n",
              "    <path d=\"M18.56 5.44l.94 2.06.94-2.06 2.06-.94-2.06-.94-.94-2.06-.94 2.06-2.06.94zm-11 1L8.5 8.5l.94-2.06 2.06-.94-2.06-.94L8.5 2.5l-.94 2.06-2.06.94zm10 10l.94 2.06.94-2.06 2.06-.94-2.06-.94-.94-2.06-.94 2.06-2.06.94z\"/><path d=\"M17.41 7.96l-1.37-1.37c-.4-.4-.92-.59-1.43-.59-.52 0-1.04.2-1.43.59L10.3 9.45l-7.72 7.72c-.78.78-.78 2.05 0 2.83L4 21.41c.39.39.9.59 1.41.59.51 0 1.02-.2 1.41-.59l7.78-7.78 2.81-2.81c.8-.78.8-2.07 0-2.86zM5.41 20L4 18.59l7.72-7.72 1.47 1.35L5.41 20z\"/>\n",
              "  </svg>\n",
              "      </button>\n",
              "      \n",
              "  <style>\n",
              "    .colab-df-container {\n",
              "      display:flex;\n",
              "      flex-wrap:wrap;\n",
              "      gap: 12px;\n",
              "    }\n",
              "\n",
              "    .colab-df-convert {\n",
              "      background-color: #E8F0FE;\n",
              "      border: none;\n",
              "      border-radius: 50%;\n",
              "      cursor: pointer;\n",
              "      display: none;\n",
              "      fill: #1967D2;\n",
              "      height: 32px;\n",
              "      padding: 0 0 0 0;\n",
              "      width: 32px;\n",
              "    }\n",
              "\n",
              "    .colab-df-convert:hover {\n",
              "      background-color: #E2EBFA;\n",
              "      box-shadow: 0px 1px 2px rgba(60, 64, 67, 0.3), 0px 1px 3px 1px rgba(60, 64, 67, 0.15);\n",
              "      fill: #174EA6;\n",
              "    }\n",
              "\n",
              "    [theme=dark] .colab-df-convert {\n",
              "      background-color: #3B4455;\n",
              "      fill: #D2E3FC;\n",
              "    }\n",
              "\n",
              "    [theme=dark] .colab-df-convert:hover {\n",
              "      background-color: #434B5C;\n",
              "      box-shadow: 0px 1px 3px 1px rgba(0, 0, 0, 0.15);\n",
              "      filter: drop-shadow(0px 1px 2px rgba(0, 0, 0, 0.3));\n",
              "      fill: #FFFFFF;\n",
              "    }\n",
              "  </style>\n",
              "\n",
              "      <script>\n",
              "        const buttonEl =\n",
              "          document.querySelector('#df-7eea5426-1cdc-4a9c-a4ee-7d5f38bdb8f8 button.colab-df-convert');\n",
              "        buttonEl.style.display =\n",
              "          google.colab.kernel.accessAllowed ? 'block' : 'none';\n",
              "\n",
              "        async function convertToInteractive(key) {\n",
              "          const element = document.querySelector('#df-7eea5426-1cdc-4a9c-a4ee-7d5f38bdb8f8');\n",
              "          const dataTable =\n",
              "            await google.colab.kernel.invokeFunction('convertToInteractive',\n",
              "                                                     [key], {});\n",
              "          if (!dataTable) return;\n",
              "\n",
              "          const docLinkHtml = 'Like what you see? Visit the ' +\n",
              "            '<a target=\"_blank\" href=https://colab.research.google.com/notebooks/data_table.ipynb>data table notebook</a>'\n",
              "            + ' to learn more about interactive tables.';\n",
              "          element.innerHTML = '';\n",
              "          dataTable['output_type'] = 'display_data';\n",
              "          await google.colab.output.renderOutput(dataTable, element);\n",
              "          const docLink = document.createElement('div');\n",
              "          docLink.innerHTML = docLinkHtml;\n",
              "          element.appendChild(docLink);\n",
              "        }\n",
              "      </script>\n",
              "    </div>\n",
              "  </div>\n",
              "  "
            ]
          },
          "metadata": {},
          "execution_count": 56
        }
      ]
    },
    {
      "cell_type": "markdown",
      "source": [
        "**Check with heatmap**"
      ],
      "metadata": {
        "id": "FCDeDuLaoM27"
      }
    },
    {
      "cell_type": "code",
      "source": [
        "sales_data2.corr().style.background_gradient(cmap=\"hot\")"
      ],
      "metadata": {
        "colab": {
          "base_uri": "https://localhost:8080/",
          "height": 676
        },
        "id": "gOqALwyxkrsz",
        "outputId": "bdce8a99-47aa-41c0-bdb0-81dd0ee837f7"
      },
      "execution_count": null,
      "outputs": [
        {
          "output_type": "stream",
          "name": "stderr",
          "text": [
            "/usr/local/lib/python3.9/dist-packages/pandas/io/formats/style.py:2813: RuntimeWarning: All-NaN slice encountered\n",
            "  smin = np.nanmin(gmap) if vmin is None else vmin\n",
            "/usr/local/lib/python3.9/dist-packages/pandas/io/formats/style.py:2814: RuntimeWarning: All-NaN slice encountered\n",
            "  smax = np.nanmax(gmap) if vmax is None else vmax\n"
          ]
        },
        {
          "output_type": "execute_result",
          "data": {
            "text/plain": [
              "<pandas.io.formats.style.Styler at 0x7f29c036be50>"
            ],
            "text/html": [
              "<style type=\"text/css\">\n",
              "#T_ea833_row0_col0, #T_ea833_row1_col1, #T_ea833_row2_col2, #T_ea833_row2_col3, #T_ea833_row3_col2, #T_ea833_row3_col3, #T_ea833_row4_col4, #T_ea833_row6_col6, #T_ea833_row7_col7, #T_ea833_row8_col8, #T_ea833_row9_col9, #T_ea833_row10_col10, #T_ea833_row11_col11, #T_ea833_row12_col12 {\n",
              "  background-color: #ffffff;\n",
              "  color: #000000;\n",
              "}\n",
              "#T_ea833_row0_col1 {\n",
              "  background-color: #7b0000;\n",
              "  color: #f1f1f1;\n",
              "}\n",
              "#T_ea833_row0_col2, #T_ea833_row0_col3 {\n",
              "  background-color: #ffba00;\n",
              "  color: #000000;\n",
              "}\n",
              "#T_ea833_row0_col4, #T_ea833_row4_col0 {\n",
              "  background-color: #ffbd00;\n",
              "  color: #000000;\n",
              "}\n",
              "#T_ea833_row0_col5, #T_ea833_row0_col13, #T_ea833_row0_col14, #T_ea833_row1_col5, #T_ea833_row1_col13, #T_ea833_row1_col14, #T_ea833_row2_col5, #T_ea833_row2_col13, #T_ea833_row2_col14, #T_ea833_row3_col5, #T_ea833_row3_col13, #T_ea833_row3_col14, #T_ea833_row4_col5, #T_ea833_row4_col13, #T_ea833_row4_col14, #T_ea833_row5_col0, #T_ea833_row5_col1, #T_ea833_row5_col2, #T_ea833_row5_col3, #T_ea833_row5_col4, #T_ea833_row5_col5, #T_ea833_row5_col6, #T_ea833_row5_col7, #T_ea833_row5_col8, #T_ea833_row5_col9, #T_ea833_row5_col10, #T_ea833_row5_col11, #T_ea833_row5_col12, #T_ea833_row5_col13, #T_ea833_row5_col14, #T_ea833_row6_col5, #T_ea833_row6_col13, #T_ea833_row6_col14, #T_ea833_row7_col5, #T_ea833_row7_col13, #T_ea833_row7_col14, #T_ea833_row8_col5, #T_ea833_row8_col13, #T_ea833_row8_col14, #T_ea833_row9_col5, #T_ea833_row9_col13, #T_ea833_row9_col14, #T_ea833_row10_col5, #T_ea833_row10_col13, #T_ea833_row10_col14, #T_ea833_row11_col5, #T_ea833_row11_col13, #T_ea833_row11_col14, #T_ea833_row12_col5, #T_ea833_row12_col13, #T_ea833_row12_col14, #T_ea833_row13_col0, #T_ea833_row13_col1, #T_ea833_row13_col2, #T_ea833_row13_col3, #T_ea833_row13_col4, #T_ea833_row13_col5, #T_ea833_row13_col6, #T_ea833_row13_col7, #T_ea833_row13_col8, #T_ea833_row13_col9, #T_ea833_row13_col10, #T_ea833_row13_col11, #T_ea833_row13_col12, #T_ea833_row13_col13, #T_ea833_row13_col14, #T_ea833_row14_col0, #T_ea833_row14_col1, #T_ea833_row14_col2, #T_ea833_row14_col3, #T_ea833_row14_col4, #T_ea833_row14_col5, #T_ea833_row14_col6, #T_ea833_row14_col7, #T_ea833_row14_col8, #T_ea833_row14_col9, #T_ea833_row14_col10, #T_ea833_row14_col11, #T_ea833_row14_col12, #T_ea833_row14_col13, #T_ea833_row14_col14 {\n",
              "  background-color: #000000;\n",
              "  color: #f1f1f1;\n",
              "}\n",
              "#T_ea833_row0_col6 {\n",
              "  background-color: #ff6900;\n",
              "  color: #f1f1f1;\n",
              "}\n",
              "#T_ea833_row0_col7, #T_ea833_row2_col7, #T_ea833_row3_col7 {\n",
              "  background-color: #4a0000;\n",
              "  color: #f1f1f1;\n",
              "}\n",
              "#T_ea833_row0_col8, #T_ea833_row11_col8 {\n",
              "  background-color: #ff3700;\n",
              "  color: #f1f1f1;\n",
              "}\n",
              "#T_ea833_row0_col9, #T_ea833_row4_col9 {\n",
              "  background-color: #ff4700;\n",
              "  color: #f1f1f1;\n",
              "}\n",
              "#T_ea833_row0_col10, #T_ea833_row6_col12, #T_ea833_row7_col0, #T_ea833_row8_col10 {\n",
              "  background-color: #100000;\n",
              "  color: #f1f1f1;\n",
              "}\n",
              "#T_ea833_row0_col11, #T_ea833_row9_col11 {\n",
              "  background-color: #3a0000;\n",
              "  color: #f1f1f1;\n",
              "}\n",
              "#T_ea833_row0_col12, #T_ea833_row7_col4, #T_ea833_row7_col11, #T_ea833_row8_col1, #T_ea833_row8_col2, #T_ea833_row8_col3, #T_ea833_row8_col6, #T_ea833_row8_col7, #T_ea833_row8_col9, #T_ea833_row9_col8, #T_ea833_row9_col10, #T_ea833_row9_col12, #T_ea833_row11_col12, #T_ea833_row12_col0 {\n",
              "  background-color: #0b0000;\n",
              "  color: #f1f1f1;\n",
              "}\n",
              "#T_ea833_row1_col0 {\n",
              "  background-color: #2a0000;\n",
              "  color: #f1f1f1;\n",
              "}\n",
              "#T_ea833_row1_col2, #T_ea833_row1_col3 {\n",
              "  background-color: #ffff22;\n",
              "  color: #000000;\n",
              "}\n",
              "#T_ea833_row1_col4, #T_ea833_row6_col9 {\n",
              "  background-color: #ffca00;\n",
              "  color: #000000;\n",
              "}\n",
              "#T_ea833_row1_col6, #T_ea833_row2_col1, #T_ea833_row3_col1 {\n",
              "  background-color: #ffff26;\n",
              "  color: #000000;\n",
              "}\n",
              "#T_ea833_row1_col7 {\n",
              "  background-color: #5f0000;\n",
              "  color: #f1f1f1;\n",
              "}\n",
              "#T_ea833_row1_col8 {\n",
              "  background-color: #ff0000;\n",
              "  color: #f1f1f1;\n",
              "}\n",
              "#T_ea833_row1_col9 {\n",
              "  background-color: #ff9300;\n",
              "  color: #000000;\n",
              "}\n",
              "#T_ea833_row1_col10, #T_ea833_row1_col12, #T_ea833_row10_col12 {\n",
              "  background-color: #220000;\n",
              "  color: #f1f1f1;\n",
              "}\n",
              "#T_ea833_row1_col11 {\n",
              "  background-color: #250000;\n",
              "  color: #f1f1f1;\n",
              "}\n",
              "#T_ea833_row2_col0, #T_ea833_row3_col0 {\n",
              "  background-color: #ff9d00;\n",
              "  color: #000000;\n",
              "}\n",
              "#T_ea833_row2_col4, #T_ea833_row3_col4 {\n",
              "  background-color: #ffffc8;\n",
              "  color: #000000;\n",
              "}\n",
              "#T_ea833_row2_col6, #T_ea833_row3_col6 {\n",
              "  background-color: #ffff8d;\n",
              "  color: #000000;\n",
              "}\n",
              "#T_ea833_row2_col8, #T_ea833_row3_col8 {\n",
              "  background-color: #ff0800;\n",
              "  color: #f1f1f1;\n",
              "}\n",
              "#T_ea833_row2_col9, #T_ea833_row3_col9, #T_ea833_row7_col9 {\n",
              "  background-color: #ff8000;\n",
              "  color: #f1f1f1;\n",
              "}\n",
              "#T_ea833_row2_col10, #T_ea833_row3_col10, #T_ea833_row10_col0, #T_ea833_row11_col10, #T_ea833_row12_col4 {\n",
              "  background-color: #1a0000;\n",
              "  color: #f1f1f1;\n",
              "}\n",
              "#T_ea833_row2_col11, #T_ea833_row3_col11, #T_ea833_row8_col12 {\n",
              "  background-color: #320000;\n",
              "  color: #f1f1f1;\n",
              "}\n",
              "#T_ea833_row2_col12, #T_ea833_row3_col12, #T_ea833_row7_col10 {\n",
              "  background-color: #120000;\n",
              "  color: #f1f1f1;\n",
              "}\n",
              "#T_ea833_row4_col1 {\n",
              "  background-color: #ffe400;\n",
              "  color: #000000;\n",
              "}\n",
              "#T_ea833_row4_col2, #T_ea833_row4_col3 {\n",
              "  background-color: #ffffd0;\n",
              "  color: #000000;\n",
              "}\n",
              "#T_ea833_row4_col6 {\n",
              "  background-color: #ffe900;\n",
              "  color: #000000;\n",
              "}\n",
              "#T_ea833_row4_col7 {\n",
              "  background-color: #3f0000;\n",
              "  color: #f1f1f1;\n",
              "}\n",
              "#T_ea833_row4_col8, #T_ea833_row12_col9 {\n",
              "  background-color: #ff3400;\n",
              "  color: #f1f1f1;\n",
              "}\n",
              "#T_ea833_row4_col10, #T_ea833_row4_col12, #T_ea833_row8_col11 {\n",
              "  background-color: #180000;\n",
              "  color: #f1f1f1;\n",
              "}\n",
              "#T_ea833_row4_col11 {\n",
              "  background-color: #350000;\n",
              "  color: #f1f1f1;\n",
              "}\n",
              "#T_ea833_row6_col0, #T_ea833_row7_col8 {\n",
              "  background-color: #ff1200;\n",
              "  color: #f1f1f1;\n",
              "}\n",
              "#T_ea833_row6_col1 {\n",
              "  background-color: #ffff0f;\n",
              "  color: #000000;\n",
              "}\n",
              "#T_ea833_row6_col2, #T_ea833_row6_col3 {\n",
              "  background-color: #ffff7d;\n",
              "  color: #000000;\n",
              "}\n",
              "#T_ea833_row6_col4 {\n",
              "  background-color: #ffb700;\n",
              "  color: #000000;\n",
              "}\n",
              "#T_ea833_row6_col7 {\n",
              "  background-color: #610000;\n",
              "  color: #f1f1f1;\n",
              "}\n",
              "#T_ea833_row6_col8 {\n",
              "  background-color: #cf0000;\n",
              "  color: #f1f1f1;\n",
              "}\n",
              "#T_ea833_row6_col10 {\n",
              "  background-color: #1d0000;\n",
              "  color: #f1f1f1;\n",
              "}\n",
              "#T_ea833_row6_col11, #T_ea833_row9_col0, #T_ea833_row10_col4 {\n",
              "  background-color: #270000;\n",
              "  color: #f1f1f1;\n",
              "}\n",
              "#T_ea833_row7_col1 {\n",
              "  background-color: #760000;\n",
              "  color: #f1f1f1;\n",
              "}\n",
              "#T_ea833_row7_col2, #T_ea833_row7_col3, #T_ea833_row10_col7 {\n",
              "  background-color: #570000;\n",
              "  color: #f1f1f1;\n",
              "}\n",
              "#T_ea833_row7_col6 {\n",
              "  background-color: #b30000;\n",
              "  color: #f1f1f1;\n",
              "}\n",
              "#T_ea833_row7_col12 {\n",
              "  background-color: #5c0000;\n",
              "  color: #f1f1f1;\n",
              "}\n",
              "#T_ea833_row8_col0, #T_ea833_row8_col4 {\n",
              "  background-color: #0d0000;\n",
              "  color: #f1f1f1;\n",
              "}\n",
              "#T_ea833_row9_col1 {\n",
              "  background-color: #f20000;\n",
              "  color: #f1f1f1;\n",
              "}\n",
              "#T_ea833_row9_col2, #T_ea833_row9_col3 {\n",
              "  background-color: #c80000;\n",
              "  color: #f1f1f1;\n",
              "}\n",
              "#T_ea833_row9_col4, #T_ea833_row11_col0 {\n",
              "  background-color: #2d0000;\n",
              "  color: #f1f1f1;\n",
              "}\n",
              "#T_ea833_row9_col6 {\n",
              "  background-color: #ff6b00;\n",
              "  color: #f1f1f1;\n",
              "}\n",
              "#T_ea833_row9_col7 {\n",
              "  background-color: #bd0000;\n",
              "  color: #f1f1f1;\n",
              "}\n",
              "#T_ea833_row10_col1 {\n",
              "  background-color: #7e0000;\n",
              "  color: #f1f1f1;\n",
              "}\n",
              "#T_ea833_row10_col2, #T_ea833_row10_col3, #T_ea833_row11_col2, #T_ea833_row11_col3 {\n",
              "  background-color: #690000;\n",
              "  color: #f1f1f1;\n",
              "}\n",
              "#T_ea833_row10_col6 {\n",
              "  background-color: #b00000;\n",
              "  color: #f1f1f1;\n",
              "}\n",
              "#T_ea833_row10_col8 {\n",
              "  background-color: #ff3f00;\n",
              "  color: #f1f1f1;\n",
              "}\n",
              "#T_ea833_row10_col9 {\n",
              "  background-color: #ff3c00;\n",
              "  color: #f1f1f1;\n",
              "}\n",
              "#T_ea833_row10_col11, #T_ea833_row11_col4 {\n",
              "  background-color: #2f0000;\n",
              "  color: #f1f1f1;\n",
              "}\n",
              "#T_ea833_row11_col1 {\n",
              "  background-color: #6c0000;\n",
              "  color: #f1f1f1;\n",
              "}\n",
              "#T_ea833_row11_col6 {\n",
              "  background-color: #a50000;\n",
              "  color: #f1f1f1;\n",
              "}\n",
              "#T_ea833_row11_col7 {\n",
              "  background-color: #370000;\n",
              "  color: #f1f1f1;\n",
              "}\n",
              "#T_ea833_row11_col9 {\n",
              "  background-color: #ff4900;\n",
              "  color: #f1f1f1;\n",
              "}\n",
              "#T_ea833_row12_col1 {\n",
              "  background-color: #740000;\n",
              "  color: #f1f1f1;\n",
              "}\n",
              "#T_ea833_row12_col2, #T_ea833_row12_col3 {\n",
              "  background-color: #590000;\n",
              "  color: #f1f1f1;\n",
              "}\n",
              "#T_ea833_row12_col6 {\n",
              "  background-color: #9b0000;\n",
              "  color: #f1f1f1;\n",
              "}\n",
              "#T_ea833_row12_col7 {\n",
              "  background-color: #8e0000;\n",
              "  color: #f1f1f1;\n",
              "}\n",
              "#T_ea833_row12_col8 {\n",
              "  background-color: #ff4c00;\n",
              "  color: #f1f1f1;\n",
              "}\n",
              "#T_ea833_row12_col10, #T_ea833_row12_col11 {\n",
              "  background-color: #150000;\n",
              "  color: #f1f1f1;\n",
              "}\n",
              "</style>\n",
              "<table id=\"T_ea833_\" class=\"dataframe\">\n",
              "  <thead>\n",
              "    <tr>\n",
              "      <th class=\"blank level0\" >&nbsp;</th>\n",
              "      <th class=\"col_heading level0 col0\" >Unit price</th>\n",
              "      <th class=\"col_heading level0 col1\" >Quantity</th>\n",
              "      <th class=\"col_heading level0 col2\" >Tax 5%</th>\n",
              "      <th class=\"col_heading level0 col3\" >Total</th>\n",
              "      <th class=\"col_heading level0 col4\" >cogs</th>\n",
              "      <th class=\"col_heading level0 col5\" >gross margin percentage</th>\n",
              "      <th class=\"col_heading level0 col6\" >gross income</th>\n",
              "      <th class=\"col_heading level0 col7\" >Rating</th>\n",
              "      <th class=\"col_heading level0 col8\" >Longitude</th>\n",
              "      <th class=\"col_heading level0 col9\" >Latitude</th>\n",
              "      <th class=\"col_heading level0 col10\" >Month</th>\n",
              "      <th class=\"col_heading level0 col11\" >Day</th>\n",
              "      <th class=\"col_heading level0 col12\" >Weekday</th>\n",
              "      <th class=\"col_heading level0 col13\" >Hour</th>\n",
              "      <th class=\"col_heading level0 col14\" >minute</th>\n",
              "    </tr>\n",
              "  </thead>\n",
              "  <tbody>\n",
              "    <tr>\n",
              "      <th id=\"T_ea833_level0_row0\" class=\"row_heading level0 row0\" >Unit price</th>\n",
              "      <td id=\"T_ea833_row0_col0\" class=\"data row0 col0\" >1.000000</td>\n",
              "      <td id=\"T_ea833_row0_col1\" class=\"data row0 col1\" >0.020421</td>\n",
              "      <td id=\"T_ea833_row0_col2\" class=\"data row0 col2\" >0.587456</td>\n",
              "      <td id=\"T_ea833_row0_col3\" class=\"data row0 col3\" >0.587456</td>\n",
              "      <td id=\"T_ea833_row0_col4\" class=\"data row0 col4\" >0.633866</td>\n",
              "      <td id=\"T_ea833_row0_col5\" class=\"data row0 col5\" >nan</td>\n",
              "      <td id=\"T_ea833_row0_col6\" class=\"data row0 col6\" >0.373541</td>\n",
              "      <td id=\"T_ea833_row0_col7\" class=\"data row0 col7\" >-0.021008</td>\n",
              "      <td id=\"T_ea833_row0_col8\" class=\"data row0 col8\" >-0.025503</td>\n",
              "      <td id=\"T_ea833_row0_col9\" class=\"data row0 col9\" >0.015714</td>\n",
              "      <td id=\"T_ea833_row0_col10\" class=\"data row0 col10\" >-0.005059</td>\n",
              "      <td id=\"T_ea833_row0_col11\" class=\"data row0 col11\" >0.022648</td>\n",
              "      <td id=\"T_ea833_row0_col12\" class=\"data row0 col12\" >-0.031861</td>\n",
              "      <td id=\"T_ea833_row0_col13\" class=\"data row0 col13\" >nan</td>\n",
              "      <td id=\"T_ea833_row0_col14\" class=\"data row0 col14\" >nan</td>\n",
              "    </tr>\n",
              "    <tr>\n",
              "      <th id=\"T_ea833_level0_row1\" class=\"row_heading level0 row1\" >Quantity</th>\n",
              "      <td id=\"T_ea833_row1_col0\" class=\"data row1 col0\" >0.020421</td>\n",
              "      <td id=\"T_ea833_row1_col1\" class=\"data row1 col1\" >1.000000</td>\n",
              "      <td id=\"T_ea833_row1_col2\" class=\"data row1 col2\" >0.745821</td>\n",
              "      <td id=\"T_ea833_row1_col3\" class=\"data row1 col3\" >0.745821</td>\n",
              "      <td id=\"T_ea833_row1_col4\" class=\"data row1 col4\" >0.651471</td>\n",
              "      <td id=\"T_ea833_row1_col5\" class=\"data row1 col5\" >nan</td>\n",
              "      <td id=\"T_ea833_row1_col6\" class=\"data row1 col6\" >0.715042</td>\n",
              "      <td id=\"T_ea833_row1_col7\" class=\"data row1 col7\" >0.012128</td>\n",
              "      <td id=\"T_ea833_row1_col8\" class=\"data row1 col8\" >-0.181683</td>\n",
              "      <td id=\"T_ea833_row1_col9\" class=\"data row1 col9\" >0.224890</td>\n",
              "      <td id=\"T_ea833_row1_col10\" class=\"data row1 col10\" >0.023197</td>\n",
              "      <td id=\"T_ea833_row1_col11\" class=\"data row1 col11\" >-0.010314</td>\n",
              "      <td id=\"T_ea833_row1_col12\" class=\"data row1 col12\" >0.003778</td>\n",
              "      <td id=\"T_ea833_row1_col13\" class=\"data row1 col13\" >nan</td>\n",
              "      <td id=\"T_ea833_row1_col14\" class=\"data row1 col14\" >nan</td>\n",
              "    </tr>\n",
              "    <tr>\n",
              "      <th id=\"T_ea833_level0_row2\" class=\"row_heading level0 row2\" >Tax 5%</th>\n",
              "      <td id=\"T_ea833_row2_col0\" class=\"data row2 col0\" >0.587456</td>\n",
              "      <td id=\"T_ea833_row2_col1\" class=\"data row2 col1\" >0.745821</td>\n",
              "      <td id=\"T_ea833_row2_col2\" class=\"data row2 col2\" >1.000000</td>\n",
              "      <td id=\"T_ea833_row2_col3\" class=\"data row2 col3\" >1.000000</td>\n",
              "      <td id=\"T_ea833_row2_col4\" class=\"data row2 col4\" >0.942327</td>\n",
              "      <td id=\"T_ea833_row2_col5\" class=\"data row2 col5\" >nan</td>\n",
              "      <td id=\"T_ea833_row2_col6\" class=\"data row2 col6\" >0.850590</td>\n",
              "      <td id=\"T_ea833_row2_col7\" class=\"data row2 col7\" >-0.019238</td>\n",
              "      <td id=\"T_ea833_row2_col8\" class=\"data row2 col8\" >-0.154348</td>\n",
              "      <td id=\"T_ea833_row2_col9\" class=\"data row2 col9\" >0.173671</td>\n",
              "      <td id=\"T_ea833_row2_col10\" class=\"data row2 col10\" >0.010050</td>\n",
              "      <td id=\"T_ea833_row2_col11\" class=\"data row2 col11\" >0.010679</td>\n",
              "      <td id=\"T_ea833_row2_col12\" class=\"data row2 col12\" >-0.017974</td>\n",
              "      <td id=\"T_ea833_row2_col13\" class=\"data row2 col13\" >nan</td>\n",
              "      <td id=\"T_ea833_row2_col14\" class=\"data row2 col14\" >nan</td>\n",
              "    </tr>\n",
              "    <tr>\n",
              "      <th id=\"T_ea833_level0_row3\" class=\"row_heading level0 row3\" >Total</th>\n",
              "      <td id=\"T_ea833_row3_col0\" class=\"data row3 col0\" >0.587456</td>\n",
              "      <td id=\"T_ea833_row3_col1\" class=\"data row3 col1\" >0.745821</td>\n",
              "      <td id=\"T_ea833_row3_col2\" class=\"data row3 col2\" >1.000000</td>\n",
              "      <td id=\"T_ea833_row3_col3\" class=\"data row3 col3\" >1.000000</td>\n",
              "      <td id=\"T_ea833_row3_col4\" class=\"data row3 col4\" >0.942327</td>\n",
              "      <td id=\"T_ea833_row3_col5\" class=\"data row3 col5\" >nan</td>\n",
              "      <td id=\"T_ea833_row3_col6\" class=\"data row3 col6\" >0.850590</td>\n",
              "      <td id=\"T_ea833_row3_col7\" class=\"data row3 col7\" >-0.019238</td>\n",
              "      <td id=\"T_ea833_row3_col8\" class=\"data row3 col8\" >-0.154348</td>\n",
              "      <td id=\"T_ea833_row3_col9\" class=\"data row3 col9\" >0.173671</td>\n",
              "      <td id=\"T_ea833_row3_col10\" class=\"data row3 col10\" >0.010050</td>\n",
              "      <td id=\"T_ea833_row3_col11\" class=\"data row3 col11\" >0.010679</td>\n",
              "      <td id=\"T_ea833_row3_col12\" class=\"data row3 col12\" >-0.017974</td>\n",
              "      <td id=\"T_ea833_row3_col13\" class=\"data row3 col13\" >nan</td>\n",
              "      <td id=\"T_ea833_row3_col14\" class=\"data row3 col14\" >nan</td>\n",
              "    </tr>\n",
              "    <tr>\n",
              "      <th id=\"T_ea833_level0_row4\" class=\"row_heading level0 row4\" >cogs</th>\n",
              "      <td id=\"T_ea833_row4_col0\" class=\"data row4 col0\" >0.633866</td>\n",
              "      <td id=\"T_ea833_row4_col1\" class=\"data row4 col1\" >0.651471</td>\n",
              "      <td id=\"T_ea833_row4_col2\" class=\"data row4 col2\" >0.942327</td>\n",
              "      <td id=\"T_ea833_row4_col3\" class=\"data row4 col3\" >0.942327</td>\n",
              "      <td id=\"T_ea833_row4_col4\" class=\"data row4 col4\" >1.000000</td>\n",
              "      <td id=\"T_ea833_row4_col5\" class=\"data row4 col5\" >nan</td>\n",
              "      <td id=\"T_ea833_row4_col6\" class=\"data row4 col6\" >0.625543</td>\n",
              "      <td id=\"T_ea833_row4_col7\" class=\"data row4 col7\" >-0.040675</td>\n",
              "      <td id=\"T_ea833_row4_col8\" class=\"data row4 col8\" >-0.032557</td>\n",
              "      <td id=\"T_ea833_row4_col9\" class=\"data row4 col9\" >0.014986</td>\n",
              "      <td id=\"T_ea833_row4_col10\" class=\"data row4 col10\" >0.006236</td>\n",
              "      <td id=\"T_ea833_row4_col11\" class=\"data row4 col11\" >0.017777</td>\n",
              "      <td id=\"T_ea833_row4_col12\" class=\"data row4 col12\" >-0.012299</td>\n",
              "      <td id=\"T_ea833_row4_col13\" class=\"data row4 col13\" >nan</td>\n",
              "      <td id=\"T_ea833_row4_col14\" class=\"data row4 col14\" >nan</td>\n",
              "    </tr>\n",
              "    <tr>\n",
              "      <th id=\"T_ea833_level0_row5\" class=\"row_heading level0 row5\" >gross margin percentage</th>\n",
              "      <td id=\"T_ea833_row5_col0\" class=\"data row5 col0\" >nan</td>\n",
              "      <td id=\"T_ea833_row5_col1\" class=\"data row5 col1\" >nan</td>\n",
              "      <td id=\"T_ea833_row5_col2\" class=\"data row5 col2\" >nan</td>\n",
              "      <td id=\"T_ea833_row5_col3\" class=\"data row5 col3\" >nan</td>\n",
              "      <td id=\"T_ea833_row5_col4\" class=\"data row5 col4\" >nan</td>\n",
              "      <td id=\"T_ea833_row5_col5\" class=\"data row5 col5\" >nan</td>\n",
              "      <td id=\"T_ea833_row5_col6\" class=\"data row5 col6\" >nan</td>\n",
              "      <td id=\"T_ea833_row5_col7\" class=\"data row5 col7\" >nan</td>\n",
              "      <td id=\"T_ea833_row5_col8\" class=\"data row5 col8\" >nan</td>\n",
              "      <td id=\"T_ea833_row5_col9\" class=\"data row5 col9\" >nan</td>\n",
              "      <td id=\"T_ea833_row5_col10\" class=\"data row5 col10\" >nan</td>\n",
              "      <td id=\"T_ea833_row5_col11\" class=\"data row5 col11\" >nan</td>\n",
              "      <td id=\"T_ea833_row5_col12\" class=\"data row5 col12\" >nan</td>\n",
              "      <td id=\"T_ea833_row5_col13\" class=\"data row5 col13\" >nan</td>\n",
              "      <td id=\"T_ea833_row5_col14\" class=\"data row5 col14\" >nan</td>\n",
              "    </tr>\n",
              "    <tr>\n",
              "      <th id=\"T_ea833_level0_row6\" class=\"row_heading level0 row6\" >gross income</th>\n",
              "      <td id=\"T_ea833_row6_col0\" class=\"data row6 col0\" >0.373541</td>\n",
              "      <td id=\"T_ea833_row6_col1\" class=\"data row6 col1\" >0.715042</td>\n",
              "      <td id=\"T_ea833_row6_col2\" class=\"data row6 col2\" >0.850590</td>\n",
              "      <td id=\"T_ea833_row6_col3\" class=\"data row6 col3\" >0.850590</td>\n",
              "      <td id=\"T_ea833_row6_col4\" class=\"data row6 col4\" >0.625543</td>\n",
              "      <td id=\"T_ea833_row6_col5\" class=\"data row6 col5\" >nan</td>\n",
              "      <td id=\"T_ea833_row6_col6\" class=\"data row6 col6\" >1.000000</td>\n",
              "      <td id=\"T_ea833_row6_col7\" class=\"data row6 col7\" >0.019059</td>\n",
              "      <td id=\"T_ea833_row6_col8\" class=\"data row6 col8\" >-0.308645</td>\n",
              "      <td id=\"T_ea833_row6_col9\" class=\"data row6 col9\" >0.381293</td>\n",
              "      <td id=\"T_ea833_row6_col10\" class=\"data row6 col10\" >0.013629</td>\n",
              "      <td id=\"T_ea833_row6_col11\" class=\"data row6 col11\" >-0.003034</td>\n",
              "      <td id=\"T_ea833_row6_col12\" class=\"data row6 col12\" >-0.022577</td>\n",
              "      <td id=\"T_ea833_row6_col13\" class=\"data row6 col13\" >nan</td>\n",
              "      <td id=\"T_ea833_row6_col14\" class=\"data row6 col14\" >nan</td>\n",
              "    </tr>\n",
              "    <tr>\n",
              "      <th id=\"T_ea833_level0_row7\" class=\"row_heading level0 row7\" >Rating</th>\n",
              "      <td id=\"T_ea833_row7_col0\" class=\"data row7 col0\" >-0.021008</td>\n",
              "      <td id=\"T_ea833_row7_col1\" class=\"data row7 col1\" >0.012128</td>\n",
              "      <td id=\"T_ea833_row7_col2\" class=\"data row7 col2\" >-0.019238</td>\n",
              "      <td id=\"T_ea833_row7_col3\" class=\"data row7 col3\" >-0.019238</td>\n",
              "      <td id=\"T_ea833_row7_col4\" class=\"data row7 col4\" >-0.040675</td>\n",
              "      <td id=\"T_ea833_row7_col5\" class=\"data row7 col5\" >nan</td>\n",
              "      <td id=\"T_ea833_row7_col6\" class=\"data row7 col6\" >0.019059</td>\n",
              "      <td id=\"T_ea833_row7_col7\" class=\"data row7 col7\" >1.000000</td>\n",
              "      <td id=\"T_ea833_row7_col8\" class=\"data row7 col8\" >-0.129504</td>\n",
              "      <td id=\"T_ea833_row7_col9\" class=\"data row7 col9\" >0.174698</td>\n",
              "      <td id=\"T_ea833_row7_col10\" class=\"data row7 col10\" >-0.001487</td>\n",
              "      <td id=\"T_ea833_row7_col11\" class=\"data row7 col11\" >-0.051522</td>\n",
              "      <td id=\"T_ea833_row7_col12\" class=\"data row7 col12\" >0.094118</td>\n",
              "      <td id=\"T_ea833_row7_col13\" class=\"data row7 col13\" >nan</td>\n",
              "      <td id=\"T_ea833_row7_col14\" class=\"data row7 col14\" >nan</td>\n",
              "    </tr>\n",
              "    <tr>\n",
              "      <th id=\"T_ea833_level0_row8\" class=\"row_heading level0 row8\" >Longitude</th>\n",
              "      <td id=\"T_ea833_row8_col0\" class=\"data row8 col0\" >-0.025503</td>\n",
              "      <td id=\"T_ea833_row8_col1\" class=\"data row8 col1\" >-0.181683</td>\n",
              "      <td id=\"T_ea833_row8_col2\" class=\"data row8 col2\" >-0.154348</td>\n",
              "      <td id=\"T_ea833_row8_col3\" class=\"data row8 col3\" >-0.154348</td>\n",
              "      <td id=\"T_ea833_row8_col4\" class=\"data row8 col4\" >-0.032557</td>\n",
              "      <td id=\"T_ea833_row8_col5\" class=\"data row8 col5\" >nan</td>\n",
              "      <td id=\"T_ea833_row8_col6\" class=\"data row8 col6\" >-0.308645</td>\n",
              "      <td id=\"T_ea833_row8_col7\" class=\"data row8 col7\" >-0.129504</td>\n",
              "      <td id=\"T_ea833_row8_col8\" class=\"data row8 col8\" >1.000000</td>\n",
              "      <td id=\"T_ea833_row8_col9\" class=\"data row8 col9\" >-0.858559</td>\n",
              "      <td id=\"T_ea833_row8_col10\" class=\"data row8 col10\" >-0.005958</td>\n",
              "      <td id=\"T_ea833_row8_col11\" class=\"data row8 col11\" >-0.027279</td>\n",
              "      <td id=\"T_ea833_row8_col12\" class=\"data row8 col12\" >0.028530</td>\n",
              "      <td id=\"T_ea833_row8_col13\" class=\"data row8 col13\" >nan</td>\n",
              "      <td id=\"T_ea833_row8_col14\" class=\"data row8 col14\" >nan</td>\n",
              "    </tr>\n",
              "    <tr>\n",
              "      <th id=\"T_ea833_level0_row9\" class=\"row_heading level0 row9\" >Latitude</th>\n",
              "      <td id=\"T_ea833_row9_col0\" class=\"data row9 col0\" >0.015714</td>\n",
              "      <td id=\"T_ea833_row9_col1\" class=\"data row9 col1\" >0.224890</td>\n",
              "      <td id=\"T_ea833_row9_col2\" class=\"data row9 col2\" >0.173671</td>\n",
              "      <td id=\"T_ea833_row9_col3\" class=\"data row9 col3\" >0.173671</td>\n",
              "      <td id=\"T_ea833_row9_col4\" class=\"data row9 col4\" >0.014986</td>\n",
              "      <td id=\"T_ea833_row9_col5\" class=\"data row9 col5\" >nan</td>\n",
              "      <td id=\"T_ea833_row9_col6\" class=\"data row9 col6\" >0.381293</td>\n",
              "      <td id=\"T_ea833_row9_col7\" class=\"data row9 col7\" >0.174698</td>\n",
              "      <td id=\"T_ea833_row9_col8\" class=\"data row9 col8\" >-0.858559</td>\n",
              "      <td id=\"T_ea833_row9_col9\" class=\"data row9 col9\" >1.000000</td>\n",
              "      <td id=\"T_ea833_row9_col10\" class=\"data row9 col10\" >-0.015140</td>\n",
              "      <td id=\"T_ea833_row9_col11\" class=\"data row9 col11\" >0.025972</td>\n",
              "      <td id=\"T_ea833_row9_col12\" class=\"data row9 col12\" >-0.033255</td>\n",
              "      <td id=\"T_ea833_row9_col13\" class=\"data row9 col13\" >nan</td>\n",
              "      <td id=\"T_ea833_row9_col14\" class=\"data row9 col14\" >nan</td>\n",
              "    </tr>\n",
              "    <tr>\n",
              "      <th id=\"T_ea833_level0_row10\" class=\"row_heading level0 row10\" >Month</th>\n",
              "      <td id=\"T_ea833_row10_col0\" class=\"data row10 col0\" >-0.005059</td>\n",
              "      <td id=\"T_ea833_row10_col1\" class=\"data row10 col1\" >0.023197</td>\n",
              "      <td id=\"T_ea833_row10_col2\" class=\"data row10 col2\" >0.010050</td>\n",
              "      <td id=\"T_ea833_row10_col3\" class=\"data row10 col3\" >0.010050</td>\n",
              "      <td id=\"T_ea833_row10_col4\" class=\"data row10 col4\" >0.006236</td>\n",
              "      <td id=\"T_ea833_row10_col5\" class=\"data row10 col5\" >nan</td>\n",
              "      <td id=\"T_ea833_row10_col6\" class=\"data row10 col6\" >0.013629</td>\n",
              "      <td id=\"T_ea833_row10_col7\" class=\"data row10 col7\" >-0.001487</td>\n",
              "      <td id=\"T_ea833_row10_col8\" class=\"data row10 col8\" >-0.005958</td>\n",
              "      <td id=\"T_ea833_row10_col9\" class=\"data row10 col9\" >-0.015140</td>\n",
              "      <td id=\"T_ea833_row10_col10\" class=\"data row10 col10\" >1.000000</td>\n",
              "      <td id=\"T_ea833_row10_col11\" class=\"data row10 col11\" >0.009234</td>\n",
              "      <td id=\"T_ea833_row10_col12\" class=\"data row10 col12\" >0.004085</td>\n",
              "      <td id=\"T_ea833_row10_col13\" class=\"data row10 col13\" >nan</td>\n",
              "      <td id=\"T_ea833_row10_col14\" class=\"data row10 col14\" >nan</td>\n",
              "    </tr>\n",
              "    <tr>\n",
              "      <th id=\"T_ea833_level0_row11\" class=\"row_heading level0 row11\" >Day</th>\n",
              "      <td id=\"T_ea833_row11_col0\" class=\"data row11 col0\" >0.022648</td>\n",
              "      <td id=\"T_ea833_row11_col1\" class=\"data row11 col1\" >-0.010314</td>\n",
              "      <td id=\"T_ea833_row11_col2\" class=\"data row11 col2\" >0.010679</td>\n",
              "      <td id=\"T_ea833_row11_col3\" class=\"data row11 col3\" >0.010679</td>\n",
              "      <td id=\"T_ea833_row11_col4\" class=\"data row11 col4\" >0.017777</td>\n",
              "      <td id=\"T_ea833_row11_col5\" class=\"data row11 col5\" >nan</td>\n",
              "      <td id=\"T_ea833_row11_col6\" class=\"data row11 col6\" >-0.003034</td>\n",
              "      <td id=\"T_ea833_row11_col7\" class=\"data row11 col7\" >-0.051522</td>\n",
              "      <td id=\"T_ea833_row11_col8\" class=\"data row11 col8\" >-0.027279</td>\n",
              "      <td id=\"T_ea833_row11_col9\" class=\"data row11 col9\" >0.025972</td>\n",
              "      <td id=\"T_ea833_row11_col10\" class=\"data row11 col10\" >0.009234</td>\n",
              "      <td id=\"T_ea833_row11_col11\" class=\"data row11 col11\" >1.000000</td>\n",
              "      <td id=\"T_ea833_row11_col12\" class=\"data row11 col12\" >-0.032775</td>\n",
              "      <td id=\"T_ea833_row11_col13\" class=\"data row11 col13\" >nan</td>\n",
              "      <td id=\"T_ea833_row11_col14\" class=\"data row11 col14\" >nan</td>\n",
              "    </tr>\n",
              "    <tr>\n",
              "      <th id=\"T_ea833_level0_row12\" class=\"row_heading level0 row12\" >Weekday</th>\n",
              "      <td id=\"T_ea833_row12_col0\" class=\"data row12 col0\" >-0.031861</td>\n",
              "      <td id=\"T_ea833_row12_col1\" class=\"data row12 col1\" >0.003778</td>\n",
              "      <td id=\"T_ea833_row12_col2\" class=\"data row12 col2\" >-0.017974</td>\n",
              "      <td id=\"T_ea833_row12_col3\" class=\"data row12 col3\" >-0.017974</td>\n",
              "      <td id=\"T_ea833_row12_col4\" class=\"data row12 col4\" >-0.012299</td>\n",
              "      <td id=\"T_ea833_row12_col5\" class=\"data row12 col5\" >nan</td>\n",
              "      <td id=\"T_ea833_row12_col6\" class=\"data row12 col6\" >-0.022577</td>\n",
              "      <td id=\"T_ea833_row12_col7\" class=\"data row12 col7\" >0.094118</td>\n",
              "      <td id=\"T_ea833_row12_col8\" class=\"data row12 col8\" >0.028530</td>\n",
              "      <td id=\"T_ea833_row12_col9\" class=\"data row12 col9\" >-0.033255</td>\n",
              "      <td id=\"T_ea833_row12_col10\" class=\"data row12 col10\" >0.004085</td>\n",
              "      <td id=\"T_ea833_row12_col11\" class=\"data row12 col11\" >-0.032775</td>\n",
              "      <td id=\"T_ea833_row12_col12\" class=\"data row12 col12\" >1.000000</td>\n",
              "      <td id=\"T_ea833_row12_col13\" class=\"data row12 col13\" >nan</td>\n",
              "      <td id=\"T_ea833_row12_col14\" class=\"data row12 col14\" >nan</td>\n",
              "    </tr>\n",
              "    <tr>\n",
              "      <th id=\"T_ea833_level0_row13\" class=\"row_heading level0 row13\" >Hour</th>\n",
              "      <td id=\"T_ea833_row13_col0\" class=\"data row13 col0\" >nan</td>\n",
              "      <td id=\"T_ea833_row13_col1\" class=\"data row13 col1\" >nan</td>\n",
              "      <td id=\"T_ea833_row13_col2\" class=\"data row13 col2\" >nan</td>\n",
              "      <td id=\"T_ea833_row13_col3\" class=\"data row13 col3\" >nan</td>\n",
              "      <td id=\"T_ea833_row13_col4\" class=\"data row13 col4\" >nan</td>\n",
              "      <td id=\"T_ea833_row13_col5\" class=\"data row13 col5\" >nan</td>\n",
              "      <td id=\"T_ea833_row13_col6\" class=\"data row13 col6\" >nan</td>\n",
              "      <td id=\"T_ea833_row13_col7\" class=\"data row13 col7\" >nan</td>\n",
              "      <td id=\"T_ea833_row13_col8\" class=\"data row13 col8\" >nan</td>\n",
              "      <td id=\"T_ea833_row13_col9\" class=\"data row13 col9\" >nan</td>\n",
              "      <td id=\"T_ea833_row13_col10\" class=\"data row13 col10\" >nan</td>\n",
              "      <td id=\"T_ea833_row13_col11\" class=\"data row13 col11\" >nan</td>\n",
              "      <td id=\"T_ea833_row13_col12\" class=\"data row13 col12\" >nan</td>\n",
              "      <td id=\"T_ea833_row13_col13\" class=\"data row13 col13\" >nan</td>\n",
              "      <td id=\"T_ea833_row13_col14\" class=\"data row13 col14\" >nan</td>\n",
              "    </tr>\n",
              "    <tr>\n",
              "      <th id=\"T_ea833_level0_row14\" class=\"row_heading level0 row14\" >minute</th>\n",
              "      <td id=\"T_ea833_row14_col0\" class=\"data row14 col0\" >nan</td>\n",
              "      <td id=\"T_ea833_row14_col1\" class=\"data row14 col1\" >nan</td>\n",
              "      <td id=\"T_ea833_row14_col2\" class=\"data row14 col2\" >nan</td>\n",
              "      <td id=\"T_ea833_row14_col3\" class=\"data row14 col3\" >nan</td>\n",
              "      <td id=\"T_ea833_row14_col4\" class=\"data row14 col4\" >nan</td>\n",
              "      <td id=\"T_ea833_row14_col5\" class=\"data row14 col5\" >nan</td>\n",
              "      <td id=\"T_ea833_row14_col6\" class=\"data row14 col6\" >nan</td>\n",
              "      <td id=\"T_ea833_row14_col7\" class=\"data row14 col7\" >nan</td>\n",
              "      <td id=\"T_ea833_row14_col8\" class=\"data row14 col8\" >nan</td>\n",
              "      <td id=\"T_ea833_row14_col9\" class=\"data row14 col9\" >nan</td>\n",
              "      <td id=\"T_ea833_row14_col10\" class=\"data row14 col10\" >nan</td>\n",
              "      <td id=\"T_ea833_row14_col11\" class=\"data row14 col11\" >nan</td>\n",
              "      <td id=\"T_ea833_row14_col12\" class=\"data row14 col12\" >nan</td>\n",
              "      <td id=\"T_ea833_row14_col13\" class=\"data row14 col13\" >nan</td>\n",
              "      <td id=\"T_ea833_row14_col14\" class=\"data row14 col14\" >nan</td>\n",
              "    </tr>\n",
              "  </tbody>\n",
              "</table>\n"
            ]
          },
          "metadata": {},
          "execution_count": 57
        }
      ]
    },
    {
      "cell_type": "markdown",
      "source": [
        "# **Bivariate Analysis**\n",
        "\n",
        "To know the relation between 2 variables."
      ],
      "metadata": {
        "id": "TE04V4r1p5rv"
      }
    },
    {
      "cell_type": "code",
      "source": [
        "def grouped_analysis(col,hue=None):\n",
        "    \n",
        "    \n",
        "    sales_grouped= sales_data2[[col,'Total']].groupby(col).sum()                \n",
        "    mean_ratings = sales_data2[[col,'Rating']].groupby(col).mean()             \n",
        "    aov  = sales_data2[[col,'Total']].groupby(col).mean()                     \n",
        "    mean_units_qty = sales_data2[[col,'Quantity']].groupby(col).mean()         \n",
        "\n",
        "    fig, axes=plt.subplots(nrows =2,ncols=2,figsize=(20,8))                    \n",
        "    axes[0,0].set_title(\"Sales by \" + col , size = 25)                           \n",
        "    axes[0,0].set_xticklabels(axes[0,0].get_xticklabels(), fontsize=10)\n",
        "   \n",
        "    axes[0,0].pie(sales_grouped['Total'], labels = sales_grouped.index, autopct= \"%0.2f%%\")\n",
        "\n",
        "\n",
        "    axes[0,1].set_title(\"AOV by \"  + col,size = 25 )                              \n",
        "    axes[0,1].set_xticklabels(axes[0,0].get_xticklabels(), fontsize=20)    \n",
        "    axes[0,1].set_xlabel( axes[0,0].get_xticklabels(),fontsize=10)\n",
        "    axes[0,1].set_ylabel( axes[0,0].get_yticklabels(),fontsize=10)\n",
        "    sns.barplot(x=aov.index, y='Total', color=\"#f7a516\",data=aov,ax=axes[0,1]) \n",
        "                                                    \n",
        "    \n",
        "    \n",
        "    axes[1,0].set_title(\"Mean Ratings by \" + col,size = 25 )                     \n",
        "    axes[1,0].set_xlabel( axes[0,0].get_xticklabels(),fontsize=20)\n",
        "    axes[1,0].set_ylabel( axes[0,0].get_yticklabels(),fontsize=20)\n",
        "    sns.barplot(y=mean_ratings.index, x='Rating', color=\"#305cb0\",data=mean_ratings,ax=axes[1,0],orient='h')\n",
        "\n",
        "    \n",
        "    axes[1,1].set_title(\"Mean Units Qty by \" + col,size = 25 )                   \n",
        "    axes[1,1].set_xlabel( axes[0,0].get_xticklabels(),fontsize=20)\n",
        "    axes[1,1].set_ylabel( axes[0,0].get_yticklabels(),fontsize=20)\n",
        "    sns.barplot(y=mean_units_qty.index, x='Quantity', color=\"#712f80\",data=mean_units_qty,ax=axes[1,1],orient='h')\n",
        "\n",
        "    plt.tight_layout()\n",
        "    \n"
      ],
      "metadata": {
        "id": "aS91mQcmn0qa"
      },
      "execution_count": null,
      "outputs": []
    },
    {
      "cell_type": "code",
      "source": [
        "grouped_analysis(\"City\")"
      ],
      "metadata": {
        "colab": {
          "base_uri": "https://localhost:8080/",
          "height": 545
        },
        "id": "ktxik8y1P98C",
        "outputId": "e7c96800-aba3-4a37-b47f-a31f8c1d3d9d"
      },
      "execution_count": null,
      "outputs": [
        {
          "output_type": "stream",
          "name": "stderr",
          "text": [
            "<ipython-input-58-08aa6790a380>:11: UserWarning: FixedFormatter should only be used together with FixedLocator\n",
            "  axes[0,0].set_xticklabels(axes[0,0].get_xticklabels(), fontsize=10)\n"
          ]
        },
        {
          "output_type": "display_data",
          "data": {
            "text/plain": [
              "<Figure size 1440x576 with 4 Axes>"
            ],
            "image/png": "[encoded data removed]"
          },
          "metadata": {
            "needs_background": "light"
          }
        }
      ]
    },
    {
      "cell_type": "markdown",
      "source": [
        "**Insights**\n",
        "\n",
        "- Yangon city sales is least with 27.65%.\n",
        "- The highest AOV is from Mandalay and the lowest is from Yangon.\n",
        "- Average rating also low at Yangon as compare to other city.\n",
        "- Average unit Qnt at mandalay is high and lowest is Yangon.\n",
        "- All of above Yangon city needs improvement."
      ],
      "metadata": {
        "id": "mmyQiEkQACD8"
      }
    },
    {
      "cell_type": "code",
      "source": [
        "grouped_analysis(\"Customer type\")"
      ],
      "metadata": {
        "colab": {
          "base_uri": "https://localhost:8080/",
          "height": 545
        },
        "id": "xsnM_ZWmQANC",
        "outputId": "586ab4ea-4cf4-472b-f875-91d11fda614f"
      },
      "execution_count": null,
      "outputs": [
        {
          "output_type": "stream",
          "name": "stderr",
          "text": [
            "<ipython-input-58-08aa6790a380>:11: UserWarning: FixedFormatter should only be used together with FixedLocator\n",
            "  axes[0,0].set_xticklabels(axes[0,0].get_xticklabels(), fontsize=10)\n"
          ]
        },
        {
          "output_type": "display_data",
          "data": {
            "text/plain": [
              "<Figure size 1440x576 with 4 Axes>"
            ],
            "image/png": "[encoded data removed]"
          },
          "metadata": {
            "needs_background": "light"
          }
        }
      ]
    },
    {
      "cell_type": "markdown",
      "source": [
        "**Insights**\n",
        "\n",
        "- If you look at the sales according to graph sales throught members are not that much expected.\n",
        "- Average rating from both customer type are quite similar.\n",
        "- Major of product qnt purches by members.\n",
        "- Company need to more focus on their members customer."
      ],
      "metadata": {
        "id": "ppQwLcGBCNKt"
      }
    },
    {
      "cell_type": "code",
      "source": [
        "grouped_analysis(\"Product line\")"
      ],
      "metadata": {
        "colab": {
          "base_uri": "https://localhost:8080/",
          "height": 546
        },
        "id": "7bEUBV6RQEXi",
        "outputId": "70ed0c4e-6a84-498e-c9e8-6292431ab34f"
      },
      "execution_count": null,
      "outputs": [
        {
          "output_type": "stream",
          "name": "stderr",
          "text": [
            "<ipython-input-58-08aa6790a380>:11: UserWarning: FixedFormatter should only be used together with FixedLocator\n",
            "  axes[0,0].set_xticklabels(axes[0,0].get_xticklabels(), fontsize=10)\n"
          ]
        },
        {
          "output_type": "display_data",
          "data": {
            "text/plain": [
              "<Figure size 1440x576 with 4 Axes>"
            ],
            "image/png": "[encoded data removed]"
          },
          "metadata": {
            "needs_background": "light"
          }
        }
      ]
    },
    {
      "cell_type": "markdown",
      "source": [
        "**Insights**\n",
        "\n",
        "- According to the graph major of the sales are from 'health and beauty','sports and travel' and 'fashion accessories'.\n",
        "- Highest AOV is from food and beverages.\n",
        "- Every productline's average rating are between 7 to 8.\n",
        "- Units Qty are also between 7 to 8."
      ],
      "metadata": {
        "id": "N4PeUzigIkIz"
      }
    },
    {
      "cell_type": "code",
      "source": [
        "grouped_analysis(\"Gender\")"
      ],
      "metadata": {
        "colab": {
          "base_uri": "https://localhost:8080/",
          "height": 545
        },
        "id": "K5IocV4LQI1r",
        "outputId": "46d84fb5-cd42-4e0f-c300-442ee5954870"
      },
      "execution_count": null,
      "outputs": [
        {
          "output_type": "stream",
          "name": "stderr",
          "text": [
            "<ipython-input-58-08aa6790a380>:11: UserWarning: FixedFormatter should only be used together with FixedLocator\n",
            "  axes[0,0].set_xticklabels(axes[0,0].get_xticklabels(), fontsize=10)\n"
          ]
        },
        {
          "output_type": "display_data",
          "data": {
            "text/plain": [
              "<Figure size 1440x576 with 4 Axes>"
            ],
            "image/png": "[encoded data removed]"
          },
          "metadata": {
            "needs_background": "light"
          }
        }
      ]
    },
    {
      "cell_type": "markdown",
      "source": [
        "**Insights**\n",
        "\n",
        "- Most of the customer are female . may be major of product are female oriented.\n",
        "- Female AOV is high.\n",
        "- Both genders average ratings are not much different.its more than 7.\n",
        "- Female average units qty is high compare to male."
      ],
      "metadata": {
        "id": "MCQJDw2QKsPe"
      }
    },
    {
      "cell_type": "code",
      "source": [
        "  grouped_analysis(\"Payment\")"
      ],
      "metadata": {
        "colab": {
          "base_uri": "https://localhost:8080/",
          "height": 545
        },
        "id": "pyyVRW35Q5NY",
        "outputId": "dd3e838a-9a07-489f-a81a-e57d5774adf1"
      },
      "execution_count": null,
      "outputs": [
        {
          "output_type": "stream",
          "name": "stderr",
          "text": [
            "<ipython-input-58-08aa6790a380>:11: UserWarning: FixedFormatter should only be used together with FixedLocator\n",
            "  axes[0,0].set_xticklabels(axes[0,0].get_xticklabels(), fontsize=10)\n"
          ]
        },
        {
          "output_type": "display_data",
          "data": {
            "text/plain": [
              "<Figure size 1440x576 with 4 Axes>"
            ],
            "image/png": "[encoded data removed]"
          },
          "metadata": {
            "needs_background": "light"
          }
        }
      ]
    },
    {
      "cell_type": "markdown",
      "source": [
        "**Insights**\n",
        "\n",
        "- For payment customer use all payment method.\n",
        "- Major of payment pay throught credit card.\n",
        "- All average rating by payment method are not much different."
      ],
      "metadata": {
        "id": "BjX2LrhsMLvZ"
      }
    }
  ]
}